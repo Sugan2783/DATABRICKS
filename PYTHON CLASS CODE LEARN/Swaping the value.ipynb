{
 "cells": [
  {
   "cell_type": "code",
   "execution_count": 0,
   "metadata": {
    "application/vnd.databricks.v1+cell": {
     "cellMetadata": {},
     "inputWidgets": {},
     "nuid": "97846390-5e0d-4995-8ca8-ab5f69152892",
     "showTitle": false,
     "tableResultSettingsMap": {},
     "title": ""
    }
   },
   "outputs": [],
   "source": [
    "1) Assignments for this week\n",
    "\n",
    "A) Swag 2 variables without using a 3rd variable\n",
    "\n",
    "a = 10\n",
    "b = 20\n",
    "\n",
    "b=10\n",
    "a=20\n",
    "\n",
    "2) Practise different options Python Datastructures\n",
    "\n",
    "\n",
    "String : Alankrutha\n",
    "List : Priyanka\n",
    "Tuples : Krush\n",
    "Dictionary : Geethu\n",
    "Sets : Uma\n",
    "Arrays : @Prasanthi"
   ]
  },
  {
   "cell_type": "code",
   "execution_count": 0,
   "metadata": {
    "application/vnd.databricks.v1+cell": {
     "cellMetadata": {
      "byteLimit": 2048000,
      "rowLimit": 10000
     },
     "inputWidgets": {},
     "nuid": "19115e19-b698-44c1-bc22-c89840a7ca10",
     "showTitle": false,
     "tableResultSettingsMap": {},
     "title": ""
    }
   },
   "outputs": [],
   "source": [
    "a, b = 10, 20\n",
    "print(f\"before swap a and b value is :  a = {a} \\n\\t\\t\\t\\tb = {b}\")\n",
    "\n",
    "if a == 10 and b == 20:\n",
    "    a, b = b, a\n",
    "\n",
    "\n",
    "print(f\"a value is\", a)\n",
    "print(f\"b value is\", b)\n"
   ]
  },
  {
   "cell_type": "code",
   "execution_count": 0,
   "metadata": {
    "application/vnd.databricks.v1+cell": {
     "cellMetadata": {
      "byteLimit": 2048000,
      "rowLimit": 10000
     },
     "inputWidgets": {},
     "nuid": "8e9feb06-b463-41b5-91e3-78431329d32a",
     "showTitle": false,
     "tableResultSettingsMap": {},
     "title": ""
    }
   },
   "outputs": [],
   "source": [
    "# A) Swap 2 variables without using a 3rd variable\n",
    "\n",
    "# a = 10\n",
    "# b = 20\n",
    "\n",
    "# b=10\n",
    "# a=20\n",
    "\n",
    "\n",
    "a = 10\n",
    "b = 20\n",
    "print(a,b)\n",
    "\n",
    "\n",
    "def swapval(x,y):\n",
    "    a, b = x, y \n",
    "    if a == x and b == y:\n",
    "        a, b = b, a\n",
    "        return a, b\n",
    "\n",
    "sval = swapval(10, 20)\n",
    "print(sval[0], sval[1])\n",
    "\n",
    "print(f\"a value is =\", sval[0])\n",
    "print(f\"b value is =\", sval[1])\n"
   ]
  },
  {
   "cell_type": "code",
   "execution_count": 0,
   "metadata": {
    "application/vnd.databricks.v1+cell": {
     "cellMetadata": {
      "byteLimit": 2048000,
      "rowLimit": 10000
     },
     "inputWidgets": {},
     "nuid": "ef8048e6-ee9f-44f8-966c-ceda6f1fc5ee",
     "showTitle": false,
     "tableResultSettingsMap": {},
     "title": ""
    }
   },
   "outputs": [],
   "source": [
    "# Swap two variables without using a third variable\n",
    "a = 10\n",
    "b = 20\n",
    "a, b = b, a\n",
    "print(f\"a = {a}, b = {b}\")"
   ]
  },
  {
   "cell_type": "code",
   "execution_count": 0,
   "metadata": {
    "application/vnd.databricks.v1+cell": {
     "cellMetadata": {
      "byteLimit": 2048000,
      "rowLimit": 10000
     },
     "inputWidgets": {},
     "nuid": "0b2a2cd8-c932-4522-a2d3-9dce0410e2b2",
     "showTitle": false,
     "tableResultSettingsMap": {},
     "title": ""
    }
   },
   "outputs": [],
   "source": [
    "# Swap two variables without using a third variable using arithmetic operations\n",
    "a = 10\n",
    "b = 20\n",
    "a = a + b\n",
    "b = a - b\n",
    "a = a - b\n",
    "print(f\"a = {a}, b = {b}\")"
   ]
  },
  {
   "cell_type": "code",
   "execution_count": 0,
   "metadata": {
    "application/vnd.databricks.v1+cell": {
     "cellMetadata": {
      "byteLimit": 2048000,
      "rowLimit": 10000
     },
     "inputWidgets": {},
     "nuid": "e57be429-7c8f-4ada-a803-aae95242567a",
     "showTitle": false,
     "tableResultSettingsMap": {},
     "title": ""
    }
   },
   "outputs": [],
   "source": [
    "# Swap two variables without using a third variable using XOR bitwise operation\n",
    "a = 10\n",
    "b = 20\n",
    "a = a ^ b\n",
    "b = a ^ b\n",
    "a = a ^ b\n",
    "print(f\"a = {a}, b = {b}\")"
   ]
  },
  {
   "cell_type": "code",
   "execution_count": 0,
   "metadata": {
    "application/vnd.databricks.v1+cell": {
     "cellMetadata": {
      "byteLimit": 2048000,
      "rowLimit": 10000
     },
     "inputWidgets": {},
     "nuid": "b8a45804-c8bd-4929-a8f0-289e12214742",
     "showTitle": false,
     "tableResultSettingsMap": {},
     "title": ""
    }
   },
   "outputs": [],
   "source": [
    "s = \"geeksforGeeks\"\n",
    "s = s[0].upper() + s[1:5] + s[5].upper() + s[6:]  # create new string\n",
    "print(s)"
   ]
  },
  {
   "cell_type": "code",
   "execution_count": 0,
   "metadata": {
    "application/vnd.databricks.v1+cell": {
     "cellMetadata": {
      "byteLimit": 2048000,
      "rowLimit": 10000
     },
     "inputWidgets": {},
     "nuid": "d6911e98-15e3-4622-9273-aa67ece4a4ad",
     "showTitle": false,
     "tableResultSettingsMap": {},
     "title": ""
    }
   },
   "outputs": [],
   "source": [
    "s1 = \"Hello\"\n",
    "s2 = \"World\"\n",
    "print(s1 + ' ' + s2)"
   ]
  },
  {
   "cell_type": "code",
   "execution_count": 0,
   "metadata": {
    "application/vnd.databricks.v1+cell": {
     "cellMetadata": {
      "byteLimit": 2048000,
      "rowLimit": 10000
     },
     "inputWidgets": {},
     "nuid": "d02dd34d-79c4-4c9e-8319-8756c90c2d20",
     "showTitle": false,
     "tableResultSettingsMap": {},
     "title": ""
    }
   },
   "outputs": [],
   "source": [
    "s = \"GeeksforGeeks\"\n",
    "print(\"Geeks\" in s)\n",
    "print(\"GfG\" in s)"
   ]
  },
  {
   "cell_type": "code",
   "execution_count": 0,
   "metadata": {
    "application/vnd.databricks.v1+cell": {
     "cellMetadata": {
      "byteLimit": 2048000,
      "rowLimit": 10000
     },
     "inputWidgets": {},
     "nuid": "8aeb512c-5585-4652-9a91-df45fe9bfa33",
     "showTitle": false,
     "tableResultSettingsMap": {},
     "title": ""
    }
   },
   "outputs": [],
   "source": [
    "n = 42\n",
    "\n",
    "s = \"{}\".format(n)\n",
    "print(s)"
   ]
  },
  {
   "cell_type": "code",
   "execution_count": 0,
   "metadata": {
    "application/vnd.databricks.v1+cell": {
     "cellMetadata": {
      "byteLimit": 2048000,
      "rowLimit": 10000
     },
     "inputWidgets": {},
     "nuid": "2d8d2eb1-147d-4b3b-a512-5a878bb6951d",
     "showTitle": false,
     "tableResultSettingsMap": {},
     "title": ""
    }
   },
   "outputs": [],
   "source": [
    "n = 42\n",
    "\n",
    "s = \"%s\" % n\n",
    "print(s)\n",
    "\n",
    "\n",
    "s = \"I\\nLove\\tPython\"\n",
    "print(repr(s))\n",
    "print(s)\n"
   ]
  },
  {
   "cell_type": "code",
   "execution_count": 0,
   "metadata": {
    "application/vnd.databricks.v1+cell": {
     "cellMetadata": {
      "byteLimit": 2048000,
      "rowLimit": 10000
     },
     "inputWidgets": {},
     "nuid": "24b113b4-b3a7-4364-9cbf-4147b3147584",
     "showTitle": false,
     "tableResultSettingsMap": {},
     "title": ""
    }
   },
   "outputs": [],
   "source": [
    "squares = [x**2 for x in range(1, 6)]\n",
    "print(squares)\n",
    "\n",
    "squares =[]\n",
    "for x in range(1,6):\n",
    "    squares.append(x**2)\n",
    "print(squares)\n",
    "\n",
    "\n",
    "  "
   ]
  },
  {
   "cell_type": "code",
   "execution_count": 0,
   "metadata": {
    "application/vnd.databricks.v1+cell": {
     "cellMetadata": {
      "byteLimit": 2048000,
      "rowLimit": 10000
     },
     "inputWidgets": {},
     "nuid": "14b8f763-f11c-482a-b3fa-a5ad6df9d184",
     "showTitle": false,
     "tableResultSettingsMap": {},
     "title": ""
    }
   },
   "outputs": [],
   "source": [
    "a = [1, 2, 3, 4] \n",
    "b = a \n",
    "c = a.copy() \n",
    "d = a\n",
    "a[0] = [5] \n",
    "print(a, b, c, d)"
   ]
  },
  {
   "cell_type": "code",
   "execution_count": 0,
   "metadata": {
    "application/vnd.databricks.v1+cell": {
     "cellMetadata": {
      "byteLimit": 2048000,
      "rowLimit": 10000
     },
     "inputWidgets": {},
     "nuid": "fb301f1c-0dc6-47c8-9421-9d5bc44361fd",
     "showTitle": false,
     "tableResultSettingsMap": {},
     "title": ""
    }
   },
   "outputs": [],
   "source": [
    "a = [54,34,5,6,7]\n",
    "for i in a:\n",
    "    print(i, end = ' ')\n"
   ]
  },
  {
   "cell_type": "code",
   "execution_count": 0,
   "metadata": {
    "application/vnd.databricks.v1+cell": {
     "cellMetadata": {
      "byteLimit": 2048000,
      "rowLimit": 10000
     },
     "inputWidgets": {},
     "nuid": "11f82440-d2c1-4ee7-b8bf-e72a0fcc5b37",
     "showTitle": false,
     "tableResultSettingsMap": {},
     "title": ""
    }
   },
   "outputs": [],
   "source": [
    "sum_res = 0\n",
    "\n",
    "a = [54,34,5,6,7]\n",
    "for i in a:\n",
    "    sum_res = sum_res + i\n",
    "print(sum_res)\n",
    "\n"
   ]
  },
  {
   "cell_type": "code",
   "execution_count": 0,
   "metadata": {
    "application/vnd.databricks.v1+cell": {
     "cellMetadata": {
      "byteLimit": 2048000,
      "rowLimit": 10000
     },
     "inputWidgets": {},
     "nuid": "1c3a9e1b-c25b-43c1-9c94-c42293cf2ab9",
     "showTitle": false,
     "tableResultSettingsMap": {},
     "title": ""
    }
   },
   "outputs": [],
   "source": [
    "sum_res = 0\n",
    "\n",
    "a = [54,34,5,6,7]\n",
    "for i in range(0, len(a)):\n",
    "    a[i] = a[i] + 1\n",
    "print(a)"
   ]
  },
  {
   "cell_type": "code",
   "execution_count": 0,
   "metadata": {
    "application/vnd.databricks.v1+cell": {
     "cellMetadata": {
      "byteLimit": 2048000,
      "rowLimit": 10000
     },
     "inputWidgets": {},
     "nuid": "e6d0fd00-c360-47f1-90bb-6398929ae478",
     "showTitle": false,
     "tableResultSettingsMap": {},
     "title": ""
    }
   },
   "outputs": [],
   "source": [
    "a = [54, 34, 5, 6, 7]\n",
    "sum_res = 0\n",
    "\n",
    "for i in range(0, len(a)):\n",
    "    sum_res = sum_res + a[i]\n",
    "print(sum_res)"
   ]
  },
  {
   "cell_type": "code",
   "execution_count": 0,
   "metadata": {
    "application/vnd.databricks.v1+cell": {
     "cellMetadata": {
      "byteLimit": 2048000,
      "rowLimit": 10000
     },
     "inputWidgets": {},
     "nuid": "79a10243-f39b-4ef7-94ff-fb1af6d094a0",
     "showTitle": false,
     "tableResultSettingsMap": {},
     "title": ""
    }
   },
   "outputs": [],
   "source": [
    "s = \"learnIT\"\n",
    "s = s[0].upper() + s[1:]\n",
    "print(s)"
   ]
  },
  {
   "cell_type": "code",
   "execution_count": 0,
   "metadata": {
    "application/vnd.databricks.v1+cell": {
     "cellMetadata": {
      "byteLimit": 2048000,
      "rowLimit": 10000
     },
     "inputWidgets": {},
     "nuid": "8c8cd624-08f3-4143-a20e-776648c2407a",
     "showTitle": false,
     "tableResultSettingsMap": {},
     "title": ""
    }
   },
   "outputs": [],
   "source": [
    "s = \"Hello All\"\n",
    "s = s[0].upper() + s[1:6] + s[6:].lower() \n",
    "print(s)\n",
    "print(s.replace(\"all\", \"alll\"))"
   ]
  },
  {
   "cell_type": "code",
   "execution_count": 0,
   "metadata": {
    "application/vnd.databricks.v1+cell": {
     "cellMetadata": {
      "byteLimit": 2048000,
      "rowLimit": 10000
     },
     "inputWidgets": {},
     "nuid": "785a4a78-acb6-41ff-b557-241e24a2fbf5",
     "showTitle": false,
     "tableResultSettingsMap": {},
     "title": ""
    }
   },
   "outputs": [],
   "source": [
    "s = \"hello All\"\n",
    "s = s[0].upper() + s[1:6] + s[6:].lower() \n",
    "a = s.find(\" \")\n",
    "b = s[a+1:].lower()\n",
    "c = s[0].upper() + s[1:a] + ' ' + b\n",
    "\n",
    "print(s)\n",
    "print(a)\n",
    "print(b)\n",
    "print(c)\n",
    "#print(s.replace(\"all\", \"alll\"))"
   ]
  },
  {
   "cell_type": "code",
   "execution_count": 0,
   "metadata": {
    "application/vnd.databricks.v1+cell": {
     "cellMetadata": {},
     "inputWidgets": {},
     "nuid": "3ad9ce3c-5d3c-433d-9d8d-d4bb68ac97db",
     "showTitle": false,
     "tableResultSettingsMap": {},
     "title": ""
    }
   },
   "outputs": [],
   "source": [
    "\n",
    "https://www.geeksforgeeks.org/python/python-string-exercise/\n",
    "\n",
    "\n",
    "LearnIT\n",
    "Unverified\n",
    "1:59 PM\n",
    "https://www.geeksforgeeks.org/python/python-string-exercise/"
   ]
  }
 ],
 "metadata": {
  "application/vnd.databricks.v1+notebook": {
   "computePreferences": {
    "hardware": {
     "accelerator": null,
     "gpuPoolId": null,
     "memory": null
    }
   },
   "dashboards": [],
   "environmentMetadata": {
    "base_environment": "",
    "environment_version": "4"
   },
   "inputWidgetPreferences": null,
   "language": "python",
   "notebookMetadata": {
    "pythonIndentUnit": 4
   },
   "notebookName": "Swaping the value",
   "widgets": {}
  },
  "language_info": {
   "name": "python"
  }
 },
 "nbformat": 4,
 "nbformat_minor": 0
}
