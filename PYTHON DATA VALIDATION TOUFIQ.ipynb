{
 "cells": [
  {
   "cell_type": "markdown",
   "metadata": {
    "application/vnd.databricks.v1+cell": {
     "cellMetadata": {
      "byteLimit": 2048000,
      "rowLimit": 10000
     },
     "inputWidgets": {},
     "nuid": "7543cd87-c21a-4a35-958c-5e420a107b4a",
     "showTitle": false,
     "tableResultSettingsMap": {},
     "title": ""
    }
   },
   "source": [
    "**DATA CLEANING**"
   ]
  },
  {
   "cell_type": "code",
   "execution_count": 0,
   "metadata": {
    "application/vnd.databricks.v1+cell": {
     "cellMetadata": {
      "byteLimit": 2048000,
      "rowLimit": 10000
     },
     "inputWidgets": {},
     "nuid": "a0e05244-62c0-49fd-95b0-bf2449fe1526",
     "showTitle": false,
     "tableResultSettingsMap": {},
     "title": ""
    }
   },
   "outputs": [],
   "source": [
    "from pyspark.sql.types import StructType,StructField, StringType, IntegerType,FloatType\n",
    "from pyspark.sql.functions import *\n",
    "from pyspark.sql import SparkSession\n",
    "\n",
    "import pandas as pd\n",
    "import numpy as np\n"
   ]
  },
  {
   "cell_type": "code",
   "execution_count": 0,
   "metadata": {
    "application/vnd.databricks.v1+cell": {
     "cellMetadata": {
      "byteLimit": 2048000,
      "rowLimit": 10000
     },
     "inputWidgets": {},
     "nuid": "2b6d01bc-56c5-4cb2-86f9-a995bbdddad3",
     "showTitle": false,
     "tableResultSettingsMap": {},
     "title": ""
    }
   },
   "outputs": [],
   "source": [
    "%pip install openpyxl"
   ]
  },
  {
   "cell_type": "code",
   "execution_count": 0,
   "metadata": {
    "application/vnd.databricks.v1+cell": {
     "cellMetadata": {
      "byteLimit": 2048000,
      "rowLimit": 10000
     },
     "inputWidgets": {},
     "nuid": "8739ff7e-ff3b-4707-938a-bf6930339502",
     "showTitle": false,
     "tableResultSettingsMap": {},
     "title": ""
    }
   },
   "outputs": [],
   "source": [
    "dbutils.library.restartPython()"
   ]
  },
  {
   "cell_type": "code",
   "execution_count": 0,
   "metadata": {
    "application/vnd.databricks.v1+cell": {
     "cellMetadata": {
      "byteLimit": 2048000,
      "rowLimit": 10000
     },
     "inputWidgets": {},
     "nuid": "95f16504-8c8b-40cc-aaeb-b0d1500f2ab4",
     "showTitle": false,
     "tableResultSettingsMap": {},
     "title": ""
    }
   },
   "outputs": [],
   "source": [
    "from pyspark.sql.types import StructType,StructField, StringType, IntegerType,FloatType\n",
    "from pyspark.sql.functions import *\n",
    "from pyspark.sql import SparkSession\n",
    "\n",
    "import pandas as pd\n",
    "import numpy as np"
   ]
  },
  {
   "cell_type": "code",
   "execution_count": 0,
   "metadata": {
    "application/vnd.databricks.v1+cell": {
     "cellMetadata": {
      "byteLimit": 2048000,
      "rowLimit": 10000
     },
     "inputWidgets": {},
     "nuid": "3c7a98e2-5d65-490a-8ca0-bd9e5a416ca9",
     "showTitle": false,
     "tableResultSettingsMap": {},
     "title": ""
    }
   },
   "outputs": [],
   "source": [
    "##spark = SparkSession.builder.appName(\"DATA VALIDATION\").getOrCreate()\n",
    "\n",
    "df = pd.read_excel(\"/Volumes/dev/bronze/transactions/PAN Number Validation Dataset.xlsx\")\n",
    "print(df.head(10))\n",
    "total_records = len(df)\n",
    "print('Total Records= ', total_records)\n",
    "\n"
   ]
  },
  {
   "cell_type": "code",
   "execution_count": 0,
   "metadata": {
    "application/vnd.databricks.v1+cell": {
     "cellMetadata": {
      "byteLimit": 2048000,
      "rowLimit": 10000
     },
     "inputWidgets": {},
     "nuid": "b8a575fd-3c11-41f2-957b-d2418e7a7380",
     "showTitle": true,
     "tableResultSettingsMap": {},
     "title": "Removing space and convert it into upper case"
    }
   },
   "outputs": [],
   "source": [
    "df['Pan_Numbers'] = df['Pan_Numbers'].astype(\"string\").str.strip().str.upper()\n",
    "print(df.head(10))"
   ]
  },
  {
   "cell_type": "code",
   "execution_count": 0,
   "metadata": {
    "application/vnd.databricks.v1+cell": {
     "cellMetadata": {
      "byteLimit": 2048000,
      "rowLimit": 10000
     },
     "inputWidgets": {},
     "nuid": "071d9ef5-ff20-4f1d-8918-ee8852c8d8a1",
     "showTitle": true,
     "tableResultSettingsMap": {},
     "title": "Missing Value"
    }
   },
   "outputs": [],
   "source": [
    "df_m = print(df['Pan_Numbers'] == '')"
   ]
  },
  {
   "cell_type": "code",
   "execution_count": 0,
   "metadata": {
    "application/vnd.databricks.v1+cell": {
     "cellMetadata": {
      "byteLimit": 2048000,
      "rowLimit": 10000
     },
     "inputWidgets": {},
     "nuid": "cb820aaf-daa2-43dc-9cba-d5d94907ea44",
     "showTitle": false,
     "tableResultSettingsMap": {},
     "title": ""
    }
   },
   "outputs": [],
   "source": [
    "print(df['Pan_Numbers'].isna())"
   ]
  },
  {
   "cell_type": "code",
   "execution_count": 0,
   "metadata": {
    "application/vnd.databricks.v1+cell": {
     "cellMetadata": {
      "byteLimit": 2048000,
      "rowLimit": 10000
     },
     "inputWidgets": {},
     "nuid": "39d175fe-522d-4ecf-a5a0-20e5636ba9f3",
     "showTitle": false,
     "tableResultSettingsMap": {},
     "title": ""
    }
   },
   "outputs": [],
   "source": [
    "df = df.replace({\"Pan_Nubers\":''},pd.NA).dropna(subset=\"Pan_Numbers\")\n",
    "#print(df[df['Pan_Numbers' == '']])\n",
    "print('Total_Records ', len(df))"
   ]
  },
  {
   "cell_type": "code",
   "execution_count": 0,
   "metadata": {
    "application/vnd.databricks.v1+cell": {
     "cellMetadata": {
      "byteLimit": 2048000,
      "rowLimit": 10000
     },
     "inputWidgets": {},
     "nuid": "1b408781-4010-4e94-a484-606be879cc9c",
     "showTitle": true,
     "tableResultSettingsMap": {},
     "title": "Duplicates"
    }
   },
   "outputs": [],
   "source": [
    "\n",
    "print('Total_Records =', len(df))\n",
    "print('Unique Records =', df['Pan_Numbers'].nunique())\n",
    "\n",
    "df = df.drop_duplicates(subset=\"Pan_Numbers\", keep='first')\n",
    "print('Total Records =', len(df))\n",
    "\n"
   ]
  },
  {
   "cell_type": "markdown",
   "metadata": {
    "application/vnd.databricks.v1+cell": {
     "cellMetadata": {
      "byteLimit": 2048000,
      "rowLimit": 10000
     },
     "inputWidgets": {},
     "nuid": "52fae42a-7fde-4249-80e0-b7cb9bdbb6ff",
     "showTitle": false,
     "tableResultSettingsMap": {},
     "title": ""
    }
   },
   "source": [
    "**VALIDATION**"
   ]
  },
  {
   "cell_type": "code",
   "execution_count": 0,
   "metadata": {
    "application/vnd.databricks.v1+cell": {
     "cellMetadata": {
      "byteLimit": 2048000,
      "rowLimit": 10000
     },
     "inputWidgets": {},
     "nuid": "9804acbf-1907-4bdf-89c5-5627cec36c22",
     "showTitle": false,
     "tableResultSettingsMap": {},
     "title": ""
    }
   },
   "outputs": [],
   "source": [
    "def adjusant_repitation(pan):\n",
    "  for i in range(len(pan)-1):\n",
    "    if pan[i] == pan[i+1]:\n",
    "      return True\n",
    "  return False\n",
    "\n",
    "print(adjusant_repitation('LMNOP'))\n",
    "print(adjusant_repitation('PQRSTT'))\n",
    "print(adjusant_repitation('AABBCC'))\n",
    "\n"
   ]
  },
  {
   "cell_type": "markdown",
   "metadata": {
    "application/vnd.databricks.v1+cell": {
     "cellMetadata": {
      "byteLimit": 2048000,
      "rowLimit": 10000
     },
     "inputWidgets": {},
     "nuid": "5c9cc684-8c7d-4c6a-a20e-a6315d90b822",
     "showTitle": false,
     "tableResultSettingsMap": {},
     "title": ""
    }
   },
   "source": [
    "using list comprehension"
   ]
  },
  {
   "cell_type": "code",
   "execution_count": 0,
   "metadata": {
    "application/vnd.databricks.v1+cell": {
     "cellMetadata": {
      "byteLimit": 2048000,
      "rowLimit": 10000
     },
     "inputWidgets": {},
     "nuid": "8d572247-182a-4d42-97cb-7090d8ace49b",
     "showTitle": false,
     "tableResultSettingsMap": {},
     "title": ""
    }
   },
   "outputs": [],
   "source": [
    "def adjusant_repitation1(pan):\n",
    "  return any(pan[i] == pan[i+1] for i in range(len(pan)-1))\n",
    "  \n",
    "print(adjusant_repitation1('LMNOP'))\n",
    "print(adjusant_repitation1('PQRSTT'))\n",
    "print(adjusant_repitation1('AABBCC'))"
   ]
  },
  {
   "cell_type": "code",
   "execution_count": 0,
   "metadata": {
    "application/vnd.databricks.v1+cell": {
     "cellMetadata": {
      "byteLimit": 2048000,
      "rowLimit": 10000
     },
     "inputWidgets": {},
     "nuid": "a8b76907-861b-443f-be86-e8ff2f556e74",
     "showTitle": true,
     "tableResultSettingsMap": {},
     "title": "Sequence Char Check"
    }
   },
   "outputs": [],
   "source": [
    "#check thw=e ascii val in sql\n",
    "# In python \n",
    "def is_sequence(pan):\n",
    "    for i in range(len(pan)-1):\n",
    "        if ord(pan[i+1]) - ord(pan[i]) != 1:\n",
    "            return False\n",
    "    return True\n",
    "print(is_sequence('LMNOP'))\n",
    "print(is_sequence('PQRSTT'))\n",
    "print(is_sequence('AABBCC'))"
   ]
  },
  {
   "cell_type": "code",
   "execution_count": 0,
   "metadata": {
    "application/vnd.databricks.v1+cell": {
     "cellMetadata": {
      "byteLimit": 2048000,
      "rowLimit": 10000
     },
     "inputWidgets": {},
     "nuid": "f2b6f0b6-6bb2-4720-b89b-2bf2e3dc9899",
     "showTitle": false,
     "tableResultSettingsMap": {},
     "title": ""
    }
   },
   "outputs": [],
   "source": [
    "def is_sequence(pan):\n",
    "\n",
    "    return all(ord(pan[i+1]) - ord(pan[i]) == 1 for i in range(len(pan)-1))\n",
    "\n",
    "print(is_sequence('LMNOP'))\n",
    "print(is_sequence('PQRSTT'))\n",
    "print(is_sequence('AABBCC'))"
   ]
  },
  {
   "cell_type": "code",
   "execution_count": 0,
   "metadata": {
    "application/vnd.databricks.v1+cell": {
     "cellMetadata": {
      "byteLimit": 2048000,
      "rowLimit": 10000
     },
     "inputWidgets": {},
     "nuid": "80720a33-87b6-4048-b096-35aee544f9a5",
     "showTitle": true,
     "tableResultSettingsMap": {},
     "title": "Valid Pan"
    }
   },
   "outputs": [],
   "source": [
    "def is_valid_pan(pan):\n",
    " \n",
    " if len(pan) != 10:\n",
    "    return False\n",
    "\n",
    "print(is_valid_pan('5526452344'))"
   ]
  },
  {
   "cell_type": "code",
   "execution_count": 0,
   "metadata": {
    "application/vnd.databricks.v1+cell": {
     "cellMetadata": {
      "byteLimit": 2048000,
      "rowLimit": 10000
     },
     "inputWidgets": {},
     "nuid": "99ddc46f-9ca4-41f3-a678-af04fa696021",
     "showTitle": true,
     "tableResultSettingsMap": {},
     "title": "CHECK PATTERN"
    }
   },
   "outputs": [],
   "source": [
    "import re\n",
    "\n",
    "def is_valid_pan(pan):\n",
    " \n",
    " if len(pan) != 10:\n",
    "    return False\n",
    "\n",
    " if re.match(r'^[A-Z]{5}[0-9]{4}[A-Z]$', pan):\n",
    "     return True\n",
    " else:\n",
    "     return False\n",
    " \n",
    "df[\"status\"] = df[\"Pan_Numbers\"].apply((lambda x: \"Valid\" if is_valid_pan(x) else \"Invalid\"))\n",
    "\n",
    "print(df.head(10))\n",
    "\n",
    "print(is_valid_pan('5526452344'))"
   ]
  },
  {
   "cell_type": "code",
   "execution_count": 0,
   "metadata": {
    "application/vnd.databricks.v1+cell": {
     "cellMetadata": {
      "byteLimit": 2048000,
      "rowLimit": 10000
     },
     "inputWidgets": {},
     "nuid": "7abcc233-219a-448b-8cc7-301b8af6f633",
     "showTitle": true,
     "tableResultSettingsMap": {},
     "title": "Find valid and Invalid Pan"
    }
   },
   "outputs": [],
   "source": [
    "valid_df =(df['status'] == 'Valid').sum()\n",
    "invalid_df = (df['status'] == 'Invalid').sum()\n",
    "#total_records = len(df)\n",
    "\n",
    "print(valid_df)\n",
    "print(invalid_df)\n",
    "misssing_cnt = total_records - (valid_df + invalid_df)\n",
    "print(misssing_cnt)\n"
   ]
  },
  {
   "cell_type": "code",
   "execution_count": 0,
   "metadata": {
    "application/vnd.databricks.v1+cell": {
     "cellMetadata": {
      "byteLimit": 2048000,
      "rowLimit": 10000
     },
     "inputWidgets": {},
     "nuid": "0361b900-e678-4dbf-b8ee-6c4746fd0040",
     "showTitle": true,
     "tableResultSettingsMap": {},
     "title": "Summary Of the result"
    }
   },
   "outputs": [],
   "source": [
    "df_summary = pd.DataFrame({\"TOTAL PROCESSED RECORDS\" : [total_records],\n",
    "                           \"TOTAL VALID RECORDS\" : [valid_df],\n",
    "                           \"TOTAL INVALID RECORDS\" : [invalid_df],\n",
    "                           \"TOTAL MISSING RECORDS\" : [misssing_cnt]\n",
    "                           })\n",
    "print(df_summary.head())"
   ]
  },
  {
   "cell_type": "code",
   "execution_count": 0,
   "metadata": {
    "application/vnd.databricks.v1+cell": {
     "cellMetadata": {
      "byteLimit": 2048000,
      "rowLimit": 10000
     },
     "inputWidgets": {},
     "nuid": "f0bb5651-e6c7-43ec-a6bb-e21dfeb02d7c",
     "showTitle": false,
     "tableResultSettingsMap": {},
     "title": ""
    }
   },
   "outputs": [],
   "source": [
    "df_summary.to_csv(\n",
    "  '/Volumes/dev/bronze/transactions/pan_card_summary.csv',\n",
    "  index=False\n",
    ")\n",
    "display(df_summary)"
   ]
  },
  {
   "cell_type": "code",
   "execution_count": 0,
   "metadata": {
    "application/vnd.databricks.v1+cell": {
     "cellMetadata": {
      "byteLimit": 2048000,
      "rowLimit": 10000
     },
     "inputWidgets": {},
     "nuid": "aec8ac26-9d80-4342-9205-d631bae0ad08",
     "showTitle": false,
     "tableResultSettingsMap": {},
     "title": ""
    }
   },
   "outputs": [],
   "source": [
    "with pd.ExcelWriter('pan_card_summary.xlsx') as writer:\n",
    "  df.to_excel(writer, sheet_name = \"Pan valiations\", index = False)\n",
    "  df_summary.to_excel(writer, sheet_name = \"Pan Summary\", index = False)\n",
    "display(df_summary)"
   ]
  },
  {
   "cell_type": "code",
   "execution_count": 0,
   "metadata": {
    "application/vnd.databricks.v1+cell": {
     "cellMetadata": {
      "byteLimit": 2048000,
      "rowLimit": 10000
     },
     "inputWidgets": {},
     "nuid": "3945124f-5674-449b-b13c-5011a1bdf157",
     "showTitle": false,
     "tableResultSettingsMap": {},
     "title": ""
    }
   },
   "outputs": [],
   "source": []
  }
 ],
 "metadata": {
  "application/vnd.databricks.v1+notebook": {
   "computePreferences": null,
   "dashboards": [],
   "environmentMetadata": {
    "base_environment": "",
    "environment_version": "3"
   },
   "inputWidgetPreferences": null,
   "language": "python",
   "notebookMetadata": {
    "pythonIndentUnit": 4
   },
   "notebookName": "PYTHON DATA VALIDATION TOUFIQ",
   "widgets": {}
  },
  "language_info": {
   "name": "python"
  }
 },
 "nbformat": 4,
 "nbformat_minor": 0
}
