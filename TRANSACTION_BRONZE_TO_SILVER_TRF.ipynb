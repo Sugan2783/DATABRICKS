{
 "cells": [
  {
   "cell_type": "code",
   "execution_count": 0,
   "metadata": {
    "application/vnd.databricks.v1+cell": {
     "cellMetadata": {
      "byteLimit": 2048000,
      "rowLimit": 10000
     },
     "inputWidgets": {},
     "nuid": "9ec23e20-870b-45a5-a7b3-5321b2b5f19d",
     "showTitle": false,
     "tableResultSettingsMap": {},
     "title": ""
    }
   },
   "outputs": [],
   "source": [
    "from pyspark.sql import SparkSession\n",
    "\n",
    "spark = SparkSession\\\n",
    "    .builder\\\n",
    "    .appName(\"TRANSACTIONS_SILVER_TRF\")\\\n",
    "    .config(\"spark.sql.shuffle.partitions\", 150)\\\n",
    "    .config(\"spark.executor.memory\", \"2g\")\\\n",
    "    .config(\"spark.executor.cores\", 4)\\\n",
    "    .config(\"spark.executor.instances\", 2)\\\n",
    "    .config(\"spark.driver.memory\", \"2g\")\\\n",
    "    .config(\"spark.sql.execution.arrow.maxRecordsPerBatch\", 10000)\\\n",
    "    .config(\"spark.sql.execution.arrow.enabled\", \"true\")\\\n",
    "    .config(\"spark.sql.adaptive.enabled\", \"true\")\\\n",
    "    .config(\"spark.sql.adaptive.coalescePartitions.enabled\", \"true\")\\\n",
    "    .config(\"spark.sql.adaptive.advisoryPartitionSizeInBytes\", \"128m\") \\\n",
    "    .config(\"spark.sql.adaptive.skewJoin.enabled\", \"true\")\\\n",
    "    .getOrCreate()"
   ]
  },
  {
   "cell_type": "code",
   "execution_count": 0,
   "metadata": {
    "application/vnd.databricks.v1+cell": {
     "cellMetadata": {
      "byteLimit": 2048000,
      "rowLimit": 10000
     },
     "inputWidgets": {},
     "nuid": "02b9b60b-f31a-43cc-868b-81273a07e78b",
     "showTitle": false,
     "tableResultSettingsMap": {},
     "title": ""
    }
   },
   "outputs": [],
   "source": [
    "from pyspark.sql.functions import *\n",
    "from delta.tables import *\n",
    "from pyspark.sql.types import *\n",
    "from pyspark.sql.window import Window\n",
    "\n"
   ]
  },
  {
   "cell_type": "code",
   "execution_count": 0,
   "metadata": {
    "application/vnd.databricks.v1+cell": {
     "cellMetadata": {
      "byteLimit": 2048000,
      "rowLimit": 10000
     },
     "inputWidgets": {},
     "nuid": "73061418-8151-4132-947b-a998631cfe2a",
     "showTitle": false,
     "tableResultSettingsMap": {},
     "title": ""
    }
   },
   "outputs": [],
   "source": [
    "df_trans = spark.read.format(\"csv\").option(\"inferSchema\",True).option(\"header\", True).load(\"/Volumes/dev/bronze/transactions/transactions_data.csv\")\n",
    "df_trans.display()"
   ]
  },
  {
   "cell_type": "code",
   "execution_count": 0,
   "metadata": {
    "application/vnd.databricks.v1+cell": {
     "cellMetadata": {
      "byteLimit": 2048000,
      "rowLimit": 10000
     },
     "inputWidgets": {},
     "nuid": "779a0b3c-61af-476a-b8ef-f0c0c244e478",
     "showTitle": false,
     "tableResultSettingsMap": {},
     "title": ""
    }
   },
   "outputs": [],
   "source": [
    "diff_ser_paiddt = df_trans.withColumn(\"datediff\", datediff(col(\"PaidDate\"),col(\"ServiceDate\"))).filter(col(\"datediff\") > 0).display()\n",
    "\n",
    "diff_ser_paiddt_invalid = df_trans.withColumn(\"datediff\", datediff(col(\"PaidDate\"),col(\"ServiceDate\"))).filter(col(\"datediff\") < 0).display()\n"
   ]
  },
  {
   "cell_type": "markdown",
   "metadata": {
    "application/vnd.databricks.v1+cell": {
     "cellMetadata": {},
     "inputWidgets": {},
     "nuid": "6b9ef48b-5efa-48cb-bd54-cd3984e79643",
     "showTitle": false,
     "tableResultSettingsMap": {},
     "title": ""
    }
   },
   "source": [
    "**remove non_alpha char**"
   ]
  },
  {
   "cell_type": "code",
   "execution_count": 0,
   "metadata": {
    "application/vnd.databricks.v1+cell": {
     "cellMetadata": {
      "byteLimit": 2048000,
      "rowLimit": 10000
     },
     "inputWidgets": {},
     "nuid": "2a578c76-78cb-4c96-89d8-28e9fda189c6",
     "showTitle": false,
     "tableResultSettingsMap": {},
     "title": ""
    }
   },
   "outputs": [],
   "source": [
    "print(list(df_trans.columns))"
   ]
  },
  {
   "cell_type": "code",
   "execution_count": 0,
   "metadata": {
    "application/vnd.databricks.v1+cell": {
     "cellMetadata": {
      "byteLimit": 2048000,
      "rowLimit": 10000
     },
     "inputWidgets": {},
     "nuid": "066b9b19-4d2e-45fc-8301-17baf404bc17",
     "showTitle": false,
     "tableResultSettingsMap": {},
     "title": ""
    }
   },
   "outputs": [],
   "source": [
    "df_trans_col = ['TransactionID', 'EncounterID', 'PatientID', 'ProviderID', 'DeptID', 'VisitDate', 'ServiceDate', 'PaidDate', 'VisitType', 'Amount', 'AmountType', 'PaidAmount', 'ClaimID', 'PayorID', 'ProcedureCode', 'ICDCode', 'LineOfBusiness', 'MedicaidID', 'MedicareID', 'InsertDate', 'ModifiedDate']"
   ]
  },
  {
   "cell_type": "code",
   "execution_count": 0,
   "metadata": {
    "application/vnd.databricks.v1+cell": {
     "cellMetadata": {
      "byteLimit": 2048000,
      "rowLimit": 10000
     },
     "inputWidgets": {},
     "nuid": "7582b1f7-3272-4bef-b924-04149e88bc8e",
     "showTitle": false,
     "tableResultSettingsMap": {},
     "title": ""
    }
   },
   "outputs": [],
   "source": [
    "for i in df_trans_col:\n",
    "    df_trans = df_trans.withColumn(i,\n",
    "         initcap(trim(regexp_replace(col(i), r\"[^a-zA-Z0-9]\", \"\"))))"
   ]
  },
  {
   "cell_type": "code",
   "execution_count": 0,
   "metadata": {
    "application/vnd.databricks.v1+cell": {
     "cellMetadata": {
      "byteLimit": 2048000,
      "rowLimit": 10000
     },
     "inputWidgets": {},
     "nuid": "5c64dadd-c8ac-472b-8e40-6d6cc0afeec2",
     "showTitle": false,
     "tableResultSettingsMap": {
      "0": {
       "dataGridStateBlob": "{\"version\":1,\"tableState\":{\"columnPinning\":{\"left\":[\"#row_number#\"],\"right\":[]},\"columnSizing\":{},\"columnVisibility\":{}},\"settings\":{\"columns\":{}},\"syncTimestamp\":1753067664182}",
       "filterBlob": null,
       "queryPlanFiltersBlob": null,
       "tableResultIndex": 0
      }
     },
     "title": ""
    }
   },
   "outputs": [],
   "source": [
    "df_trans.display()"
   ]
  },
  {
   "cell_type": "code",
   "execution_count": 0,
   "metadata": {
    "application/vnd.databricks.v1+cell": {
     "cellMetadata": {
      "byteLimit": 2048000,
      "rowLimit": 10000
     },
     "inputWidgets": {},
     "nuid": "15b7ef97-5fc1-4fc1-965d-03b4aa10b178",
     "showTitle": false,
     "tableResultSettingsMap": {},
     "title": ""
    }
   },
   "outputs": [],
   "source": [
    "def non_alpha(df_trans):\n",
    "  for i in df_trans_col:\n",
    "    df_trans.withColumn(i, upper(trim(col(i))))\n",
    "  return df_trans\n",
    "df_trans = non_alpha(df_trans)\n",
    "df_trans.display()"
   ]
  },
  {
   "cell_type": "code",
   "execution_count": 0,
   "metadata": {
    "application/vnd.databricks.v1+cell": {
     "cellMetadata": {
      "byteLimit": 2048000,
      "rowLimit": 10000
     },
     "inputWidgets": {},
     "nuid": "9facc166-2018-419c-bd8b-b115a4732211",
     "showTitle": false,
     "tableResultSettingsMap": {},
     "title": ""
    }
   },
   "outputs": [],
   "source": [
    "def upper_col_names(df_trans):\n",
    "    new_cols = [col(c).alias(c.upper()) for c in df_trans.columns]\n",
    "    return df_trans.select(*new_cols)\n",
    "\n",
    "df_trans = upper_col_names(df_trans)\n",
    "display(df_trans)"
   ]
  },
  {
   "cell_type": "code",
   "execution_count": 0,
   "metadata": {
    "application/vnd.databricks.v1+cell": {
     "cellMetadata": {
      "byteLimit": 2048000,
      "rowLimit": 10000
     },
     "inputWidgets": {},
     "nuid": "65a68f0b-2c8a-44c0-a709-96dafd57c243",
     "showTitle": false,
     "tableResultSettingsMap": {},
     "title": ""
    }
   },
   "outputs": [],
   "source": [
    "display(df_trans)"
   ]
  },
  {
   "cell_type": "code",
   "execution_count": 0,
   "metadata": {
    "application/vnd.databricks.v1+cell": {
     "cellMetadata": {
      "byteLimit": 2048000,
      "rowLimit": 10000
     },
     "inputWidgets": {},
     "nuid": "1190bf57-0a28-463b-80a8-1beea8cc6340",
     "showTitle": false,
     "tableResultSettingsMap": {},
     "title": ""
    }
   },
   "outputs": [],
   "source": [
    "df_trans_type = df_trans.withColumn(\"Paid_type\",\n",
    "                                     when(col(\"AmountType\") == \"Medicare\", \"MEDC\")\n",
    "                                     .when(col(\"AmountType\") == \"Medicaid\", \"MEDA\")\n",
    "                                     .when(col(\"AmountType\") == \"Insurance\", \"INS\")\n",
    "                                     .when(col(\"AmountType\") == \"Co-pay\", \"COPAY\")\n",
    "                                     .otherwise(\"NEW\")).display()\n",
    "\n",
    "\n",
    "df_trans_grp = df_trans_type.groupBy(\"Paid_type\").agg(count(\"*\").alias(\"count\"))\n",
    "\n",
    "df_trans_grp = df_trans_type.groupBy(\"Paid_type\").agg(count(\"*\").alias(\"count\"))\n",
    "\n",
    "df_trans_grp.display()"
   ]
  },
  {
   "cell_type": "code",
   "execution_count": 0,
   "metadata": {
    "application/vnd.databricks.v1+cell": {
     "cellMetadata": {
      "byteLimit": 2048000,
      "rowLimit": 10000
     },
     "inputWidgets": {},
     "nuid": "e99eca6f-1fc3-4590-a31f-3e174b7a4e41",
     "showTitle": false,
     "tableResultSettingsMap": {},
     "title": ""
    }
   },
   "outputs": [],
   "source": [
    "from pyspark.sql.functions import col, when, count\n",
    "\n",
    "df_trans_type = df_trans.withColumn(\n",
    "    \"Paid_type\",\n",
    "    when(col(\"AmountType\") == \"Medicare\", \"MEDC\")\n",
    "    .when(col(\"AmountType\") == \"Medicaid\", \"MEDA\")\n",
    "    .when(col(\"AmountType\") == \"Insurance\", \"INS\")\n",
    "    .when(col(\"AmountType\") == \"Co-pay\", \"COPAY\")\n",
    "    .otherwise(\"NEW\")\n",
    ")\n",
    "\n",
    "display(df_trans_type)\n",
    "\n",
    "df_trans_grp = df_trans_type.groupBy(\"Paid_type\").agg(count(\"*\").alias(\"count\"))\n",
    "\n",
    "display(df_trans_grp)"
   ]
  },
  {
   "cell_type": "code",
   "execution_count": 0,
   "metadata": {
    "application/vnd.databricks.v1+cell": {
     "cellMetadata": {},
     "inputWidgets": {},
     "nuid": "2243364c-0a85-4804-93a3-0c4346ed65fa",
     "showTitle": false,
     "tableResultSettingsMap": {},
     "title": ""
    }
   },
   "outputs": [],
   "source": []
  }
 ],
 "metadata": {
  "application/vnd.databricks.v1+notebook": {
   "computePreferences": null,
   "dashboards": [],
   "environmentMetadata": {
    "base_environment": "",
    "environment_version": "2"
   },
   "inputWidgetPreferences": null,
   "language": "python",
   "notebookMetadata": {
    "pythonIndentUnit": 4
   },
   "notebookName": "TRANSACTION_BRONZE_TO_SILVER_TRF",
   "widgets": {}
  },
  "language_info": {
   "name": "python"
  }
 },
 "nbformat": 4,
 "nbformat_minor": 0
}
