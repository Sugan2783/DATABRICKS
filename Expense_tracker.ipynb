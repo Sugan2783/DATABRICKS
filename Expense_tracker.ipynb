{
 "cells": [
  {
   "cell_type": "code",
   "execution_count": 0,
   "metadata": {
    "application/vnd.databricks.v1+cell": {
     "cellMetadata": {
      "byteLimit": 2048000,
      "rowLimit": 10000
     },
     "inputWidgets": {},
     "nuid": "1d4e1d02-c3d6-4217-b173-bfd57e42ed9e",
     "showTitle": false,
     "tableResultSettingsMap": {},
     "title": ""
    }
   },
   "outputs": [],
   "source": [
    "expenses =[]\n",
    "\n",
    "while True:\n",
    "    userinput = input(\"Add expenses (yes/no)? : \")\n",
    "    if userinput == \"yes\":\n",
    "        item = input(\"Enter expense item: \")\n",
    "        amount = float(input(\"enter amount:\"))\n",
    "        expenses.append((item,amount))\n",
    "    elif userinput == \"no\":\n",
    "        break\n",
    "    else:\n",
    "        print(\"Invalid input\")\n",
    "        continue\n",
    "\n",
    "total = sum(amount for item,amount in expenses)   \n",
    "print(f\"Total expenses: {total}\")\n",
    " "
   ]
  }
 ],
 "metadata": {
  "application/vnd.databricks.v1+notebook": {
   "computePreferences": null,
   "dashboards": [],
   "environmentMetadata": {
    "base_environment": "",
    "environment_version": "2"
   },
   "inputWidgetPreferences": null,
   "language": "python",
   "notebookMetadata": {
    "pythonIndentUnit": 4
   },
   "notebookName": "Expense_tracker",
   "widgets": {}
  },
  "language_info": {
   "name": "python"
  }
 },
 "nbformat": 4,
 "nbformat_minor": 0
}
