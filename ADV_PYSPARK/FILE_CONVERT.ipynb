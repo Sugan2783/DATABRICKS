{
 "cells": [
  {
   "cell_type": "code",
   "execution_count": 0,
   "metadata": {
    "application/vnd.databricks.v1+cell": {
     "cellMetadata": {
      "byteLimit": 2048000,
      "rowLimit": 10000
     },
     "inputWidgets": {},
     "nuid": "8eebd145-cb33-415b-b333-83667719338b",
     "showTitle": false,
     "tableResultSettingsMap": {},
     "title": ""
    }
   },
   "outputs": [],
   "source": [
    "#4 Customer Feedback Avg Rating Rating ≥ 4 Feedback_ID, Product, Rating, Comment\n",
    "\n",
    "from pyspark.sql import *\n",
    "from pyspark.sql.functions import *\n",
    "from pyspark.sql.types import *\n",
    "\n",
    "df_cust = spark.read.format('parquet').load('/Volumes/bigdata/bdata/customer/customer_feedback.parquet')\n",
    "df_cust.display()\n",
    "\n"
   ]
  },
  {
   "cell_type": "code",
   "execution_count": 0,
   "metadata": {
    "application/vnd.databricks.v1+cell": {
     "cellMetadata": {
      "byteLimit": 2048000,
      "rowLimit": 10000
     },
     "inputWidgets": {},
     "nuid": "065c9732-655c-4609-9bcd-d2ca1fafef2b",
     "showTitle": false,
     "tableResultSettingsMap": {},
     "title": ""
    }
   },
   "outputs": [],
   "source": [
    "df_cust.count()"
   ]
  },
  {
   "cell_type": "code",
   "execution_count": 0,
   "metadata": {
    "application/vnd.databricks.v1+cell": {
     "cellMetadata": {
      "byteLimit": 2048000,
      "rowLimit": 10000
     },
     "inputWidgets": {},
     "nuid": "ce5cc391-db7f-465f-90ca-a59fe2972405",
     "showTitle": false,
     "tableResultSettingsMap": {},
     "title": ""
    }
   },
   "outputs": [],
   "source": [
    "df_cust.write.format('csv').option('header','true').option('inferSchema', 'true').save('/Volumes/bigdata/bdata/customer/customer_feeddback.csv')"
   ]
  },
  {
   "cell_type": "code",
   "execution_count": 0,
   "metadata": {
    "application/vnd.databricks.v1+cell": {
     "cellMetadata": {
      "byteLimit": 2048000,
      "rowLimit": 10000
     },
     "inputWidgets": {},
     "nuid": "f13ebc20-e4df-4861-bf70-3aee4d2e589b",
     "showTitle": false,
     "tableResultSettingsMap": {},
     "title": ""
    }
   },
   "outputs": [],
   "source": [
    "df_cust = spark.read.format('csv').option('header','true').option('inferSchema', 'true').load('/Volumes/bigdata/bdata/customer/customer_feeddback.csv/')\n",
    "df_cust.display()"
   ]
  },
  {
   "cell_type": "code",
   "execution_count": 0,
   "metadata": {
    "application/vnd.databricks.v1+cell": {
     "cellMetadata": {
      "byteLimit": 2048000,
      "rowLimit": 10000
     },
     "inputWidgets": {},
     "nuid": "6eda8399-4d3b-47f5-8fbb-f22d1e572f1b",
     "showTitle": false,
     "tableResultSettingsMap": {},
     "title": ""
    }
   },
   "outputs": [],
   "source": [
    "df_edu = spark.read.format('parquet').load('/Volumes/bigdata/bdata/education/education.parquet')\n",
    "df_edu.write.format('csv').option('header','true').option('inferSchema', 'true').save('/Volumes/bigdata/bdata/education/education.csv')\n",
    "\n",
    "df_edu = spark.read.format('csv').option('header','true').option('inferSchema', 'true').load('/Volumes/bigdata/bdata/education/education.csv')\n",
    "df_edu.display()"
   ]
  },
  {
   "cell_type": "code",
   "execution_count": 0,
   "metadata": {
    "application/vnd.databricks.v1+cell": {
     "cellMetadata": {
      "byteLimit": 2048000,
      "rowLimit": 10000
     },
     "inputWidgets": {},
     "nuid": "12e30f7a-09ac-4269-9110-1a41c68726e8",
     "showTitle": false,
     "tableResultSettingsMap": {},
     "title": ""
    }
   },
   "outputs": [],
   "source": [
    "df_emp = spark.read.format('parquet').load('/Volumes/bigdata/bdata/employee/employee_performance.parquet')\n",
    "df_emp.write.format('csv').option('header','true').option('inferSchema', 'true').save('/Volumes/bigdata/bdata/employee/employee_performance.csv')\n",
    "\n",
    "df_emp = spark.read.format('csv').option('header','true').option('inferSchema', 'true').load('/Volumes/bigdata/bdata/employee/employee_performance.csv')\n",
    "df_emp.display()"
   ]
  },
  {
   "cell_type": "code",
   "execution_count": 0,
   "metadata": {
    "application/vnd.databricks.v1+cell": {
     "cellMetadata": {
      "byteLimit": 2048000,
      "rowLimit": 10000
     },
     "inputWidgets": {},
     "nuid": "026ed83b-2945-4588-bdba-86f31a895f3c",
     "showTitle": false,
     "tableResultSettingsMap": {},
     "title": ""
    }
   },
   "outputs": [],
   "source": [
    "df_fin = spark.read.format('parquet').load('/Volumes/bigdata/bdata/finance_report/finance_report.parquet')\n",
    "df_fin.write.format('csv').mode(\"overwrite\").option('header','true').option('inferSchema', 'true').save('/Volumes/bigdata/bdata/finance_report/finance_report.csv')\n",
    "\n",
    "df_fin = spark.read.format('csv').option('header','true').option('inferSchema', 'true').load('/Volumes/bigdata/bdata/finance_report/finance_report.csv')\n",
    "df_fin.display()"
   ]
  },
  {
   "cell_type": "code",
   "execution_count": 0,
   "metadata": {
    "application/vnd.databricks.v1+cell": {
     "cellMetadata": {
      "byteLimit": 2048000,
      "rowLimit": 10000
     },
     "inputWidgets": {},
     "nuid": "95141d7b-db2e-407a-b05d-6d2a4daf3594",
     "showTitle": false,
     "tableResultSettingsMap": {},
     "title": ""
    }
   },
   "outputs": [],
   "source": [
    "df_health = spark.read.format('parquet').load('/Volumes/bigdata/bdata/healthcare/healthcare.parquet')\n",
    "df_health.write.format('csv').option('header','true').option('inferSchema', 'true').mode(\"overwrite\").save('/Volumes/bigdata/bdata/healthcare/healthcare.csv')\n",
    "\n",
    "df_df_healthedu = spark.read.format('csv').option('header','true').option('inferSchema', 'true').load('/Volumes/bigdata/bdata/healthcare/healthcare.csv')\n",
    "df_health.display()"
   ]
  },
  {
   "cell_type": "code",
   "execution_count": 0,
   "metadata": {
    "application/vnd.databricks.v1+cell": {
     "cellMetadata": {
      "byteLimit": 2048000,
      "rowLimit": 10000
     },
     "inputWidgets": {},
     "nuid": "9c24a9d9-fae5-4277-b438-6fb151d6259e",
     "showTitle": false,
     "tableResultSettingsMap": {},
     "title": ""
    }
   },
   "outputs": [],
   "source": [
    "df_invent = spark.read.format('parquet').load('/Volumes/bigdata/bdata/inventory/inventory.parquet')\n",
    "df_invent.write.format('csv').option('header','true').mode(\"overwrite\").option('inferSchema', 'true').save('/Volumes/bigdata/bdata/inventory/inventory.csv')\n",
    "\n",
    "df_invent = spark.read.format('csv').option('header','true').option('inferSchema', 'true').load('/Volumes/bigdata/bdata/inventory/inventory.csv')\n",
    "df_invent.display()"
   ]
  },
  {
   "cell_type": "code",
   "execution_count": 0,
   "metadata": {
    "application/vnd.databricks.v1+cell": {
     "cellMetadata": {
      "byteLimit": 2048000,
      "rowLimit": 10000
     },
     "inputWidgets": {},
     "nuid": "06bf7b13-84cb-4632-917e-cb28db5d2196",
     "showTitle": false,
     "tableResultSettingsMap": {},
     "title": ""
    }
   },
   "outputs": [],
   "source": [
    "df_mkt = spark.read.format('parquet').load('/Volumes/bigdata/bdata/marketing_campaign/marketing_campaign.parquet')\n",
    "df_mkt.write.format('csv').option('header','true').option('inferSchema', 'true').save('/Volumes/bigdata/bdata/marketing_campaign/marketing_campaign.csv')\n",
    "\n",
    "df_mkt = spark.read.format('csv').option('header','true').option('inferSchema', 'true').load('/Volumes/bigdata/bdata/marketing_campaign/marketing_campaign.csv')\n",
    "df_mkt.display()"
   ]
  },
  {
   "cell_type": "code",
   "execution_count": 0,
   "metadata": {
    "application/vnd.databricks.v1+cell": {
     "cellMetadata": {
      "byteLimit": 2048000,
      "rowLimit": 10000
     },
     "inputWidgets": {},
     "nuid": "b2373bf8-7a6b-4fae-a6a3-e6dfa1d59e29",
     "showTitle": false,
     "tableResultSettingsMap": {},
     "title": ""
    }
   },
   "outputs": [],
   "source": [
    "df_proj_trk = spark.read.format('parquet').load('/Volumes/bigdata/bdata/project_tracking/project_tracking.parquet')\n",
    "df_proj_trk.write.format('csv').option('header','true').option('inferSchema', 'true').save('/Volumes/bigdata/bdata/project_tracking/project_tracking.csv')\n",
    "\n",
    "df_proj_trk = spark.read.format('csv').option('header','true').option('inferSchema', 'true').load('/Volumes/bigdata/bdata/project_tracking/project_tracking.csv')\n",
    "df_proj_trk.display()"
   ]
  },
  {
   "cell_type": "code",
   "execution_count": 0,
   "metadata": {
    "application/vnd.databricks.v1+cell": {
     "cellMetadata": {
      "byteLimit": 2048000,
      "rowLimit": 10000
     },
     "inputWidgets": {},
     "nuid": "3e33ce66-3193-456a-95b2-d81c2858a42e",
     "showTitle": false,
     "tableResultSettingsMap": {},
     "title": ""
    }
   },
   "outputs": [],
   "source": [
    "df_sale = spark.read.format('parquet').load('/Volumes/bigdata/bdata/sales/sales.parquet')\n",
    "df_sale.write.format('csv').option('header','true').option('inferSchema', 'true').save('/Volumes/bigdata/bdata/sales/sales.csv')\n",
    "\n",
    "df_sale = spark.read.format('csv').option('header','true').option('inferSchema', 'true').load('/Volumes/bigdata/bdata/sales/sales.csv')\n",
    "df_sale.display()"
   ]
  },
  {
   "cell_type": "code",
   "execution_count": 0,
   "metadata": {
    "application/vnd.databricks.v1+cell": {
     "cellMetadata": {
      "byteLimit": 2048000,
      "rowLimit": 10000
     },
     "inputWidgets": {},
     "nuid": "953b84df-b6a2-4954-acad-ac5b69d3a121",
     "showTitle": false,
     "tableResultSettingsMap": {},
     "title": ""
    }
   },
   "outputs": [],
   "source": [
    "df_web = spark.read.format('parquet').load('/Volumes/bigdata/bdata/web_analytics/web_analytics.parquet')\n",
    "df_web.write.format('csv').option('header','true').option('inferSchema', 'true').save('/Volumes/bigdata/bdata/web_analytics/web_analytics.csv')\n",
    "\n",
    "df_web = spark.read.format('csv').option('header','true').option('inferSchema', 'true').load('/Volumes/bigdata/bdata/web_analytics/web_analytics.csv')\n",
    "df_web.display()"
   ]
  },
  {
   "cell_type": "code",
   "execution_count": 0,
   "metadata": {
    "application/vnd.databricks.v1+cell": {
     "cellMetadata": {
      "byteLimit": 2048000,
      "rowLimit": 10000
     },
     "inputWidgets": {},
     "nuid": "9f5a6e65-049c-48ae-90c7-6c236aa66b8d",
     "showTitle": false,
     "tableResultSettingsMap": {},
     "title": ""
    }
   },
   "outputs": [],
   "source": [
    "from pyspark.sql import *\n",
    "from pyspark.sql.functions import *\n",
    "from pyspark.sql.types import *\n",
    "\n",
    "df_sales = spark.read.format('text').option(\"header\", True).option(\"inferSchema\", True).load('/Volumes/bigdata/bdata/sales/sales.txt')\n",
    "df_sales.display()\n",
    "\n",
    "\n",
    "from pyspark.sql.functions import *\n",
    "def text_file_read(file_path,sep):\n",
    "    df=spark.read.text(file_path)\n",
    "    header=df.first()[0].split(sep)\n",
    "    rm_header=df.filter(col(\"value\")!=sep.join(header))\n",
    "    df_split=rm_header.select(split(col(\"value\"),sep).alias(\"parts\"))\n",
    "    df_final=df_split.selectExpr(*[f\"parts[{i}] as {header[i]}\" for i in range(len(header))])\n",
    "    return df_final\n",
    "\n",
    "file_path=\"/Volumes/bigdata/bdata/sales/sales.txt\"\n",
    "sep=\"\\t\"\n",
    "df3=text_file_read(file_path,sep)\n",
    "df3.display(truncate=False)\n"
   ]
  },
  {
   "cell_type": "code",
   "execution_count": 0,
   "metadata": {
    "application/vnd.databricks.v1+cell": {
     "cellMetadata": {
      "byteLimit": 2048000,
      "rowLimit": 10000
     },
     "inputWidgets": {},
     "nuid": "9ae29756-3083-4538-8876-f16dde28db87",
     "showTitle": false,
     "tableResultSettingsMap": {},
     "title": ""
    }
   },
   "outputs": [],
   "source": [
    "df_sales = spark.read.format('text').option(\"header\", True).option(\"inferSchema\", True).load('/Volumes/bigdata/bdata/sales/sales.txt')\n",
    "df_sales.display()\n",
    "\n",
    "\n",
    "from pyspark.sql.functions import *\n",
    "def text_file_read():\n",
    "    df=spark.read.text(\"/Volumes/bigdata/bdata/sales/sales.txt\")\n",
    "    header=df.first()[0].split(\"\\t\")\n",
    "    rm_header=df.filter(col(\"value\")!=(\"\\t\").join(header))\n",
    "    df_split=rm_header.select(split(col(\"value\"),sep).alias(\"parts\"))\n",
    "    df_final=df_split.selectExpr(*[f\"parts[{i}] as {header[i]}\" for i in range(len(header))])\n",
    "    return df_final\n",
    "\n",
    "# file_path=\"/Volumes/bigdata/bdata/sales/sales.txt\"\n",
    "# sep=\"\\t\"\n",
    "df3=text_file_read()\n",
    "display(df3)\n"
   ]
  },
  {
   "cell_type": "code",
   "execution_count": 0,
   "metadata": {
    "application/vnd.databricks.v1+cell": {
     "cellMetadata": {
      "byteLimit": 2048000,
      "rowLimit": 10000
     },
     "inputWidgets": {},
     "nuid": "28998735-c369-44a5-a93e-8be19a2f61ea",
     "showTitle": false,
     "tableResultSettingsMap": {},
     "title": ""
    }
   },
   "outputs": [],
   "source": [
    "from pyspark.sql.functions import split, col\n",
    "\n",
    "def text_file_read():\n",
    "    df = spark.read.text(\"/Volumes/bigdata/bdata/sales/sales.txt\")\n",
    "    header = df.first()[0].split(\"\\t\")\n",
    "    rm_header = df.filter(col(\"value\") != (\"\\t\").join(header))\n",
    "    df_split = rm_header.select(\n",
    "        split(col(\"value\"), \"\\t\").alias(\"parts\")\n",
    "    )\n",
    "    df_final = df_split.selectExpr(\n",
    "        *[f\"parts[{i}] as `{header[i]}`\" for i in range(len(header))]\n",
    "    )\n",
    "    return df_final\n",
    "\n",
    "df3 = text_file_read()\n",
    "display(df3)"
   ]
  },
  {
   "cell_type": "code",
   "execution_count": 0,
   "metadata": {
    "application/vnd.databricks.v1+cell": {
     "cellMetadata": {
      "byteLimit": 2048000,
      "rowLimit": 10000
     },
     "inputWidgets": {},
     "nuid": "e8a9eff9-7450-4a1b-8dea-376464dd9b61",
     "showTitle": false,
     "tableResultSettingsMap": {},
     "title": ""
    }
   },
   "outputs": [],
   "source": [
    "df_emp = spark.read.format('csv').option('header','true').option('inferSchema', 'true').load('/Volumes/bigdata/bdata/employee/employee_performance.csv')\n",
    "df_emp.display()"
   ]
  }
 ],
 "metadata": {
  "application/vnd.databricks.v1+notebook": {
   "computePreferences": {
    "hardware": {
     "accelerator": null,
     "gpuPoolId": null,
     "memory": null
    }
   },
   "dashboards": [],
   "environmentMetadata": {
    "base_environment": "",
    "environment_version": "3"
   },
   "inputWidgetPreferences": null,
   "language": "python",
   "notebookMetadata": {
    "pythonIndentUnit": 4
   },
   "notebookName": "FILE_CONVERT",
   "widgets": {}
  },
  "language_info": {
   "name": "python"
  }
 },
 "nbformat": 4,
 "nbformat_minor": 0
}
