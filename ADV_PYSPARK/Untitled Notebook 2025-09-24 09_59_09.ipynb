{
 "cells": [
  {
   "cell_type": "code",
   "execution_count": 0,
   "metadata": {
    "application/vnd.databricks.v1+cell": {
     "cellMetadata": {
      "byteLimit": 2048000,
      "rowLimit": 10000
     },
     "inputWidgets": {},
     "nuid": "0dccee59-f1bb-4e5d-82e9-cfd8b7c29c05",
     "showTitle": false,
     "tableResultSettingsMap": {},
     "title": ""
    }
   },
   "outputs": [],
   "source": [
    "from pyspark.sql.functions import *\n",
    "def text_file_read(file_path,sep):\n",
    "    df=spark.read.text(file_path)\n",
    "    header=df.first()[0].split(sep)\n",
    "    rm_header=df.filter(col(\"value\")!=sep.join(header))\n",
    "    df_split=rm_header.select(split(col(\"value\"),sep).alias(\"parts\"))\n",
    "    df_final=df_split.selectExpr(*[f\"parts[{i}] as {header[i]}\" for i in range(len(header))])\n",
    "    return df_final\n",
    "\n",
    "file_path=\"/Volumes/bigdata/bdata/customer/customer_feedback.txt\"\n",
    "sep=\"\\t\""
   ]
  }
 ],
 "metadata": {
  "application/vnd.databricks.v1+notebook": {
   "computePreferences": {
    "hardware": {
     "accelerator": null,
     "gpuPoolId": null,
     "memory": null
    }
   },
   "dashboards": [],
   "environmentMetadata": {
    "base_environment": "",
    "environment_version": "3"
   },
   "inputWidgetPreferences": null,
   "language": "python",
   "notebookMetadata": {
    "pythonIndentUnit": 4
   },
   "notebookName": "Untitled Notebook 2025-09-24 09_59_09",
   "widgets": {}
  },
  "language_info": {
   "name": "python"
  }
 },
 "nbformat": 4,
 "nbformat_minor": 0
}
