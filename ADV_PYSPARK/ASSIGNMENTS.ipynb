{
 "cells": [
  {
   "cell_type": "code",
   "execution_count": 0,
   "metadata": {
    "application/vnd.databricks.v1+cell": {
     "cellMetadata": {
      "byteLimit": 2048000,
      "rowLimit": 10000
     },
     "inputWidgets": {},
     "nuid": "94e46039-f98f-4989-b6ea-cce50130c3e4",
     "showTitle": false,
     "tableResultSettingsMap": {
      "1": {
       "dataGridStateBlob": "{\"version\":1,\"tableState\":{\"columnPinning\":{\"left\":[\"#row_number#\"],\"right\":[]},\"columnSizing\":{},\"columnVisibility\":{}},\"settings\":{\"columns\":{}},\"syncTimestamp\":1758552682386}",
       "filterBlob": null,
       "queryPlanFiltersBlob": null,
       "tableResultIndex": 1
      }
     },
     "title": ""
    }
   },
   "outputs": [],
   "source": [
    "#1 Sales Total Revenue, Avg Units Sold Revenue ≥ 1000 Date, Product, Units_Sold, Revenue\n",
    "\n",
    "\n",
    "from pyspark.sql import *\n",
    "from pyspark.sql.functions import *\n",
    "from pyspark.sql.types import *\n",
    "\n",
    "df_sale = spark.read.format(\"parquet\").load(\"/Volumes/bigdata/bdata/sales/sales.parquet\")\n",
    "df_sale.display()\n",
    "\n",
    "#total sale\n",
    "\n",
    "df_sale_sum = df_sale.agg(sum(\"Revenue\").alias(\"Total_Revenue\"))\n",
    "df_sale_sum.display()\n",
    "\n",
    "#avg units_sold\n",
    "df_sale_sum = df_sale.agg(sum(\"Revenue\").alias(\"Total_Revenue\"), avg(\"Units_Sold\").alias(\"Avg_Units_Sold\"))\n",
    "df_sale_sum.display()\n",
    "\n",
    "#filter revenue >= 1000\n",
    "\n",
    "df_sale_filtered = df_sale.filter(col(\"Revenue\") >= 1000).select(\"Date\", \"Product\", \"Units_Sold\", \"Revenue\")\n",
    "df_sale_filtered.display()  \n",
    "\n"
   ]
  },
  {
   "cell_type": "code",
   "execution_count": 0,
   "metadata": {
    "application/vnd.databricks.v1+cell": {
     "cellMetadata": {
      "byteLimit": 2048000,
      "rowLimit": 10000
     },
     "inputWidgets": {},
     "nuid": "2969a4e3-30cb-40ee-b98f-e2e88b252dd8",
     "showTitle": false,
     "tableResultSettingsMap": {},
     "title": ""
    }
   },
   "outputs": [],
   "source": [
    "#2 Web Analytics Avg Page Views per Visitor Visitors ≥ 5000 Date, Visitors, PageViews, Country\n",
    "\n",
    "\n",
    "df_web = spark.read.format(\"parquet\").load(\"/Volumes/bigdata/bdata/web_analytics/web_analytics.parquet\")\n",
    "df_web.display()\n",
    "\n",
    "#Avg Page Views per Visitor\n",
    "\n",
    "df_web_avg = df_web.groupBy(\"Visitors\").agg(round(avg(\"PageViews\"),2).alias(\"Avg_PageViews\"))\n",
    "df_web_avg.display()\n",
    "\n",
    "#filter Visitors >= 5000\n",
    "\n",
    "df_web_filtered = df_web.filter(col(\"Visitors\") >= 5000).select(\"Date\", \"Visitors\", \"PageViews\", \"Country\")\n",
    "df_web_filtered.display()\n",
    "\n",
    "#join\n",
    "\n",
    "df_final = df_web_filtered.join(df_web_avg, df_web_filtered.Visitors == df_web_avg.Visitors)\n",
    "df_final.display()"
   ]
  },
  {
   "cell_type": "code",
   "execution_count": 0,
   "metadata": {
    "application/vnd.databricks.v1+cell": {
     "cellMetadata": {
      "byteLimit": 2048000,
      "rowLimit": 10000
     },
     "inputWidgets": {},
     "nuid": "f92c8bcb-7a67-4701-b6fb-3418a96a611d",
     "showTitle": false,
     "tableResultSettingsMap": {},
     "title": ""
    }
   },
   "outputs": [],
   "source": [
    "#3 Employee Performance Avg Performance Score, Productivity Hours_Worked ≥ 150 Emp_ID, Projects_Completed, Hours_Worked, Performance_Score\n",
    "\n",
    "\n",
    "df_emp = spark.read.format(\"parquet\").load(\"/Volumes/bigdata/bdata/employee/employee_performance.parquet\")\n",
    "df_emp.display()\n",
    "\n",
    "#Employee Performance Avg Performance Score\n",
    "\n",
    "df_emp_avg = df_emp.groupBy(\"Emp_ID\").agg(round(avg(\"Performance_Score\"),2).alias(\"Avg_Performance_Score\"))\n",
    "df_emp_avg.display()\n",
    "\n",
    "#filter Hours_Worked >= 150\n",
    "\n",
    "df_emp_filtered = df_emp.filter(col(\"Hours_Worked\") >= 150).select(\"Emp_ID\", \"Projects_Completed\", \"Hours_Worked\", \"Performance_Score\")\n",
    "df_emp_filtered.display()\n",
    "\n",
    "#join   \n",
    "df_emp_final = df_emp_filtered.join(df_emp_avg, df_emp_filtered.Emp_ID == df_emp_avg.Emp_ID)\n",
    "df_emp_final.display()\n"
   ]
  },
  {
   "cell_type": "code",
   "execution_count": 0,
   "metadata": {
    "application/vnd.databricks.v1+cell": {
     "cellMetadata": {
      "byteLimit": 2048000,
      "rowLimit": 10000
     },
     "inputWidgets": {},
     "nuid": "1bc9e76d-9846-4159-905d-8ad9557262d7",
     "showTitle": false,
     "tableResultSettingsMap": {},
     "title": ""
    }
   },
   "outputs": [],
   "source": [
    "#4 Customer Feedback Avg Rating Rating ≥ 4 Feedback_ID, Product, Rating, Comment\n",
    "\n",
    "df_cust = spark.read.format(\"parquet\").load(\"/Volumes/bigdata/bdata/customer/customer_feedback.parquet\")\n",
    "df_cust.display()\n",
    "\n",
    "#Avg Rating \n",
    "df_filter = df_cust.filter(col(\"Rating\") >= 4).select(\"Feedback_ID\", \"Product\", \"Rating\", \"Comment\")\n",
    "df_filter.display()\n",
    "\n",
    "df_cust_avg = df_cust.agg(round(avg(\"Rating\"),2).alias(\"Avg_Rating\"))\n",
    "df_cust_avg.display()\n"
   ]
  },
  {
   "cell_type": "code",
   "execution_count": 0,
   "metadata": {
    "application/vnd.databricks.v1+cell": {
     "cellMetadata": {
      "byteLimit": 2048000,
      "rowLimit": 10000
     },
     "inputWidgets": {},
     "nuid": "9c1c439f-a6ff-4179-b21e-7f41fca388a5",
     "showTitle": false,
     "tableResultSettingsMap": {},
     "title": ""
    }
   },
   "outputs": [],
   "source": [
    "#5 Project Tracking Task Completion Rate Status = \"On Track\" Project_ID, Task_Count, Completed_Tasks, Status\n",
    "\n",
    "df_proj_trk = spark.read.format(\"parquet\").load(\"/Volumes/bigdata/bdata/project_tracking/project_tracking.parquet\")\n",
    "df_proj_trk.display()\n",
    "\n",
    "#Task Completion Rate\n",
    "df_proj_trk_filt = df_proj_trk.filter(col(\"Status\") == \"On Track\").select(\"Project_ID\", \"Task_Count\", \"Completed_Tasks\", \"Status\")\n",
    "df_proj_trk_filt.display()"
   ]
  },
  {
   "cell_type": "code",
   "execution_count": 0,
   "metadata": {
    "application/vnd.databricks.v1+cell": {
     "cellMetadata": {
      "byteLimit": 2048000,
      "rowLimit": 10000
     },
     "inputWidgets": {},
     "nuid": "c682c6bd-9d10-4418-88e2-32852fd452d7",
     "showTitle": false,
     "tableResultSettingsMap": {},
     "title": ""
    }
   },
   "outputs": [],
   "source": [
    "#6 Finance Report Profit Margin (%) Profit ≥ 50_000 Month, Revenue, Expenses, Profit\n",
    "\n",
    "df_fin = spark.read.format(\"parquet\").load(\"/Volumes/bigdata/bdata/finance_report/finance_report.parquet\")\n",
    "df_fin.display()\n",
    "\n",
    "#filtered profit\n",
    "\n",
    "df_fin_fil = df_fin.filter(col(\"Profit\") >= 50000).select(\"Month\", \"Revenue\", \"Expenses\", \"Profit\")\n",
    "df_fin_fil.display()\n",
    "\n",
    "df_fin_margin = df_fin_fil.withColumn(\"profit_margin\", concat(round((col(\"Profit\") / col(\"Revenue\")) * 100,2),lit(\"%\")))\n",
    "\n",
    "df_fin_margin.display()\n"
   ]
  },
  {
   "cell_type": "code",
   "execution_count": 0,
   "metadata": {
    "application/vnd.databricks.v1+cell": {
     "cellMetadata": {},
     "inputWidgets": {},
     "nuid": "da4dd05c-ae45-458f-8b09-57567c935f61",
     "showTitle": false,
     "tableResultSettingsMap": {},
     "title": ""
    }
   },
   "outputs": [],
   "source": []
  }
 ],
 "metadata": {
  "application/vnd.databricks.v1+notebook": {
   "computePreferences": {
    "hardware": {
     "accelerator": null,
     "gpuPoolId": null,
     "memory": null
    }
   },
   "dashboards": [],
   "environmentMetadata": {
    "base_environment": "",
    "environment_version": "3"
   },
   "inputWidgetPreferences": null,
   "language": "python",
   "notebookMetadata": {
    "pythonIndentUnit": 4
   },
   "notebookName": "ASSIGNMENTS",
   "widgets": {}
  },
  "language_info": {
   "name": "python"
  }
 },
 "nbformat": 4,
 "nbformat_minor": 0
}
