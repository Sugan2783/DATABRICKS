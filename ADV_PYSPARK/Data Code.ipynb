{
 "cells": [
  {
   "cell_type": "code",
   "execution_count": 0,
   "metadata": {
    "application/vnd.databricks.v1+cell": {
     "cellMetadata": {
      "byteLimit": 2048000,
      "rowLimit": 10000
     },
     "inputWidgets": {},
     "nuid": "d3b4cc6c-4971-486f-844b-51cfca6caf97",
     "showTitle": false,
     "tableResultSettingsMap": {},
     "title": ""
    }
   },
   "outputs": [],
   "source": [
    "from pyspark.sql.functions import *\n",
    "from pyspark.sql.types import datetime, datetime, FloatType, StringType, StructField, StructType, IntegerType, LongType, ArrayType, DoubleType\n",
    "from datetime import date, timedelta\n",
    "from pyspark.sql.window import Window\n",
    "\n",
    "data = []\n",
    "start_date = date(2024,1,1)\n",
    "\n",
    "\n",
    "for i in range(1,1001):\n",
    "    current_date = start_date + timedelta(days = i)\n",
    "    data.append((str(current_date), f\"product {i % 4}\", i * 5, f\"region_{i % 3}\"))\n",
    "\n",
    "columns = [\"date\", \"product\", \"amount\", \"region\"]\n",
    "\n",
    "\n",
    "df = spark.createDataFrame(data, columns)\n",
    "display(df)"
   ]
  },
  {
   "cell_type": "code",
   "execution_count": 0,
   "metadata": {
    "application/vnd.databricks.v1+cell": {
     "cellMetadata": {},
     "inputWidgets": {},
     "nuid": "7a3fa483-2d98-4ff0-b8f4-8496c8382ca2",
     "showTitle": false,
     "tableResultSettingsMap": {},
     "title": ""
    }
   },
   "outputs": [],
   "source": []
  }
 ],
 "metadata": {
  "application/vnd.databricks.v1+notebook": {
   "computePreferences": {
    "hardware": {
     "accelerator": null,
     "gpuPoolId": null,
     "memory": null
    }
   },
   "dashboards": [],
   "environmentMetadata": {
    "base_environment": "",
    "environment_version": "3"
   },
   "inputWidgetPreferences": null,
   "language": "python",
   "notebookMetadata": {
    "pythonIndentUnit": 4
   },
   "notebookName": "Data Code",
   "widgets": {}
  },
  "language_info": {
   "name": "python"
  }
 },
 "nbformat": 4,
 "nbformat_minor": 0
}
