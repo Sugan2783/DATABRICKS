{
 "cells": [
  {
   "cell_type": "code",
   "execution_count": 0,
   "metadata": {
    "application/vnd.databricks.v1+cell": {
     "cellMetadata": {
      "byteLimit": 2048000,
      "rowLimit": 10000
     },
     "inputWidgets": {},
     "nuid": "215e4b1a-eb1a-4c94-a3bd-80f0631286b3",
     "showTitle": false,
     "tableResultSettingsMap": {},
     "title": ""
    }
   },
   "outputs": [],
   "source": [
    "df_sales = spark.read.format(\"json\").load(\"/Volumes/bigdata/bdata/sales/sales.json\", header=True, inferSchema=True)\n",
    "df_sales.display()\n",
    "df_sales.printSchema()"
   ]
  },
  {
   "cell_type": "code",
   "execution_count": 0,
   "metadata": {
    "application/vnd.databricks.v1+cell": {
     "cellMetadata": {
      "byteLimit": 2048000,
      "rowLimit": 10000
     },
     "inputWidgets": {},
     "nuid": "2a2ccf6c-5a87-495b-bbac-87c62dc0b3ed",
     "showTitle": false,
     "tableResultSettingsMap": {},
     "title": ""
    }
   },
   "outputs": [],
   "source": [
    "df_sales = spark.read.format(\"csv\").load(\"/Volumes/bigdata/bdata/sales/sales.csv\", header=True, inferSchema=True)\n",
    "df_sales.display()\n",
    "df_sales.printSchema()"
   ]
  },
  {
   "cell_type": "code",
   "execution_count": 0,
   "metadata": {
    "application/vnd.databricks.v1+cell": {
     "cellMetadata": {
      "byteLimit": 2048000,
      "rowLimit": 10000
     },
     "inputWidgets": {},
     "nuid": "590b835e-0731-4511-a2b3-67d4bf248ca1",
     "showTitle": false,
     "tableResultSettingsMap": {},
     "title": ""
    }
   },
   "outputs": [],
   "source": [
    "#SALES KPI\n",
    "from pyspark.sql.functions import *\n",
    "\n",
    "df_sales = spark.read.format(\"json\").load(\"/Volumes/bigdata/bdata/sales/sales.json\")\n",
    "df_slaes_dis = df_sales.select(col(\"Date\")).distinct()\n",
    "df_slaes_dis.display()\n",
    "\n",
    "df_sale_date= df_slaes_dis.select(col(\"Date\").cast('date')).distinct()\n",
    "df_sale_date.display()\n",
    "\n",
    "\n",
    "#DROP DUPLICTAES\n",
    "\n",
    "df_sales = df_sales.dropDuplicates()\n",
    "df_sales.display()\n",
    "\n",
    "df_sale_dd = df_sales.withColumn(\"date1\", col('date').cast('date')).dropDuplicates(['date1']).drop('date1')\n",
    "df_sale_dd.display()    \n",
    "\n",
    "\n",
    "# Revenue  SUM\n",
    "\n",
    "df_sales_rev = df_sales.groupBy(\"Product\").agg(sum(\"Revenue\").alias(\"Total_Revenue\"), avg(\"Units_Sold\").alias(\"Avg_Units_Sold\")\n",
    "df_sales_rev.display((\"Total_Revenue\"), avg(\"Units_Sold\"))\n",
    "\n"
   ]
  }
 ],
 "metadata": {
  "application/vnd.databricks.v1+notebook": {
   "computePreferences": {
    "hardware": {
     "accelerator": null,
     "gpuPoolId": null,
     "memory": null
    }
   },
   "dashboards": [],
   "environmentMetadata": {
    "base_environment": "",
    "environment_version": "3"
   },
   "inputWidgetPreferences": null,
   "language": "python",
   "notebookMetadata": {
    "pythonIndentUnit": 4
   },
   "notebookName": "JSON_FILE_FORMAT",
   "widgets": {}
  },
  "language_info": {
   "name": "python"
  }
 },
 "nbformat": 4,
 "nbformat_minor": 0
}
