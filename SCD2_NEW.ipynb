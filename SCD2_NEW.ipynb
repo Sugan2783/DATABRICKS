{
 "cells": [
  {
   "cell_type": "code",
   "execution_count": 0,
   "metadata": {
    "application/vnd.databricks.v1+cell": {
     "cellMetadata": {
      "byteLimit": 2048000,
      "rowLimit": 10000
     },
     "inputWidgets": {},
     "nuid": "cbce64d0-d22f-47fc-b852-f77bbcf28e59",
     "showTitle": false,
     "tableResultSettingsMap": {},
     "title": ""
    }
   },
   "outputs": [],
   "source": [
    "from pyspark.sql.functions import *\n",
    "from pyspark.sql.types import *\n",
    "from datetime import date"
   ]
  },
  {
   "cell_type": "code",
   "execution_count": 0,
   "metadata": {
    "application/vnd.databricks.v1+cell": {
     "cellMetadata": {
      "byteLimit": 2048000,
      "rowLimit": 10000
     },
     "inputWidgets": {},
     "nuid": "f8f23929-3c8a-4dc3-a951-86c02a51cdf1",
     "showTitle": false,
     "tableResultSettingsMap": {},
     "title": ""
    }
   },
   "outputs": [],
   "source": [
    "source = spark.createDataFrame([(1, \"Alice\",\"Rochester\"),(2, \"Bob\",\"Chennai\"),(3, \"CHARLIE\",\"Seattle\")], [\"id\", \"name\",\"city\"])\n",
    "source.show()\n",
    "target = spark.createDataFrame([(1, \"Alice\", \"Delhi\",\"2025-06-24\",\"9999-12-31\", True)], [\"tgt_id\", \"tgt_name\",\"tgt_city\",\"start_date\",\"end_date\",\"active_flag\"])\n",
    "target.show()"
   ]
  },
  {
   "cell_type": "code",
   "execution_count": 0,
   "metadata": {
    "application/vnd.databricks.v1+cell": {
     "cellMetadata": {
      "byteLimit": 2048000,
      "rowLimit": 10000
     },
     "inputWidgets": {},
     "nuid": "1f2eb980-3efe-4169-8756-012c38611723",
     "showTitle": false,
     "tableResultSettingsMap": {},
     "title": ""
    }
   },
   "outputs": [],
   "source": [
    "today = date.today().isoformat()\n",
    "today"
   ]
  },
  {
   "cell_type": "code",
   "execution_count": 0,
   "metadata": {
    "application/vnd.databricks.v1+cell": {
     "cellMetadata": {
      "byteLimit": 2048000,
      "rowLimit": 10000
     },
     "inputWidgets": {},
     "nuid": "f0b346cd-9ac0-4118-9260-c9c34c8f8afb",
     "showTitle": false,
     "tableResultSettingsMap": {},
     "title": ""
    }
   },
   "outputs": [],
   "source": [
    "joined_df = source.alias(\"src\").join(target.filter(col(\"active_flag\") == True).alias(\"tgt\"), col(\"src.id\") == col(\"tgt.tgt_id\"), \"left\")\n",
    "joined_df.show()"
   ]
  },
  {
   "cell_type": "code",
   "execution_count": 0,
   "metadata": {
    "application/vnd.databricks.v1+cell": {
     "cellMetadata": {
      "byteLimit": 2048000,
      "rowLimit": 10000
     },
     "inputWidgets": {},
     "nuid": "13c2c44a-7ac7-4558-814a-27c8ec5a51e9",
     "showTitle": false,
     "tableResultSettingsMap": {},
     "title": ""
    }
   },
   "outputs": [],
   "source": [
    "changed = joined_df.filter((joined_df.city != joined_df.tgt_city) | (joined_df.name != joined_df.tgt_name) | joined_df.tgt_id.isNull())\n",
    "changed.show()"
   ]
  },
  {
   "cell_type": "code",
   "execution_count": 0,
   "metadata": {
    "application/vnd.databricks.v1+cell": {
     "cellMetadata": {
      "byteLimit": 2048000,
      "rowLimit": 10000
     },
     "inputWidgets": {},
     "nuid": "bec8233b-299b-40c8-b990-8ccb46b58dad",
     "showTitle": false,
     "tableResultSettingsMap": {},
     "title": ""
    }
   },
   "outputs": [],
   "source": [
    "new_record = changed.filter(\"tgt_id is NULL\").select(\"id\",\"name\",\"city\", lit(today).alias(\"start_date\"), lit(\"9999-12-31\").alias(\"end_date\"),lit(True).alias(\"active_flag\"))\n",
    "new_record.show()"
   ]
  },
  {
   "cell_type": "code",
   "execution_count": 0,
   "metadata": {
    "application/vnd.databricks.v1+cell": {
     "cellMetadata": {
      "byteLimit": 2048000,
      "rowLimit": 10000
     },
     "inputWidgets": {},
     "nuid": "7771b4cb-2d81-4a8f-a85d-88626ff1b36b",
     "showTitle": false,
     "tableResultSettingsMap": {},
     "title": ""
    }
   },
   "outputs": [],
   "source": [
    "updated_record = changed.filter(\"tgt_id is NOT NULL\")"
   ]
  },
  {
   "cell_type": "code",
   "execution_count": 0,
   "metadata": {
    "application/vnd.databricks.v1+cell": {
     "cellMetadata": {
      "byteLimit": 2048000,
      "rowLimit": 10000
     },
     "inputWidgets": {},
     "nuid": "16c39228-b2a5-4a40-9852-179aa256bc16",
     "showTitle": false,
     "tableResultSettingsMap": {},
     "title": ""
    }
   },
   "outputs": [],
   "source": [
    "updated_record = changed.filter(\"tgt_id is NOT NULL\").select(\"id\",\"name\",\"city\",\"start_date\", lit(\"9999-31-01\").alias(\"end_date\"),lit(True).alias(\"active_flag\"))\n",
    "updated_record.show()"
   ]
  },
  {
   "cell_type": "code",
   "execution_count": 0,
   "metadata": {
    "application/vnd.databricks.v1+cell": {
     "cellMetadata": {
      "byteLimit": 2048000,
      "rowLimit": 10000
     },
     "inputWidgets": {},
     "nuid": "a9c57e0c-65cd-49f5-8558-d4ab1ad0999e",
     "showTitle": false,
     "tableResultSettingsMap": {},
     "title": ""
    }
   },
   "outputs": [],
   "source": [
    "expired_record = updated_record.select(\"tgt_id\", \"tgt_name\", \"tgt_city\",\"start_date\", lit(today).alias(\"end_date\"),lit(False).alias(\"active_flag\"))\n",
    "expired_record.show()"
   ]
  },
  {
   "cell_type": "code",
   "execution_count": 0,
   "metadata": {
    "application/vnd.databricks.v1+cell": {
     "cellMetadata": {
      "byteLimit": 2048000,
      "rowLimit": 10000
     },
     "inputWidgets": {},
     "nuid": "583274be-b633-4c74-9dad-af19a5f59849",
     "showTitle": false,
     "tableResultSettingsMap": {},
     "title": ""
    }
   },
   "outputs": [],
   "source": [
    "expired_record = updated_record.select(\n",
    "    \"src.id\", \n",
    "    \"src.name\", \n",
    "    \"src.city\", \n",
    "    \"start_date\", \n",
    "    lit(today).alias(\"end_date\"), \n",
    "    lit(False).alias(\"active_flag\")\n",
    ")\n",
    "display(expired_record)"
   ]
  },
  {
   "cell_type": "code",
   "execution_count": 0,
   "metadata": {
    "application/vnd.databricks.v1+cell": {
     "cellMetadata": {
      "byteLimit": 2048000,
      "rowLimit": 10000
     },
     "inputWidgets": {},
     "nuid": "4fcc8c9a-b0da-4048-b6b0-5b364ba87bf5",
     "showTitle": false,
     "tableResultSettingsMap": {},
     "title": ""
    }
   },
   "outputs": [],
   "source": [
    "scd2_result = new_record.union(expired_record).union(updated_record)\n",
    "display(scd2_result)"
   ]
  },
  {
   "cell_type": "code",
   "execution_count": 0,
   "metadata": {
    "application/vnd.databricks.v1+cell": {
     "cellMetadata": {
      "byteLimit": 2048000,
      "rowLimit": 10000
     },
     "inputWidgets": {},
     "nuid": "4d087490-c5d3-479c-9989-94e218900b40",
     "showTitle": false,
     "tableResultSettingsMap": {},
     "title": ""
    }
   },
   "outputs": [],
   "source": [
    "from pyspark.sql.functions import *\n",
    "from pyspark.sql.types import *\n",
    "from datetime import date\n",
    "\n",
    "source = spark.createDataFrame([(1, \"Alice\",\"Rochester\"),(2, \"Bob\",\"Chennai\")], [\"id\", \"name\",\"city\"])\n",
    "source.show()\n",
    "target = spark.createDataFrame([(1, \"Alice\", \"Delhi\",\"2025-06-24\",\"9999-12-31\", True)], [\"tgt_id\", \"tgt_name\",\"tgt_city\",\"start_date\",\"end_date\",\"active_flag\"])\n",
    "target.show()\n",
    "\n",
    "today = date.today().isoformat()\n",
    "today\n",
    "\n",
    "joined_df = source.alias(\"src\").join(target.filter(col(\"active_flag\") == True).alias(\"tgt\"), col(\"src.id\") == col(\"tgt.tgt_id\"), \"left\")\n",
    "joined_df.show()\n",
    "\n",
    "changed = joined_df.filter((joined_df.city != joined_df.tgt_city) | (joined_df.name != joined_df.tgt_name) | joined_df.tgt_id.isNull())\n",
    "changed.show()\n",
    "\n",
    "new_record = changed.filter(\"tgt_id is NULL\").select(\"id\",\"name\",\"city\", lit(today).alias(\"start_date\"), lit(\"9999-12-31\").alias(\"end_date\"),lit(True).alias(\"active_flag\"))\n",
    "new_record.show()\n",
    "\n",
    "updated_record = changed.filter(\"tgt_id is NOT NULL\").select(\"id\",\"name\",\"city\",\"start_date\", lit(today).alias(\"end_date\"),lit(True).alias(\"active_flag\"))\n",
    "updated_record.show()\n",
    "\n",
    "expired_record = updated_record.select(\"tgt_id\", \"tgt_name\", \"tgt_city\",\"start_date\", lit(today).alias(\"end_date\"),lit(False).alias(\"active_flag\"))\n",
    "expired_record.show()\n",
    "\n",
    "scd2_result = new_record.union(expired_record).union(updated_record)\n",
    "display(scd2_result)"
   ]
  },
  {
   "cell_type": "code",
   "execution_count": 0,
   "metadata": {
    "application/vnd.databricks.v1+cell": {
     "cellMetadata": {
      "byteLimit": 2048000,
      "rowLimit": 10000
     },
     "inputWidgets": {},
     "nuid": "3ac20cd6-e75a-4ec7-ae1f-1b61d57b6e34",
     "showTitle": false,
     "tableResultSettingsMap": {},
     "title": ""
    }
   },
   "outputs": [],
   "source": [
    "from pyspark.sql.functions import *\n",
    "from pyspark.sql.types import *\n",
    "from datetime import date\n",
    "\n",
    "source = spark.createDataFrame([(1, \"Alice\",\"Rochester\"),(2, \"Bob\",\"Chennai\"),(3, \"CHARLIESH\",\"Seattle\")], [\"id\", \"name\",\"city\"])\n",
    "source.show()\n",
    "target = spark.createDataFrame([(1, \"Alice\", \"Delhi\",\"2025-06-24\",\"9999-12-31\", True)], [\"tgt_id\", \"tgt_name\",\"tgt_city\",\"start_date\",\"end_date\",\"active_flag\"])\n",
    "target.show()\n",
    "\n",
    "today = date.today().isoformat()\n",
    "today\n",
    "\n",
    "joined_df = source.alias(\"src\").join(target.filter(col(\"active_flag\") == True).alias(\"tgt\"), col(\"src.id\") == col(\"tgt.tgt_id\"), \"left\")\n",
    "joined_df.show()\n",
    "\n",
    "changed = joined_df.filter((joined_df.city != joined_df.tgt_city) | (joined_df.name != joined_df.tgt_name) | joined_df.tgt_id.isNull())\n",
    "changed.show()\n",
    "\n",
    "new_record = changed.filter(\"tgt_id is NULL\").select(\"id\",\"name\",\"city\", lit(today).alias(\"start_date\"), lit(\"9999-12-31\").alias(\"end_date\"),lit(True).alias(\"active_flag\"))\n",
    "new_record.show()\n",
    "\n",
    "updated_record1 = changed.filter(\"tgt_id is NOT NULL\")\n",
    "\n",
    "updated_record = changed.filter(\"tgt_id is NOT NULL\").select(\"id\",\"name\",\"city\",\"start_date\", lit(\"9999-12-31\").alias(\"end_date\"),lit(True).alias(\"active_flag\"))\n",
    "updated_record.show()\n",
    "\n",
    "expired_record = updated_record1.select(\"tgt_id\", \"tgt_name\", \"tgt_city\",\"start_date\", lit(today).alias(\"end_date\"),lit(False).alias(\"active_flag\"))\n",
    "expired_record.show()\n",
    "\n",
    "scd2_result = new_record.union(expired_record).union(updated_record)\n",
    "display(scd2_result)"
   ]
  },
  {
   "cell_type": "code",
   "execution_count": 0,
   "metadata": {
    "application/vnd.databricks.v1+cell": {
     "cellMetadata": {
      "byteLimit": 2048000,
      "rowLimit": 10000
     },
     "inputWidgets": {},
     "nuid": "65a58ff5-d88c-48a6-924a-f353ae1086ea",
     "showTitle": false,
     "tableResultSettingsMap": {},
     "title": ""
    }
   },
   "outputs": [],
   "source": [
    "target = target.withColumnRenamed(\"id\",\"tgt_id\").withColumnRenamed(\"name\",\"tgt_name\").withColumnRenamed(\"city\",\"tgt_city\")\n",
    "target"
   ]
  },
  {
   "cell_type": "code",
   "execution_count": 0,
   "metadata": {
    "application/vnd.databricks.v1+cell": {
     "cellMetadata": {
      "byteLimit": 2048000,
      "rowLimit": 10000
     },
     "inputWidgets": {},
     "nuid": "5f231cc6-b45d-47d8-acf2-826d8aea1d41",
     "showTitle": false,
     "tableResultSettingsMap": {},
     "title": ""
    }
   },
   "outputs": [],
   "source": [
    "target.show()"
   ]
  },
  {
   "cell_type": "code",
   "execution_count": 0,
   "metadata": {
    "application/vnd.databricks.v1+cell": {
     "cellMetadata": {
      "byteLimit": 2048000,
      "rowLimit": 10000
     },
     "inputWidgets": {},
     "nuid": "908bee23-3191-46d1-87f4-f9b702a0f30f",
     "showTitle": false,
     "tableResultSettingsMap": {},
     "title": ""
    }
   },
   "outputs": [],
   "source": [
    "from pyspark.sql.functions import *\n",
    "from pyspark.sql.types import *\n",
    "from datetime import date\n",
    "\n",
    "source = spark.createDataFrame([(1, \"Alice\",\"Rochester\"),(2, \"Bob\",\"Chennai\"),(3, \"CHARLIE\",\"Seattle\")], [\"id\", \"name\",\"city\"])\n",
    "source.show()\n",
    "target = spark.createDataFrame([(1, \"Alice\", \"Delhi\",\"2025-06-24\",\"9999-12-31\", True)], [\"tgt_id\", \"tgt_name\",\"tgt_city\",\"start_date\",\"end_date\",\"active_flag\"])\n",
    "target.show()\n",
    "\n",
    "today = date.today().isoformat()\n",
    "today\n",
    "\n",
    "joined_df = source.alias(\"src\").join(target.filter(col(\"active_flag\") == True).alias(\"tgt\"), col(\"src.id\") == col(\"tgt.tgt_id\"), \"left\")\n",
    "joined_df.show()\n",
    "\n",
    "changed = joined_df.filter((joined_df.city != joined_df.tgt_city) | (joined_df.name != joined_df.tgt_name) | joined_df.tgt_id.isNull())\n",
    "changed.show()\n",
    "\n",
    "new_record = changed.filter(\"tgt_id is NULL\").select(\"id\",\"name\",\"city\", lit(today).alias(\"start_date\"), lit(\"9999-12-31\").alias(\"end_date\"),lit(True).alias(\"active_flag\"))\n",
    "new_record.show()\n",
    "\n",
    "update_record1 = changed.filter(\"tgt_id is NOT NULL\")\n",
    "\n",
    "\n",
    "updated_record = changed.filter(\"tgt_id is NOT NULL\").select(\"id\",\"name\",\"city\",\"start_date\", lit(\"9999-12-31\").alias(\"end_date\"),lit(True).alias(\"active_flag\"))\n",
    "updated_record.show()\n",
    "\n",
    "expired_record = update_record1.select(\"tgt_id\", \"tgt_name\", \"tgt_city\",\"start_date\", lit(today).alias(\"end_date\"),lit(False).alias(\"active_flag\"))\n",
    "expired_record.show()\n",
    "\n",
    "scd2_result = new_record.union(expired_record).union(updated_record)\n",
    "display(scd2_result)"
   ]
  },
  {
   "cell_type": "code",
   "execution_count": 0,
   "metadata": {
    "application/vnd.databricks.v1+cell": {
     "cellMetadata": {
      "byteLimit": 2048000,
      "rowLimit": 10000
     },
     "inputWidgets": {},
     "nuid": "b03349b2-a637-4959-96a7-14eeaa816574",
     "showTitle": false,
     "tableResultSettingsMap": {},
     "title": ""
    }
   },
   "outputs": [],
   "source": [
    "target.filter(col(\"active_flag\") == True).show()\n"
   ]
  },
  {
   "cell_type": "code",
   "execution_count": 0,
   "metadata": {
    "application/vnd.databricks.v1+cell": {
     "cellMetadata": {
      "byteLimit": 2048000,
      "rowLimit": 10000
     },
     "inputWidgets": {},
     "nuid": "74d6e52f-b995-4b9c-b0fb-369749d63410",
     "showTitle": false,
     "tableResultSettingsMap": {},
     "title": ""
    }
   },
   "outputs": [],
   "source": [
    "target = spark.createDataFrame([(1, \"Alice\", \"Delhi\",\"2025-06-24\",\"9999-12-31\", True)], [\"tgt_id\", \"tgt_name\",\"tgt_city\",\"start_date\",\"end_date\",\"active_flag\"])\n",
    "target.show()"
   ]
  },
  {
   "cell_type": "code",
   "execution_count": 0,
   "metadata": {
    "application/vnd.databricks.v1+cell": {
     "cellMetadata": {
      "byteLimit": 2048000,
      "rowLimit": 10000
     },
     "inputWidgets": {},
     "nuid": "a08bd3d6-9b4e-4beb-9360-8ad280498564",
     "showTitle": false,
     "tableResultSettingsMap": {},
     "title": ""
    }
   },
   "outputs": [],
   "source": [
    "target = scd2_result"
   ]
  }
 ],
 "metadata": {
  "application/vnd.databricks.v1+notebook": {
   "computePreferences": {
    "hardware": {
     "accelerator": null,
     "gpuPoolId": null,
     "memory": null
    }
   },
   "dashboards": [],
   "environmentMetadata": {
    "base_environment": "",
    "environment_version": "2"
   },
   "inputWidgetPreferences": null,
   "language": "python",
   "notebookMetadata": {
    "pythonIndentUnit": 4
   },
   "notebookName": "SCD2_NEW",
   "widgets": {}
  },
  "language_info": {
   "name": "python"
  }
 },
 "nbformat": 4,
 "nbformat_minor": 0
}
