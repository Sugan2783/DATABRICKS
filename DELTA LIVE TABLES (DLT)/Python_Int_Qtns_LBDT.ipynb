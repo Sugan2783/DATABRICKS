{
 "cells": [
  {
   "cell_type": "code",
   "execution_count": 0,
   "metadata": {
    "application/vnd.databricks.v1+cell": {
     "cellMetadata": {
      "byteLimit": 2048000,
      "rowLimit": 10000
     },
     "inputWidgets": {},
     "nuid": "3720ba47-f853-424f-bbcf-db2bc50e8ff6",
     "showTitle": true,
     "tableResultSettingsMap": {},
     "title": "Remove Duplicates"
    }
   },
   "outputs": [],
   "source": [
    "lst = [1,4,6,4,2,6]\n",
    "\n",
    "unique = []\n",
    "for i in lst:\n",
    "    if i not in unique:\n",
    "        unique.append(i)\n",
    "print(unique)"
   ]
  },
  {
   "cell_type": "code",
   "execution_count": 0,
   "metadata": {
    "application/vnd.databricks.v1+cell": {
     "cellMetadata": {
      "byteLimit": 2048000,
      "rowLimit": 10000
     },
     "inputWidgets": {},
     "nuid": "9b5be7aa-d00e-4903-b004-e3f7d0849ca8",
     "showTitle": true,
     "tableResultSettingsMap": {},
     "title": "Find The Largest Element in the List"
    }
   },
   "outputs": [],
   "source": [
    "lst = list(range(10))\n",
    "#print(l)\n",
    "#high = max(l)\n",
    "#print(high)\n",
    "\n",
    "print(list(lst))\n",
    "\n",
    "max_value = lst[0]\n",
    "for i in lst:\n",
    "    if i > max_value:\n",
    "        max_value = i\n",
    "print(max_value)\n",
    "        "
   ]
  },
  {
   "cell_type": "code",
   "execution_count": 0,
   "metadata": {
    "application/vnd.databricks.v1+cell": {
     "cellMetadata": {
      "byteLimit": 2048000,
      "rowLimit": 10000
     },
     "inputWidgets": {},
     "nuid": "17958a3a-1e5e-45e0-8d2f-e9685dd7b8f6",
     "showTitle": true,
     "tableResultSettingsMap": {},
     "title": "count word frequency"
    }
   },
   "outputs": [],
   "source": [
    "text = 'I am a Good Data Engineer'\n",
    "\n",
    "word = text.split(' ')\n",
    "print(word)\n",
    "\n",
    "d ={}\n",
    "for i in word:\n",
    "    if i in word:\n",
    "        d[i] += 1\n",
    "    else:\n",
    "        d[i] = 1\n",
    "\n",
    "print(d)\n"
   ]
  },
  {
   "cell_type": "code",
   "execution_count": 0,
   "metadata": {
    "application/vnd.databricks.v1+cell": {
     "cellMetadata": {
      "byteLimit": 2048000,
      "rowLimit": 10000
     },
     "inputWidgets": {},
     "nuid": "3dbdc24f-086c-4259-8e5b-cd21cac5e732",
     "showTitle": false,
     "tableResultSettingsMap": {},
     "title": ""
    }
   },
   "outputs": [],
   "source": [
    "text = 'I am a Good Data Engineer from USA Engineer'\n",
    "\n",
    "word = text.split()\n",
    "print(word)\n",
    "\n",
    "d = {}\n",
    "for i in word:\n",
    "    if i in d:\n",
    "        d[i] += 1\n",
    "    else:\n",
    "        d[i] = 1\n",
    "\n",
    "print(d)"
   ]
  },
  {
   "cell_type": "code",
   "execution_count": 0,
   "metadata": {
    "application/vnd.databricks.v1+cell": {
     "cellMetadata": {
      "byteLimit": 2048000,
      "rowLimit": 10000
     },
     "inputWidgets": {},
     "nuid": "602bc712-071d-4600-a227-27f39b6c5753",
     "showTitle": true,
     "tableResultSettingsMap": {},
     "title": "Find a factorial Number Recursive"
    }
   },
   "outputs": [],
   "source": [
    "\n",
    "def fact(n):\n",
    "    if n == 0:\n",
    "        return 1\n",
    "    else:\n",
    "        return n * fact(n-1)\n",
    "fact(4)"
   ]
  },
  {
   "cell_type": "code",
   "execution_count": 0,
   "metadata": {
    "application/vnd.databricks.v1+cell": {
     "cellMetadata": {
      "byteLimit": 2048000,
      "rowLimit": 10000
     },
     "inputWidgets": {},
     "nuid": "8a396da4-d09d-402b-9b7c-6ebcc6c791eb",
     "showTitle": false,
     "tableResultSettingsMap": {},
     "title": ""
    }
   },
   "outputs": [],
   "source": [
    "def factorial(n):\n",
    "    result = 1\n",
    "    for i in range(1, n+1):\n",
    "        result *= i\n",
    "    return result\n",
    "\n",
    "factorial(5)"
   ]
  },
  {
   "cell_type": "code",
   "execution_count": 0,
   "metadata": {
    "application/vnd.databricks.v1+cell": {
     "cellMetadata": {
      "byteLimit": 2048000,
      "rowLimit": 10000
     },
     "inputWidgets": {},
     "nuid": "a80a92e7-4335-4447-aed8-58e7aaea05c1",
     "showTitle": true,
     "tableResultSettingsMap": {},
     "title": "Reverse String"
    }
   },
   "outputs": [],
   "source": [
    "a = 'hello'\n",
    "\n",
    "print(a[::-1])\n",
    "\n"
   ]
  },
  {
   "cell_type": "code",
   "execution_count": 0,
   "metadata": {
    "application/vnd.databricks.v1+cell": {
     "cellMetadata": {
      "byteLimit": 2048000,
      "rowLimit": 10000
     },
     "inputWidgets": {},
     "nuid": "440fcaad-5121-4bc7-b1ac-412da995e3cd",
     "showTitle": false,
     "tableResultSettingsMap": {},
     "title": ""
    }
   },
   "outputs": [],
   "source": [
    "from pyspark.sql.functions import max\n",
    "\n",
    "nums = [1,3,5,7,9]\n",
    "\n",
    "print(\"high: \", int(max(nums)))"
   ]
  },
  {
   "cell_type": "code",
   "execution_count": 0,
   "metadata": {
    "application/vnd.databricks.v1+cell": {
     "cellMetadata": {
      "byteLimit": 2048000,
      "rowLimit": 10000
     },
     "inputWidgets": {},
     "nuid": "e543f49c-e9ca-4074-a307-8c07a7f1b87a",
     "showTitle": false,
     "tableResultSettingsMap": {},
     "title": ""
    }
   },
   "outputs": [],
   "source": [
    "nums = [1, 3, 5, 7, 9]\n",
    "\n",
    "print(\"high: \", max(nums))"
   ]
  },
  {
   "cell_type": "code",
   "execution_count": 0,
   "metadata": {
    "application/vnd.databricks.v1+cell": {
     "cellMetadata": {
      "byteLimit": 2048000,
      "rowLimit": 10000
     },
     "inputWidgets": {},
     "nuid": "753fec8a-8320-425d-8195-1faacb8b68b5",
     "showTitle": false,
     "tableResultSettingsMap": {},
     "title": ""
    }
   },
   "outputs": [],
   "source": [
    "l = list(range(10))\n",
    "print(l)\n",
    "\n",
    "print(list(l))\n",
    "\n",
    "max_value = l[0]\n",
    "for i in l:\n",
    "    if i > max_value:\n",
    "        max_value = i\n",
    "print(max_value)"
   ]
  }
 ],
 "metadata": {
  "application/vnd.databricks.v1+notebook": {
   "computePreferences": null,
   "dashboards": [],
   "environmentMetadata": {
    "base_environment": "",
    "environment_version": "3"
   },
   "inputWidgetPreferences": null,
   "language": "python",
   "notebookMetadata": {
    "pythonIndentUnit": 4
   },
   "notebookName": "Python_Int_Qtns_LBDT",
   "widgets": {}
  },
  "language_info": {
   "name": "python"
  }
 },
 "nbformat": 4,
 "nbformat_minor": 0
}
