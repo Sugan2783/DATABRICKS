{
 "cells": [
  {
   "cell_type": "code",
   "execution_count": 0,
   "metadata": {
    "application/vnd.databricks.v1+cell": {
     "cellMetadata": {
      "byteLimit": 2048000,
      "rowLimit": 10000
     },
     "inputWidgets": {},
     "nuid": "429adc69-2505-43b0-9cc7-4d52ce4aff75",
     "showTitle": false,
     "tableResultSettingsMap": {},
     "title": ""
    }
   },
   "outputs": [],
   "source": [
    "DevConfig = {\n",
    "    \"General\" : {\n",
    "        \"min_partitions\" : 12,\n",
    "        \"shuffle_partitions\" : 36,\n",
    "        \"stream_checkpoint_root\" : \"/Volumes/workspace/default/emp/tmp/streaming/checkpoint/\"\n",
    "        },\n",
    "    \"DDLInfo\" : {\n",
    "        \"RootVolume\" : \"/Volumes/workspace/default/emp/tmp/streaming/\",\n",
    "        \"Catalog\" : \"unitycatalog.dev\" \n",
    "        }   \n",
    "    }  \n"
   ]
  }
 ],
 "metadata": {
  "application/vnd.databricks.v1+notebook": {
   "computePreferences": {
    "hardware": {
     "accelerator": null,
     "gpuPoolId": null,
     "memory": null
    }
   },
   "dashboards": [],
   "environmentMetadata": {
    "base_environment": "",
    "environment_version": "2"
   },
   "inputWidgetPreferences": null,
   "language": "python",
   "notebookMetadata": {
    "pythonIndentUnit": 4
   },
   "notebookName": "PROPERTY_CONFIQ",
   "widgets": {}
  },
  "language_info": {
   "name": "python"
  }
 },
 "nbformat": 4,
 "nbformat_minor": 0
}
