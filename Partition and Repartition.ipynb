{
 "cells": [
  {
   "cell_type": "code",
   "execution_count": 0,
   "metadata": {
    "application/vnd.databricks.v1+cell": {
     "cellMetadata": {
      "byteLimit": 2048000,
      "rowLimit": 10000
     },
     "inputWidgets": {},
     "nuid": "4cb797cc-16c2-4b2b-91d0-aa6b2551cd79",
     "showTitle": false,
     "tableResultSettingsMap": {},
     "title": ""
    }
   },
   "outputs": [],
   "source": [
    "display(dbutils.fs.ls(\"/Volumes/workspace/default/emp/EMP_FF_SRC.txt\"))"
   ]
  },
  {
   "cell_type": "code",
   "execution_count": 0,
   "metadata": {
    "application/vnd.databricks.v1+cell": {
     "cellMetadata": {
      "byteLimit": 2048000,
      "rowLimit": 10000
     },
     "inputWidgets": {},
     "nuid": "8f81b1a7-594d-4478-b521-79219ff08241",
     "showTitle": false,
     "tableResultSettingsMap": {},
     "title": ""
    }
   },
   "outputs": [],
   "source": [
    "display(dbutils.fs.ls(\"/Volumes/workspace/default/emp/\"))"
   ]
  },
  {
   "cell_type": "code",
   "execution_count": 0,
   "metadata": {
    "application/vnd.databricks.v1+cell": {
     "cellMetadata": {
      "byteLimit": 2048000,
      "rowLimit": 10000
     },
     "inputWidgets": {},
     "nuid": "19c2feb0-5ba6-4ad7-857e-74af00421763",
     "showTitle": false,
     "tableResultSettingsMap": {},
     "title": ""
    }
   },
   "outputs": [],
   "source": [
    "display(dbutils.fs.ls(\"/Volumes/workspace/default/emp/EMP_DELTA\"))"
   ]
  },
  {
   "cell_type": "code",
   "execution_count": 0,
   "metadata": {
    "application/vnd.databricks.v1+cell": {
     "cellMetadata": {
      "byteLimit": 2048000,
      "rowLimit": 10000
     },
     "inputWidgets": {},
     "nuid": "7587e7f2-681b-4ce9-8d2f-04e4efa35964",
     "showTitle": false,
     "tableResultSettingsMap": {},
     "title": ""
    }
   },
   "outputs": [],
   "source": [
    "display(dbutils.fs.ls(\"/Volumes/workspace/default/emp/EMP_FF_SRC.txt\"))"
   ]
  },
  {
   "cell_type": "code",
   "execution_count": 0,
   "metadata": {
    "application/vnd.databricks.v1+cell": {
     "cellMetadata": {
      "byteLimit": 2048000,
      "rowLimit": 10000
     },
     "inputWidgets": {},
     "nuid": "b7300e7e-45c8-4981-aec0-cfeebc6a4683",
     "showTitle": false,
     "tableResultSettingsMap": {},
     "title": ""
    }
   },
   "outputs": [],
   "source": [
    "from pyspark.sql.functions import *\n",
    "from pyspark.sql.types import *\n",
    "\n",
    "df = spark.read.format(\"csv\").option(\"header\", \"true\").option(\"dateFormat\", \"MM/dd/yyyy\").option(\"inferSchema\", \"true\").option(\"delimiter\", \"|\").load(\"/Volumes/workspace/default/emp/EMP_FF_SRC.txt\")\n",
    "\n",
    "#df = df.withColumn(\"HIRE_DATE\", to_date(col(\"HIRE_DATE\"), \"MM/dd/yyyy\"))\n",
    "df.display()"
   ]
  },
  {
   "cell_type": "code",
   "execution_count": 0,
   "metadata": {
    "application/vnd.databricks.v1+cell": {
     "cellMetadata": {
      "byteLimit": 2048000,
      "rowLimit": 10000
     },
     "inputWidgets": {},
     "nuid": "9dc587d9-a8c1-42f7-86de-3df23c0b0e99",
     "showTitle": false,
     "tableResultSettingsMap": {},
     "title": ""
    }
   },
   "outputs": [],
   "source": [
    "df.write.partitionBy(\"DEPARTMENT_ID\").mode(\"overwrite\").format(\"delta\").save(\"/Volumes/workspace/default/emp/EMP_DELTA\")"
   ]
  },
  {
   "cell_type": "code",
   "execution_count": 0,
   "metadata": {
    "application/vnd.databricks.v1+cell": {
     "cellMetadata": {
      "byteLimit": 2048000,
      "rowLimit": 10000
     },
     "inputWidgets": {},
     "nuid": "96eaa471-a9aa-4de8-a2af-90fb7d819f2d",
     "showTitle": false,
     "tableResultSettingsMap": {},
     "title": ""
    }
   },
   "outputs": [],
   "source": [
    "df.repartition(5).write.mode(\"overwrite\").format(\"parquet\").save(\"/Volumes/workspace/default/emp/EMP_PARQUET\")"
   ]
  },
  {
   "cell_type": "code",
   "execution_count": 0,
   "metadata": {
    "application/vnd.databricks.v1+cell": {
     "cellMetadata": {
      "byteLimit": 2048000,
      "rowLimit": 10000
     },
     "inputWidgets": {},
     "nuid": "9540e597-9c53-4411-8d9a-1b5142990a66",
     "showTitle": false,
     "tableResultSettingsMap": {},
     "title": ""
    }
   },
   "outputs": [],
   "source": [
    "from pyspark.sql import Row"
   ]
  },
  {
   "cell_type": "code",
   "execution_count": 0,
   "metadata": {
    "application/vnd.databricks.v1+cell": {
     "cellMetadata": {
      "byteLimit": 2048000,
      "rowLimit": 10000
     },
     "inputWidgets": {},
     "nuid": "a0a48504-4910-44b3-95fc-0f9a30657c0d",
     "showTitle": false,
     "tableResultSettingsMap": {},
     "title": ""
    }
   },
   "outputs": [],
   "source": [
    "df_data  = [Row(key= \"A\", value=1)]*100 + [Row(key= \"B\", value=2)]*2 + [Row(key= \"C\", value=3)]\n",
    "df_a = spark.createDataFrame(df_data)\n",
    "df_a.display()"
   ]
  },
  {
   "cell_type": "code",
   "execution_count": 0,
   "metadata": {
    "application/vnd.databricks.v1+cell": {
     "cellMetadata": {
      "byteLimit": 2048000,
      "rowLimit": 10000
     },
     "inputWidgets": {},
     "nuid": "10c68404-a996-4e21-bd89-fe82a599c938",
     "showTitle": false,
     "tableResultSettingsMap": {},
     "title": ""
    }
   },
   "outputs": [],
   "source": [
    "df_bdata  = [Row(key= \"A\", name=\"Alice\")] + [Row(key= \"B\", name=\"Bob\")] + [Row(key= \"C\", name=\"Charles\")]\n",
    "df_B = spark.createDataFrame(df_bdata)\n",
    "df_B.display()"
   ]
  },
  {
   "cell_type": "code",
   "execution_count": 0,
   "metadata": {
    "application/vnd.databricks.v1+cell": {
     "cellMetadata": {
      "byteLimit": 2048000,
      "rowLimit": 10000
     },
     "inputWidgets": {},
     "nuid": "a7d24143-9250-40c5-8559-c7233df2421c",
     "showTitle": false,
     "tableResultSettingsMap": {},
     "title": ""
    }
   },
   "outputs": [],
   "source": [
    "df_salt = df_a.withColumn(\"salt\", floor(rand(seed = 1)*3))\n",
    "df_salt = df_salt.withColumn(\"salted_key\", concat_ws(\"_\",df_salt[\"key\"],df_salt[\"salt\"]))\n",
    "df_salt.display()"
   ]
  },
  {
   "cell_type": "code",
   "execution_count": 0,
   "metadata": {
    "application/vnd.databricks.v1+cell": {
     "cellMetadata": {
      "byteLimit": 2048000,
      "rowLimit": 10000
     },
     "inputWidgets": {},
     "nuid": "beeab3f4-6062-4db8-93e6-09d8802b7fc4",
     "showTitle": false,
     "tableResultSettingsMap": {},
     "title": ""
    }
   },
   "outputs": [],
   "source": [
    "from pyspark.sql.functions import *\n",
    "from pyspark.sql.types import *"
   ]
  },
  {
   "cell_type": "code",
   "execution_count": 0,
   "metadata": {
    "application/vnd.databricks.v1+cell": {
     "cellMetadata": {
      "byteLimit": 2048000,
      "rowLimit": 10000
     },
     "inputWidgets": {},
     "nuid": "185316d9-7c44-4b28-a97a-e5f4587726e7",
     "showTitle": false,
     "tableResultSettingsMap": {},
     "title": ""
    }
   },
   "outputs": [],
   "source": [
    "ary = array([lit(i) for i in range(3)])\n",
    "\n",
    "df_B = df_B.withColumn(\"salt\", explode(ary))\n",
    "df_B.display()\n",
    "df_B = df_B.withColumn(\"salted_key\", concat_ws(\"_\",df_B[\"key\"],df_B[\"salt\"]))\n",
    "df_B.display()\n"
   ]
  },
  {
   "cell_type": "code",
   "execution_count": 0,
   "metadata": {
    "application/vnd.databricks.v1+cell": {
     "cellMetadata": {
      "byteLimit": 2048000,
      "rowLimit": 10000
     },
     "inputWidgets": {},
     "nuid": "2b9f3d52-c874-4599-97be-43c7efb9ace2",
     "showTitle": false,
     "tableResultSettingsMap": {},
     "title": ""
    }
   },
   "outputs": [],
   "source": [
    "joined_df = df_salt.join(df_B, df_salt.salted_key == df_B.salted_key, \"inner\").select(df_salt.key, df_salt.value, df_B.name)\n",
    "joined_df.display()"
   ]
  },
  {
   "cell_type": "code",
   "execution_count": 0,
   "metadata": {
    "application/vnd.databricks.v1+cell": {
     "cellMetadata": {
      "byteLimit": 2048000,
      "rowLimit": 10000
     },
     "inputWidgets": {},
     "nuid": "f92a9cc0-d676-40c3-b1ff-4da8999c7e29",
     "showTitle": false,
     "tableResultSettingsMap": {},
     "title": ""
    }
   },
   "outputs": [],
   "source": [
    "from pyspark.sql.functions import *\n",
    "from pyspark.sql.types import *\n",
    "\n",
    "df_emp = spark.read.format(\"csv\").option(\"header\", \"true\").option(\"dateFormat\", \"MM/dd/yyyy\").option(\"inferSchema\", \"true\").option(\"delimiter\", \"|\").load(\"/Volumes/workspace/default/emp/EMP_FF_SRC.txt\")\n",
    "\n",
    "df_emp.display()\n",
    "\n",
    "\n",
    "df_dept = spark.read.format(\"csv\").option(\"header\", \"true\").option(\"dateFormat\", \"MM/dd/yyyy\").option(\"inferSchema\", \"true\").option(\"delimiter\", \",\").load(\"/Volumes/workspace/default/emp/src_DEPT_FF.csv\")\n",
    "\n",
    "df_dept.display()\n",
    "\n",
    "#df = df.withColumn(\"HIRE_DATE\", to_date(col(\"HIRE_DATE\"), \"MM/dd/yyyy\"))\n"
   ]
  },
  {
   "cell_type": "code",
   "execution_count": 0,
   "metadata": {
    "application/vnd.databricks.v1+cell": {
     "cellMetadata": {
      "byteLimit": 2048000,
      "rowLimit": 10000
     },
     "inputWidgets": {},
     "nuid": "49c19272-eafd-4891-b08b-3d0af753587b",
     "showTitle": false,
     "tableResultSettingsMap": {},
     "title": ""
    }
   },
   "outputs": [],
   "source": [
    "df_emp.write.partitionBy(\"DEPARTMENT_ID\").mode(\"overwrite\").format(\"csv\").save(\"/Volumes/workspace/default/emp/emp_CSV_salt\")\n"
   ]
  },
  {
   "cell_type": "code",
   "execution_count": 0,
   "metadata": {
    "application/vnd.databricks.v1+cell": {
     "cellMetadata": {
      "byteLimit": 2048000,
      "rowLimit": 10000
     },
     "inputWidgets": {},
     "nuid": "e257181e-00ff-4a99-ad08-765b92dd161d",
     "showTitle": false,
     "tableResultSettingsMap": {},
     "title": ""
    }
   },
   "outputs": [],
   "source": [
    "display(dbutils.fs.ls(\"/Volumes/workspace/default/emp/emp_CSV_salt\"))"
   ]
  },
  {
   "cell_type": "code",
   "execution_count": 0,
   "metadata": {
    "application/vnd.databricks.v1+cell": {
     "cellMetadata": {
      "byteLimit": 2048000,
      "rowLimit": 10000
     },
     "inputWidgets": {},
     "nuid": "d988e3f0-324a-4d8a-a54e-ee0afa86fb8c",
     "showTitle": false,
     "tableResultSettingsMap": {},
     "title": ""
    }
   },
   "outputs": [],
   "source": [
    "df_emp_salt = df_emp.withColumn(\"salt\", floor(rand(seed = 1)* 3))\n",
    "\n",
    "df_emp_salt = df_emp_salt.withColumn(\"salted_key\", concat_ws(\"-\",df_emp_salt[\"DEPARTMENT_ID\"],df_emp_salt[\"salt\"]))\n",
    "df_emp_salt.display()"
   ]
  },
  {
   "cell_type": "code",
   "execution_count": 0,
   "metadata": {
    "application/vnd.databricks.v1+cell": {
     "cellMetadata": {
      "byteLimit": 2048000,
      "rowLimit": 10000
     },
     "inputWidgets": {},
     "nuid": "db5039ea-2b99-4766-b2fe-0ac213c6b7b7",
     "showTitle": false,
     "tableResultSettingsMap": {},
     "title": ""
    }
   },
   "outputs": [],
   "source": [
    "ary = array([lit(i) for i in range(3)])\n",
    "df_dept_salt = df_dept.withColumn(\"salt\", explode(ary))\n",
    "\n",
    "#df_dept_salt = df_dept.withColumn(\"salt\", floor(rand(seed = 1)*3))\n",
    "df_dept_salt = df_dept_salt.withColumn(\"salted_key\", concat_ws(\"-\",df_dept_salt[\"DEPARTMENT_ID\"],df_dept_salt[\"salt\"]))\n",
    "\n",
    "df_dept_salt.display()\n"
   ]
  },
  {
   "cell_type": "code",
   "execution_count": 0,
   "metadata": {
    "application/vnd.databricks.v1+cell": {
     "cellMetadata": {
      "byteLimit": 2048000,
      "rowLimit": 10000
     },
     "inputWidgets": {},
     "nuid": "c07fe75e-82c6-43fa-a1f8-dad4e244bd57",
     "showTitle": false,
     "tableResultSettingsMap": {},
     "title": ""
    }
   },
   "outputs": [],
   "source": [
    "df_emp_dept_join = df_emp_salt.join(df_dept_salt, df_emp_salt.salted_key == df_dept_salt.salted_key, \"inner\").select(df_emp_salt[\"EMPLOYEE_ID\"], df_emp_salt[\"FIRST_NAME\"], df_emp_salt[\"LAST_NAME\"], df_emp_salt[\"HIRE_DATE\"], df_emp_salt[\"JOB_ID\"], df_emp_salt[\"SALARY\"], df_emp_salt[\"MANAGER_ID\"], df_emp_salt[\"DEPARTMENT_ID\"], df_dept_salt[\"DEPARTMENT_NAME\"])\n",
    "\n",
    "df_emp_dept_join.display()"
   ]
  },
  {
   "cell_type": "code",
   "execution_count": 0,
   "metadata": {
    "application/vnd.databricks.v1+cell": {
     "cellMetadata": {
      "byteLimit": 2048000,
      "rowLimit": 10000
     },
     "inputWidgets": {},
     "nuid": "f9632f8d-8ce6-4ca5-857a-d1e9aceb7539",
     "showTitle": false,
     "tableResultSettingsMap": {},
     "title": ""
    }
   },
   "outputs": [],
   "source": [
    "df_emp_salt = df_emp_salt.withColumn(\"FIRST_NAME\", regexp_replace(col(\"FIRST_NAME\"),\"[^A-Za-z0-9]\", \"\"))\n",
    "df_emp_salt = df_emp_salt.withColumn(\"LAST_NAME\", regexp_replace(col(\"LAST_NAME\"),\"[^A-Za-z0-9]\", \"\"))\n",
    "df_emp_salt.display()"
   ]
  },
  {
   "cell_type": "markdown",
   "metadata": {
    "application/vnd.databricks.v1+cell": {
     "cellMetadata": {},
     "inputWidgets": {},
     "nuid": "27d93b50-f520-4dbb-993d-2c5886fe27c7",
     "showTitle": false,
     "tableResultSettingsMap": {},
     "title": ""
    }
   },
   "source": [
    "**UNIT TEST**"
   ]
  },
  {
   "cell_type": "code",
   "execution_count": 0,
   "metadata": {
    "application/vnd.databricks.v1+cell": {
     "cellMetadata": {
      "byteLimit": 2048000,
      "rowLimit": 10000
     },
     "inputWidgets": {},
     "nuid": "39a7441e-844f-4fa8-8112-65a59f9bb24d",
     "showTitle": false,
     "tableResultSettingsMap": {},
     "title": ""
    }
   },
   "outputs": [],
   "source": [
    "df_emp_salt.write.format(\"delta\").mode(\"overwrite\").saveAsTable(\"Bronze_Nulls_emp\")"
   ]
  },
  {
   "cell_type": "code",
   "execution_count": 0,
   "metadata": {
    "application/vnd.databricks.v1+cell": {
     "cellMetadata": {
      "byteLimit": 2048000,
      "rowLimit": 10000
     },
     "inputWidgets": {},
     "nuid": "e7fa7b48-d3ac-4846-b87f-35ffa622b3bf",
     "showTitle": true,
     "tableResultSettingsMap": {},
     "title": "Function: Non_Null, Null, Blank"
    }
   },
   "outputs": [],
   "source": [
    "from pyspark.sql.functions import lit, count, when, col\n",
    "\n",
    "def count_values(df, column):\n",
    "    return df_emp_salt.select(\n",
    "        count(when(col(column).isNull(), column)).alias(\"Null_count\"),\n",
    "        count(when(col(column).isNotNull(),column)).alias(\"NotNull_column\"),\n",
    "        count(when(col(column) == \"\", column)).alias(\"Blank_Count\"),\n",
    "        count(lit(1)).alias(\"Total_Rows\")\n",
    "        )\n",
    "                                                                         "
   ]
  },
  {
   "cell_type": "code",
   "execution_count": 0,
   "metadata": {
    "application/vnd.databricks.v1+cell": {
     "cellMetadata": {},
     "inputWidgets": {},
     "nuid": "2b50620a-34ff-4bff-9bbe-1d0e6604bdef",
     "showTitle": false,
     "tableResultSettingsMap": {},
     "title": ""
    }
   },
   "outputs": [],
   "source": [
    "def count_values(df, column):\n",
    "    return df_emp_salt.select(\n",
    "        count(when(col(column).isNull(), column)).alias(\"Null_count\"),\n",
    "        count(when(col(column).isNotNull(),column)).alias(\"NotNull_column\"),\n",
    "        count(when(col(column) == \"\", column)).alias(\"Blank_Count\"),\n",
    "        count(lit(1).alias(\"Total_Rows\"))\n",
    "        )"
   ]
  },
  {
   "cell_type": "code",
   "execution_count": 0,
   "metadata": {
    "application/vnd.databricks.v1+cell": {
     "cellMetadata": {
      "byteLimit": 2048000,
      "rowLimit": 10000
     },
     "inputWidgets": {},
     "nuid": "87b551af-3767-4bcb-92b7-0b1fff567cf4",
     "showTitle": false,
     "tableResultSettingsMap": {},
     "title": ""
    }
   },
   "outputs": [],
   "source": [
    "display(count_values(df_emp_salt, \"FIRST_NAME\"))\n",
    "#display(count_values(df_emp_salt, \"DEPARTMENT_ID\"))\n"
   ]
  },
  {
   "cell_type": "code",
   "execution_count": 0,
   "metadata": {
    "application/vnd.databricks.v1+cell": {
     "cellMetadata": {
      "byteLimit": 2048000,
      "implicitDf": true,
      "rowLimit": 10000
     },
     "inputWidgets": {},
     "nuid": "4cf3ddb4-9086-4fe9-8211-1b2e8e98d1fb",
     "showTitle": false,
     "tableResultSettingsMap": {},
     "title": ""
    }
   },
   "outputs": [],
   "source": [
    "%sql\n",
    "select employee_id,first_name, department_id, count(department_id) from bronze_nulls_emp\n",
    "where department_id | employee_id is null\n",
    "group by employee_id, first_name,department_id;"
   ]
  },
  {
   "cell_type": "code",
   "execution_count": 0,
   "metadata": {
    "application/vnd.databricks.v1+cell": {
     "cellMetadata": {
      "byteLimit": 2048000,
      "implicitDf": true,
      "rowLimit": 10000
     },
     "inputWidgets": {},
     "nuid": "11094850-799f-49dc-b4ad-2a2d299db1fb",
     "showTitle": false,
     "tableResultSettingsMap": {},
     "title": ""
    }
   },
   "outputs": [],
   "source": [
    "%sql\n",
    "update bronze_nulls_emp \n",
    "set employee_id = 300 where first_name = 'Irfan';"
   ]
  },
  {
   "cell_type": "code",
   "execution_count": 0,
   "metadata": {
    "application/vnd.databricks.v1+cell": {
     "cellMetadata": {
      "byteLimit": 2048000,
      "implicitDf": true,
      "rowLimit": 10000
     },
     "inputWidgets": {},
     "nuid": "5f03f4cf-2980-4adb-acad-eba0ed71acd4",
     "showTitle": false,
     "tableResultSettingsMap": {},
     "title": ""
    }
   },
   "outputs": [],
   "source": [
    "%sql\n",
    "select * from bronze_nulls_emp where employee_id = 300;   \n"
   ]
  },
  {
   "cell_type": "code",
   "execution_count": 0,
   "metadata": {
    "application/vnd.databricks.v1+cell": {
     "cellMetadata": {
      "byteLimit": 2048000,
      "implicitDf": true,
      "rowLimit": 10000
     },
     "inputWidgets": {},
     "nuid": "8b79f39e-9ec1-484e-adec-90087f4ddd68",
     "showTitle": false,
     "tableResultSettingsMap": {},
     "title": ""
    }
   },
   "outputs": [],
   "source": [
    "%sql\n",
    "select count(case when COMMISSION_PCT is null then 1 end) as null_cnt,count(case when COMMISSION_PCT is not null then 1 end) as NOT_NULL\n",
    "from bronze_nulls_emp;\n"
   ]
  },
  {
   "cell_type": "code",
   "execution_count": 0,
   "metadata": {
    "application/vnd.databricks.v1+cell": {
     "cellMetadata": {
      "byteLimit": 2048000,
      "rowLimit": 10000
     },
     "inputWidgets": {},
     "nuid": "eb7a8462-2399-4307-80e2-cd1165773c87",
     "showTitle": false,
     "tableResultSettingsMap": {},
     "title": ""
    }
   },
   "outputs": [],
   "source": [
    "emp_data = [\n",
    "    [\"001\",\"101\",\"John Doe\",\"30\",\"Male\",\"50000\",\"2015-01-01\"],\n",
    "    [\"002\",\"101\",\"Jane Smith\",\"25\",\"Female\",\"45000\",\"2016-02-15\"],\n",
    "    [\"003\",\"102\",\"Bob Brown\",\"35\",\"Male\",\"55000\",\"2014-05-01\"],\n",
    "    [\"004\",\"102\",\"Alice Lee\",\"28\",\"Female\",\"48000\",\"2017-09-30\"],\n",
    "    [\"005\",\"103\",\"Jack Chan\",\"40\",\"Male\",\"60000\",\"2013-04-01\"],\n",
    "    [\"006\",\"103\",\"Jill Wong\",\"32\",\"Female\",\"52000\",\"2018-07-01\"],\n",
    "    [\"007\",\"101\",\"James Johnson\",\"42\",\"Male\",\"70000\",\"2012-03-15\"],\n",
    "    [\"008\",\"102\",\"Kate Kim\",\"29\",\"Female\",\"51000\",\"2019-10-01\"],\n",
    "    [\"009\",\"103\",\"Tom Tan\",\"33\",\"Male\",\"58000\",\"2016-06-01\"],\n",
    "    [\"010\",\"104\",\"Lisa Lee\",\"27\",\"Female\",\"47000\",\"2018-08-01\"],\n",
    "    [\"011\",\"104\",\"David Park\",\"38\",\"Male\",\"65000\",\"2015-11-01\"],\n",
    "    [\"012\",\"105\",\"Susan Chen\",\"31\",\"Female\",\"54000\",\"2017-02-15\"],\n",
    "    [\"013\",\"106\",\"Brian Kim\",\"45\",\"Male\",\"75000\",\"2011-07-01\"],\n",
    "    [\"014\",\"107\",\"Emily Lee\",\"26\",\"Female\",\"46000\",\"2019-01-01\"],\n",
    "    [\"015\",\"106\",\"Michael Lee\",\"37\",\"Male\",\"63000\",\"2014-09-30\"],\n",
    "    [\"016\",\"107\",\"Kelly Zhang\",\"30\",\"Female\",\"49000\",\"2018-04-01\"],\n",
    "    [\"017\",\"105\",\"George Wang\",\"34\",\"Male\",\"57000\",\"2016-03-15\"],\n",
    "    [\"018\",\"104\",\"Nancy Liu\",\"29\",\"\",\"50000\",\"2017-06-01\"],\n",
    "    [\"019\",\"103\",\"Steven Chen\",\"36\",\"Male\",\"62000\",\"2015-08-01\"],\n",
    "    [\"020\",\"102\",\"Grace Kim\",\"32\",\"Female\",\"53000\",\"2018-11-01\"]\n",
    "]\n",
    "\n",
    "emp_schema = \"employee_id string, department_id string, name string, age string, gender string, salary string, hire_date string\"\n",
    "\n",
    "dept_data = [\n",
    "    [\"101\", \"Sales\", \"NYC\", \"US\", \"1000000\"],\n",
    "    [\"102\", \"Marketing\", \"LA\", \"US\", \"900000\"],\n",
    "    [\"103\", \"Finance\", \"London\", \"UK\", \"1200000\"],\n",
    "    [\"104\", \"Engineering\", \"Beijing\", \"China\", \"1500000\"],\n",
    "    [\"105\", \"Human Resources\", \"Tokyo\", \"Japan\", \"800000\"],\n",
    "    [\"106\", \"Research and Development\", \"Perth\", \"Australia\", \"1100000\"],\n",
    "    [\"107\", \"Customer Service\", \"Sydney\", \"Australia\", \"950000\"]\n",
    "]\n",
    "\n",
    "dept_schema = \"department_id string, department_name string, city string, country string, budget string\"\n",
    "\n",
    "emp = spark.createDataFrame(data=emp_data, schema=emp_schema)\n",
    "dept = spark.createDataFrame(data=dept_data, schema=dept_schema)"
   ]
  },
  {
   "cell_type": "code",
   "execution_count": 0,
   "metadata": {
    "application/vnd.databricks.v1+cell": {
     "cellMetadata": {
      "byteLimit": 2048000,
      "rowLimit": 10000
     },
     "inputWidgets": {},
     "nuid": "e235061f-21f3-407b-839b-8e13af4d1cce",
     "showTitle": false,
     "tableResultSettingsMap": {},
     "title": ""
    }
   },
   "outputs": [],
   "source": [
    "df_joined = emp.alias(\"e\").join(dept.alias(\"d\"), how=\"inner\", on=emp.department_id==dept.department_id)\n",
    "\n",
    "df_joined.select(\"e.name\", \"d.department_id\", \"d.department_name\", \"e.salary\").show()"
   ]
  },
  {
   "cell_type": "markdown",
   "metadata": {
    "application/vnd.databricks.v1+cell": {
     "cellMetadata": {},
     "inputWidgets": {},
     "nuid": "69d758e5-b90e-443a-8b10-a46137980ade",
     "showTitle": false,
     "tableResultSettingsMap": {},
     "title": ""
    }
   },
   "source": [
    "**JOIN STRATERGIES**"
   ]
  },
  {
   "cell_type": "code",
   "execution_count": 0,
   "metadata": {
    "application/vnd.databricks.v1+cell": {
     "cellMetadata": {
      "byteLimit": 2048000,
      "rowLimit": 10000
     },
     "inputWidgets": {},
     "nuid": "da01e4f1-db57-41dc-808e-66110a97e324",
     "showTitle": false,
     "tableResultSettingsMap": {},
     "title": ""
    }
   },
   "outputs": [],
   "source": [
    "display(dbutils.fs.ls(\"/Volumes/workspace/default/emp/src_DEPT_FF.csv\"))\n",
    "display(dbutils.fs.ls(\"/Volumes/workspace/default/emp/EMP_FF_SRC.txt\"))"
   ]
  },
  {
   "cell_type": "code",
   "execution_count": 0,
   "metadata": {
    "application/vnd.databricks.v1+cell": {
     "cellMetadata": {
      "byteLimit": 2048000,
      "rowLimit": 10000
     },
     "inputWidgets": {},
     "nuid": "c411191a-e438-4cc3-99f7-7a6723860332",
     "showTitle": false,
     "tableResultSettingsMap": {},
     "title": ""
    }
   },
   "outputs": [],
   "source": [
    "df_emp = spark.read.format(\"csv\").option(\"header\"=True).option(\"inferSchema\"==True).option(\"delimiter\", \"|\").load(\"/Volumes/workspace/default/emp/EMP_FF_SRC.txt\")\n",
    "df_dept = spark.read.csv(\"/Volumes/workspace/default/emp/src_DEPT_FF.csv\", header=True, inferSchema=True)\n",
    "\n",
    "df_emp.display()"
   ]
  },
  {
   "cell_type": "code",
   "execution_count": 0,
   "metadata": {
    "application/vnd.databricks.v1+cell": {
     "cellMetadata": {
      "byteLimit": 2048000,
      "rowLimit": 10000
     },
     "inputWidgets": {},
     "nuid": "357bcbdd-c11b-4171-bf16-5de53bd316fe",
     "showTitle": false,
     "tableResultSettingsMap": {},
     "title": ""
    }
   },
   "outputs": [],
   "source": [
    "from pyspark.sql.functions import broadcast\n",
    "\n",
    "df_broadcast = df_emp.join(broadcast(df_dept), \"department_id\", \"inner\")\n",
    "df_broadcast.show()\n",
    "    "
   ]
  },
  {
   "cell_type": "code",
   "execution_count": 0,
   "metadata": {
    "application/vnd.databricks.v1+cell": {
     "cellMetadata": {
      "byteLimit": 2048000,
      "rowLimit": 10000
     },
     "inputWidgets": {},
     "nuid": "8a5ade14-db02-4478-9ef6-abeb9527bc43",
     "showTitle": false,
     "tableResultSettingsMap": {},
     "title": ""
    }
   },
   "outputs": [],
   "source": [
    "from pyspark.sql.functions import *\n",
    "from pyspark.sql.types import *\n",
    "\n",
    "df_emp = spark.read.format(\"csv\").option(\"header\", \"true\").option(\"dateFormat\", \"MM/dd/yyyy\").option(\"inferSchema\", \"true\").option(\"delimiter\", \"|\").load(\"/Volumes/workspace/default/emp/EMP_FF_SRC.txt\")\n",
    "\n",
    "df_emp.display()\n",
    "\n",
    "\n",
    "df_dept = spark.read.format(\"csv\").option(\"header\", \"true\").option(\"dateFormat\", \"MM/dd/yyyy\").option(\"inferSchema\", \"true\").option(\"delimiter\", \",\").load(\"/Volumes/workspace/default/emp/src_DEPT_FF.csv\")\n",
    "\n",
    "df_dept.display()"
   ]
  },
  {
   "cell_type": "code",
   "execution_count": 0,
   "metadata": {
    "application/vnd.databricks.v1+cell": {
     "cellMetadata": {
      "byteLimit": 2048000,
      "rowLimit": 10000
     },
     "inputWidgets": {},
     "nuid": "df433f2b-5644-458a-a2b8-a32128c6e916",
     "showTitle": false,
     "tableResultSettingsMap": {},
     "title": ""
    }
   },
   "outputs": [],
   "source": [
    "df_broadcast = df_emp.join(broadcast(df_dept), \"department_id\", \"inner\")\n",
    "df_broadcast.display()\n",
    "#df_broadcast.cache()\n",
    "df_broadcast.count()\n",
    "df_broadcast.explain()\n",
    "\n"
   ]
  },
  {
   "cell_type": "code",
   "execution_count": 0,
   "metadata": {
    "application/vnd.databricks.v1+cell": {
     "cellMetadata": {
      "byteLimit": 2048000,
      "rowLimit": 10000
     },
     "inputWidgets": {},
     "nuid": "c20d1183-c24f-46bf-9293-c58bd58780ba",
     "showTitle": false,
     "tableResultSettingsMap": {},
     "title": ""
    }
   },
   "outputs": [],
   "source": [
    "df1 = spark.range(1,100000).withColumnRenamed(\"id\", \"id1\")\n",
    "df2 = spark.range(1,100).withColumnRenamed(\"id\", \"id2\")\n",
    "\n",
    "result = df1.join(df2, df1.id1 == df2.id2, \"inner\")\n",
    "result.explain()"
   ]
  },
  {
   "cell_type": "code",
   "execution_count": 0,
   "metadata": {
    "application/vnd.databricks.v1+cell": {
     "cellMetadata": {
      "byteLimit": 2048000,
      "rowLimit": 10000
     },
     "inputWidgets": {},
     "nuid": "6ed26726-ec0a-4a81-85a9-1603ce79448d",
     "showTitle": false,
     "tableResultSettingsMap": {},
     "title": ""
    }
   },
   "outputs": [],
   "source": [
    "df1 = spark.range(1,100000000).withColumnRenamed(\"id\", \"id1\")\n",
    "df2 = spark.range(1,100000000).withColumnRenamed(\"id\", \"id2\")\n",
    "\n",
    "result = df1.join(df2, df1.id1 == df2.id2, \"inner\")\n",
    "result.explain()"
   ]
  },
  {
   "cell_type": "code",
   "execution_count": 0,
   "metadata": {
    "application/vnd.databricks.v1+cell": {
     "cellMetadata": {
      "byteLimit": 2048000,
      "rowLimit": 10000
     },
     "inputWidgets": {},
     "nuid": "4d03d375-fa1a-40e1-8ffe-5b906511003d",
     "showTitle": false,
     "tableResultSettingsMap": {},
     "title": ""
    }
   },
   "outputs": [],
   "source": [
    "df1 = spark.range(1,1000000000000).withColumnRenamed(\"id\", \"id1\")\n",
    "df2 = spark.range(1,100000000000).withColumnRenamed(\"id\", \"id2\")\n",
    "\n",
    "result = df1.join(df2, df1.id1 == df2.id2, \"inner\")\n",
    "result.explain()"
   ]
  }
 ],
 "metadata": {
  "application/vnd.databricks.v1+notebook": {
   "computePreferences": null,
   "dashboards": [],
   "environmentMetadata": {
    "base_environment": "",
    "environment_version": "2"
   },
   "inputWidgetPreferences": null,
   "language": "python",
   "notebookMetadata": {
    "mostRecentlyExecutedCommandWithImplicitDF": {
     "commandId": 7992634721451738,
     "dataframes": [
      "_sqldf"
     ]
    },
    "pythonIndentUnit": 4
   },
   "notebookName": "Partition and Repartition",
   "widgets": {}
  },
  "language_info": {
   "name": "python"
  }
 },
 "nbformat": 4,
 "nbformat_minor": 0
}
