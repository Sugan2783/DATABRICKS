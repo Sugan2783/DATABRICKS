{
 "cells": [
  {
   "cell_type": "code",
   "execution_count": 0,
   "metadata": {
    "application/vnd.databricks.v1+cell": {
     "cellMetadata": {
      "byteLimit": 2048000,
      "implicitDf": true,
      "rowLimit": 10000
     },
     "inputWidgets": {},
     "nuid": "e801019b-6e68-41aa-b5bf-635cc3ce55b4",
     "showTitle": false,
     "tableResultSettingsMap": {},
     "title": ""
    }
   },
   "outputs": [],
   "source": [
    "%sql\n",
    "CREATE VOLUME DEV.BRONZE.LANDING;"
   ]
  },
  {
   "cell_type": "code",
   "execution_count": 0,
   "metadata": {
    "application/vnd.databricks.v1+cell": {
     "cellMetadata": {
      "byteLimit": 2048000,
      "rowLimit": 10000
     },
     "inputWidgets": {},
     "nuid": "33381eb5-e15a-42dd-b586-e1452f3ecb57",
     "showTitle": false,
     "tableResultSettingsMap": {},
     "title": ""
    }
   },
   "outputs": [],
   "source": [
    "%python\n",
    "dbutils.fs.mkdirs(\"/Volumes/dev/bronze/landing/input\")"
   ]
  },
  {
   "cell_type": "code",
   "execution_count": 0,
   "metadata": {
    "application/vnd.databricks.v1+cell": {
     "cellMetadata": {
      "byteLimit": 2048000,
      "rowLimit": 10000
     },
     "inputWidgets": {},
     "nuid": "2348880b-580c-4a72-984d-bba6a5ee9d2f",
     "showTitle": false,
     "tableResultSettingsMap": {},
     "title": ""
    }
   },
   "outputs": [],
   "source": [
    "dbutils.fs.cp(\"/Volumes/workspace/default/emp/src_DEPT_FF.csv\", \"/Volumes/dev/bronze/landing/input/\" ,recurse=True)"
   ]
  },
  {
   "cell_type": "code",
   "execution_count": 0,
   "metadata": {
    "application/vnd.databricks.v1+cell": {
     "cellMetadata": {
      "byteLimit": 2048000,
      "implicitDf": true,
      "rowLimit": 10000
     },
     "inputWidgets": {},
     "nuid": "4380af18-b3a3-4da0-b288-6532a9ed964b",
     "showTitle": false,
     "tableResultSettingsMap": {},
     "title": ""
    }
   },
   "outputs": [],
   "source": [
    "%sql\n",
    "create table dev.bronze.customer_pht;"
   ]
  },
  {
   "cell_type": "code",
   "execution_count": 0,
   "metadata": {
    "application/vnd.databricks.v1+cell": {
     "cellMetadata": {
      "byteLimit": 2048000,
      "implicitDf": true,
      "rowLimit": 10000
     },
     "inputWidgets": {},
     "nuid": "04bf1a67-5f08-4807-974f-518d2236ec09",
     "showTitle": false,
     "tableResultSettingsMap": {},
     "title": ""
    }
   },
   "outputs": [],
   "source": [
    "%sql\n",
    "copy into dev.bronze.customer_pht\n",
    "from \"/Volumes/dev/bronze/landing/input/\"\n",
    "fileformat = csv\n",
    "pattern = '*.csv'\n",
    "format_options(\n",
    "  \"mergeSchema\" = 'true',\n",
    "   \"header\" = 'true'\n",
    ")\n",
    "copy_options(\n",
    "  \"mergeSchema\" = 'true'    \n",
    ");"
   ]
  },
  {
   "cell_type": "code",
   "execution_count": 0,
   "metadata": {
    "application/vnd.databricks.v1+cell": {
     "cellMetadata": {
      "byteLimit": 2048000,
      "implicitDf": true,
      "rowLimit": 10000
     },
     "inputWidgets": {},
     "nuid": "6e304093-1304-48af-877e-1e055746d68d",
     "showTitle": false,
     "tableResultSettingsMap": {},
     "title": ""
    }
   },
   "outputs": [],
   "source": [
    "%sql\n",
    "copy into dev.bronze.customer_pht\n",
    "from \"/Volumes/dev/bronze/landing/input/\"\n",
    "fileformat = delta\n",
    "pattern = '*.csv'\n",
    "format_options(\n",
    "  \"mergeSchema\" = 'true',\n",
    "  \"header\" = 'true'\n",
    ")\n",
    "copy_options(\n",
    "  \"mergeSchema\" = 'true'\n",
    ");"
   ]
  },
  {
   "cell_type": "code",
   "execution_count": 0,
   "metadata": {
    "application/vnd.databricks.v1+cell": {
     "cellMetadata": {
      "byteLimit": 2048000,
      "implicitDf": true,
      "rowLimit": 10000
     },
     "inputWidgets": {},
     "nuid": "6e4aa3a4-0abd-4631-bca8-d68b98544c2f",
     "showTitle": false,
     "tableResultSettingsMap": {},
     "title": ""
    }
   },
   "outputs": [],
   "source": [
    "%sql\n",
    "copy into dev.bronze.paovider_pht\n",
    "from \"/Volumes/dev/bronze/landing/input/\"\n",
    "fileformat = parquet\n",
    "pattern = '.*\\.parquet'\n",
    "format_options(\n",
    "  \"mergeSchema\" = 'true',\n",
    "   \"header\" = 'true'\n",
    ")\n",
    "copy_options(\n",
    "  \"mergeSchema\" = 'true'\n",
    ");"
   ]
  },
  {
   "cell_type": "code",
   "execution_count": 0,
   "metadata": {
    "application/vnd.databricks.v1+cell": {
     "cellMetadata": {
      "byteLimit": 2048000,
      "implicitDf": true,
      "rowLimit": 10000
     },
     "inputWidgets": {},
     "nuid": "965e6272-811c-4cd2-98c5-444b15cc93a4",
     "showTitle": false,
     "tableResultSettingsMap": {},
     "title": ""
    }
   },
   "outputs": [],
   "source": [
    "%sql\n",
    "copy into dev.bronze.paovider_pht\n",
    "from \"/Volumes/dev/bronze/landing/input/\"\n",
    "fileformat = delta\n",
    "pattern = '.*\\.parquet'\n",
    "format_options(\n",
    "  \"mergeSchema\" = 'true',\n",
    "   \"header\" = 'true'\n",
    ")\n",
    "copy_options(\n",
    "  \"mergeSchema\" = 'true'\n",
    ");"
   ]
  },
  {
   "cell_type": "code",
   "execution_count": 0,
   "metadata": {
    "application/vnd.databricks.v1+cell": {
     "cellMetadata": {
      "byteLimit": 2048000,
      "implicitDf": true,
      "rowLimit": 10000
     },
     "inputWidgets": {},
     "nuid": "2151d38e-9495-4620-a502-b4a7b49547d5",
     "showTitle": false,
     "tableResultSettingsMap": {},
     "title": ""
    }
   },
   "outputs": [],
   "source": [
    "%sql\n",
    "COPY INTO dev.bronze.paovider_pht\n",
    "FROM \"/Volumes/dev/bronze/landing/input/_delta_log/\"\n",
    "FILEFORMAT = PARQUET\n",
    "FORMAT_OPTIONS (\n",
    "  \"mergeSchema\" = 'true',\n",
    "  \"header\" = 'true'\n",
    ")\n",
    "COPY_OPTIONS (\n",
    "  \"mergeSchema\" = 'true'\n",
    ");"
   ]
  },
  {
   "cell_type": "code",
   "execution_count": 0,
   "metadata": {
    "application/vnd.databricks.v1+cell": {
     "cellMetadata": {
      "byteLimit": 2048000,
      "implicitDf": true,
      "rowLimit": 10000
     },
     "inputWidgets": {},
     "nuid": "f058959f-ebdc-45c3-992d-8bf7cf641347",
     "showTitle": false,
     "tableResultSettingsMap": {},
     "title": ""
    }
   },
   "outputs": [],
   "source": [
    "%sql\n",
    "copy into dev.bronze.customer_pht\n",
    "from \"/Volumes/dev/bronze/landing/input/\"\n",
    "fileformat = delta\n",
    "pattern = '*.csv'\n",
    "format_options(\n",
    "  \"mergeSchema\" = 'true',\n",
    "  \"header\" = 'true'\n",
    ")\n",
    "copy_options(\n",
    "  \"mergeSchema\" = 'true'\n",
    ");"
   ]
  },
  {
   "cell_type": "code",
   "execution_count": 0,
   "metadata": {
    "application/vnd.databricks.v1+cell": {
     "cellMetadata": {
      "byteLimit": 2048000,
      "implicitDf": true,
      "rowLimit": 10000
     },
     "inputWidgets": {},
     "nuid": "736ea4c2-44aa-4dfc-a4f2-2df8434c4e66",
     "showTitle": false,
     "tableResultSettingsMap": {},
     "title": ""
    }
   },
   "outputs": [],
   "source": [
    "%sql\n",
    "COPY INTO dev.bronze.customer_pht\n",
    "FROM \"/Volumes/dev/bronze/landing/input/\"\n",
    "FILEFORMAT = csv\n",
    "PATTERN = '*.csv'\n",
    "FORMAT_OPTIONS (\n",
    "  'mergeSchema' = 'true',\n",
    "  'header' = 'true'\n",
    ")\n",
    "COPY_OPTIONS (\n",
    "  'mergeSchema' = 'true'\n",
    ");"
   ]
  },
  {
   "cell_type": "code",
   "execution_count": 0,
   "metadata": {
    "application/vnd.databricks.v1+cell": {
     "cellMetadata": {
      "byteLimit": 2048000,
      "implicitDf": true,
      "rowLimit": 10000
     },
     "inputWidgets": {},
     "nuid": "91cd0cdf-4b2b-4011-b47b-b3b94e10aa9b",
     "showTitle": false,
     "tableResultSettingsMap": {},
     "title": ""
    }
   },
   "outputs": [],
   "source": [
    "%sql\n",
    "SELECT * FROM dev.bronze.customer_pht;"
   ]
  },
  {
   "cell_type": "code",
   "execution_count": 0,
   "metadata": {
    "application/vnd.databricks.v1+cell": {
     "cellMetadata": {
      "byteLimit": 2048000,
      "implicitDf": true,
      "rowLimit": 10000
     },
     "inputWidgets": {},
     "nuid": "6585692d-b5ad-4f64-8c43-0849f341e951",
     "showTitle": false,
     "tableResultSettingsMap": {},
     "title": ""
    }
   },
   "outputs": [],
   "source": [
    "%sql\n",
    "DESCRIBE EXTENDED DEV.BRONZE.customer_pht;"
   ]
  },
  {
   "cell_type": "code",
   "execution_count": 0,
   "metadata": {
    "application/vnd.databricks.v1+cell": {
     "cellMetadata": {
      "byteLimit": 2048000,
      "implicitDf": true,
      "rowLimit": 10000
     },
     "inputWidgets": {},
     "nuid": "3623c637-f4c8-4684-af87-5a27119111b0",
     "showTitle": false,
     "tableResultSettingsMap": {},
     "title": ""
    }
   },
   "outputs": [],
   "source": [
    "%sql\n",
    "CREATE TABLE DEV.BRONZE.CUSTOM_PHT_ALT\n",
    "(\n",
    "  DEPARTMENT_ID INT,\n",
    "DEPARTMENT_NAME STRING,\n",
    "MANAGER_ID INT,\n",
    "_INSERT_DATE TIMESTAMP\n",
    ");"
   ]
  },
  {
   "cell_type": "code",
   "execution_count": 0,
   "metadata": {
    "application/vnd.databricks.v1+cell": {
     "cellMetadata": {
      "byteLimit": 2048000,
      "implicitDf": true,
      "rowLimit": 10000
     },
     "inputWidgets": {},
     "nuid": "92d9a69d-1c02-44ae-83a4-180a905712f5",
     "showTitle": false,
     "tableResultSettingsMap": {},
     "title": ""
    }
   },
   "outputs": [],
   "source": [
    "%sql\n",
    "DROP TABLE DEV.BRONZE.CUSTOM_PHT_ALT\n"
   ]
  },
  {
   "cell_type": "code",
   "execution_count": 0,
   "metadata": {
    "application/vnd.databricks.v1+cell": {
     "cellMetadata": {
      "byteLimit": 2048000,
      "implicitDf": true,
      "rowLimit": 10000
     },
     "inputWidgets": {},
     "nuid": "5211791f-7dd4-4050-a6a9-94c890a5b584",
     "showTitle": false,
     "tableResultSettingsMap": {},
     "title": ""
    }
   },
   "outputs": [],
   "source": [
    "%sql\n",
    "COPY INTO DEV.BRONZE.CUSTOM_PHT_ALT\n",
    "FROM(\n",
    "  SELECT DEPARTMENT_ID, DEPARTMENT_NAME,\n",
    "  MANAGER_ID,\n",
    "  current_timestamp AS _INSERT_DATE\n",
    "  FROM \"/Volumes/dev/bronze/landing/input\")\n",
    "FILEFORMAT = csv\n",
    "FORMAT_OPTIONS (\n",
    "  'mergeSchema' = 'true',\n",
    "  'header' = 'true'\n",
    ")"
   ]
  },
  {
   "cell_type": "code",
   "execution_count": 0,
   "metadata": {
    "application/vnd.databricks.v1+cell": {
     "cellMetadata": {
      "byteLimit": 2048000,
      "implicitDf": true,
      "rowLimit": 10000
     },
     "inputWidgets": {},
     "nuid": "d80c4465-3a90-4670-b34c-7da79a12665a",
     "showTitle": false,
     "tableResultSettingsMap": {},
     "title": ""
    }
   },
   "outputs": [],
   "source": [
    "%sql\n",
    "COPY INTO DEV.BRONZE.CUSTOM_PHT_ALT\n",
    "FROM (\n",
    "  SELECT DEPARTMENT_ID, DEPARTMENT_NAME, MANAGER_ID, current_timestamp AS _INSERT_DATE\n",
    "  FROM \"Volumes/dev/bronze/landing/input/\"\n",
    ")\n",
    "FILEFORMAT = csv\n",
    "FORMAT_OPTIONS (\n",
    "  'header' = 'true'\n",
    ")"
   ]
  }
 ],
 "metadata": {
  "application/vnd.databricks.v1+notebook": {
   "computePreferences": null,
   "dashboards": [],
   "environmentMetadata": {
    "base_environment": "",
    "environment_version": "3"
   },
   "inputWidgetPreferences": null,
   "language": "python",
   "notebookMetadata": {
    "mostRecentlyExecutedCommandWithImplicitDF": {
     "commandId": 5553978712010768,
     "dataframes": [
      "_sqldf"
     ]
    },
    "pythonIndentUnit": 4
   },
   "notebookName": "COPY_INTO_COMMAND",
   "widgets": {}
  },
  "language_info": {
   "name": "python"
  }
 },
 "nbformat": 4,
 "nbformat_minor": 0
}
