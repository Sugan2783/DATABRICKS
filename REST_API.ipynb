{
 "cells": [
  {
   "cell_type": "code",
   "execution_count": 0,
   "metadata": {
    "application/vnd.databricks.v1+cell": {
     "cellMetadata": {
      "byteLimit": 2048000,
      "rowLimit": 10000
     },
     "inputWidgets": {},
     "nuid": "e67085fa-4c5f-4215-a654-14583988109a",
     "showTitle": false,
     "tableResultSettingsMap": {},
     "title": ""
    }
   },
   "outputs": [],
   "source": [
    "import requests"
   ]
  },
  {
   "cell_type": "code",
   "execution_count": 0,
   "metadata": {
    "application/vnd.databricks.v1+cell": {
     "cellMetadata": {
      "byteLimit": 2048000,
      "rowLimit": 10000
     },
     "inputWidgets": {},
     "nuid": "d565f3fc-f72a-4b5e-8c2c-8ec77e7a6aef",
     "showTitle": false,
     "tableResultSettingsMap": {},
     "title": ""
    }
   },
   "outputs": [],
   "source": [
    "url = 'https://raw.githubusercontent.com/enuganti/data-engineer/refs/heads/main/PySparkScenario/Scenario%2002%20%20How%20to%20find%20new%20records%20by%20compare%20target%20table%20%26%20csv/initload.csv'"
   ]
  },
  {
   "cell_type": "code",
   "execution_count": 0,
   "metadata": {
    "application/vnd.databricks.v1+cell": {
     "cellMetadata": {
      "byteLimit": 2048000,
      "rowLimit": 10000
     },
     "inputWidgets": {},
     "nuid": "d8abea5d-2d7f-4fbc-9a9a-bcee22c6e9e1",
     "showTitle": false,
     "tableResultSettingsMap": {},
     "title": ""
    }
   },
   "outputs": [],
   "source": [
    "def getval:\n",
    "    res = requests.get(url)\n",
    "    return res\n",
    "df = spark.read.csv(getval(), header=True)\n",
    "df.write.mode(\"overwrite\").saveAsTable(\"source\")"
   ]
  },
  {
   "cell_type": "code",
   "execution_count": 0,
   "metadata": {
    "application/vnd.databricks.v1+cell": {
     "cellMetadata": {
      "byteLimit": 2048000,
      "rowLimit": 10000
     },
     "inputWidgets": {},
     "nuid": "3de1c2a8-6347-4d11-85f3-26d4096737f0",
     "showTitle": false,
     "tableResultSettingsMap": {},
     "title": ""
    }
   },
   "outputs": [],
   "source": [
    "import requests\n",
    "\n",
    "def getval(url):\n",
    "    res = requests.get(url)\n",
    "    with open('/tmp/tempfile.csv', 'wb') as f:\n",
    "        f.write(res.content)\n",
    "    return '/tmp/tempfile.csv'\n",
    "\n",
    "url = 'your_url_here'\n",
    "df = spark.read.csv(getval(url), header=True)\n",
    "df.write.mode(\"overwrite\").saveAsTable(\"source\")"
   ]
  },
  {
   "cell_type": "code",
   "execution_count": 0,
   "metadata": {
    "application/vnd.databricks.v1+cell": {
     "cellMetadata": {
      "byteLimit": 2048000,
      "rowLimit": 10000
     },
     "inputWidgets": {},
     "nuid": "3b155ad7-0bfa-4cde-889c-da6b6395bf7f",
     "showTitle": false,
     "tableResultSettingsMap": {},
     "title": ""
    }
   },
   "outputs": [],
   "source": [
    "import requests\n",
    "\n",
    "url = 'https://api.fda.gov/drug/drugsfda.json?limit=100'\n",
    "response = requests.get(url)\n",
    "\n",
    "df_drug = spark.createDataFrame(response.json()['results'])\n",
    "display(df_drug)"
   ]
  },
  {
   "cell_type": "code",
   "execution_count": 0,
   "metadata": {
    "application/vnd.databricks.v1+cell": {
     "cellMetadata": {
      "byteLimit": 2048000,
      "rowLimit": 10000
     },
     "inputWidgets": {},
     "nuid": "96870c43-1a87-464d-ae69-b47033bc80e8",
     "showTitle": false,
     "tableResultSettingsMap": {},
     "title": ""
    }
   },
   "outputs": [],
   "source": [
    "import requests\n",
    "from pyspark.sql.types import StructType, StructField, StringType, ArrayType\n",
    "\n",
    "url = 'https://api.fda.gov/drug/drugsfda.json?limit=100'\n",
    "response = requests.get(url)\n",
    "\n",
    "# Define the schema\n",
    "schema = StructType([\n",
    "    StructField('products', ArrayType(StructType([\n",
    "        StructField('product_number', StringType(), True),\n",
    "        StructField('reference_drug', StringType(), True),\n",
    "        StructField('brand_name', StringType(), True),\n",
    "        StructField('active_ingredients', ArrayType(StructType([\n",
    "            StructField('name', StringType(), True),\n",
    "            StructField('strength', StringType(), True)\n",
    "        ])), True),\n",
    "        StructField('reference_standard', StringType(), True)\n",
    "    ])), True),\n",
    "    StructField('submission_type', StringType(), True),\n",
    "    StructField('submission_status', StringType(), True),\n",
    "    StructField('submission_status_date', StringType(), True),\n",
    "    StructField('review_priority', StringType(), True),\n",
    "    StructField('application_number', StringType(), True),\n",
    "    StructField('sponsor_name', StringType(), True)\n",
    "])\n",
    "\n",
    "df_drug = spark.createDataFrame(response.json()['results'], schema=schema)\n",
    "display(df_drug)"
   ]
  },
  {
   "cell_type": "code",
   "execution_count": 0,
   "metadata": {
    "application/vnd.databricks.v1+cell": {
     "cellMetadata": {
      "byteLimit": 2048000,
      "rowLimit": 10000
     },
     "inputWidgets": {},
     "nuid": "962b29be-15ee-4ddc-a696-2abfb48f9c54",
     "showTitle": false,
     "tableResultSettingsMap": {},
     "title": ""
    }
   },
   "outputs": [],
   "source": [
    "df_drug.write.mode(\"overwrite\").saveAsTable(\"API_DRUG\")"
   ]
  },
  {
   "cell_type": "code",
   "execution_count": 0,
   "metadata": {
    "application/vnd.databricks.v1+cell": {
     "cellMetadata": {
      "byteLimit": 2048000,
      "rowLimit": 10000
     },
     "inputWidgets": {},
     "nuid": "e6090897-6aac-4f27-a9b9-31afe54a6639",
     "showTitle": false,
     "tableResultSettingsMap": {},
     "title": ""
    }
   },
   "outputs": [],
   "source": [
    "df_drug.select(df_drug[\"products\"]).display()"
   ]
  },
  {
   "cell_type": "code",
   "execution_count": 0,
   "metadata": {
    "application/vnd.databricks.v1+cell": {
     "cellMetadata": {
      "byteLimit": 2048000,
      "rowLimit": 10000
     },
     "inputWidgets": {},
     "nuid": "ee459aa0-38d1-4172-8e34-ebe12a2a2289",
     "showTitle": false,
     "tableResultSettingsMap": {},
     "title": ""
    }
   },
   "outputs": [],
   "source": [
    "df_drug.select(df_drug[\"products\"][0][\"brand_name\"]).display()"
   ]
  },
  {
   "cell_type": "code",
   "execution_count": 0,
   "metadata": {
    "application/vnd.databricks.v1+cell": {
     "cellMetadata": {
      "byteLimit": 2048000,
      "rowLimit": 10000
     },
     "inputWidgets": {},
     "nuid": "b5d17075-b418-4a9e-ad83-a9c9edbe642d",
     "showTitle": false,
     "tableResultSettingsMap": {},
     "title": ""
    }
   },
   "outputs": [],
   "source": [
    "df_drug.select('*',df_drug[\"products\"][0][\"brand_name\"],df_drug[\"products\"][0][\"active_ingredients\"][0][\"name\"].alias(\"active_name\"),df_drug[\"products\"][0][\"active_ingredients\"][0][\"strength\"].alias(\"strength\"),df_drug[\"products\"][0][\"reference_standard\"].alias(\"reference_standard\")).show(truncate=False)"
   ]
  },
  {
   "cell_type": "code",
   "execution_count": 0,
   "metadata": {
    "application/vnd.databricks.v1+cell": {
     "cellMetadata": {
      "byteLimit": 2048000,
      "rowLimit": 10000
     },
     "inputWidgets": {},
     "nuid": "d6a7835e-4d28-4d67-8e40-703d8a02fc9e",
     "showTitle": false,
     "tableResultSettingsMap": {},
     "title": ""
    }
   },
   "outputs": [],
   "source": [
    "df_drug.select('*',df_drug[\"products\"][0][\"brand_name\"],df_drug[\"products\"][0][\"active_ingredients\"][0][\"name\"].alias(\"active_name\"),df_drug[\"products\"][0][\"active_ingredients\"][0][\"strength\"].alias(\"strength\"),df_drug[\"products\"][0][\"reference_standard\"].alias(\"reference_standard\")).display()"
   ]
  },
  {
   "cell_type": "code",
   "execution_count": 0,
   "metadata": {
    "application/vnd.databricks.v1+cell": {
     "cellMetadata": {
      "byteLimit": 2048000,
      "rowLimit": 10000
     },
     "inputWidgets": {},
     "nuid": "1c36bc5e-47c2-419b-94e5-860fdca9aa2c",
     "showTitle": false,
     "tableResultSettingsMap": {},
     "title": ""
    }
   },
   "outputs": [],
   "source": [
    "df_drug.select(df_drug.products.product_number[0]).display()\n"
   ]
  },
  {
   "cell_type": "code",
   "execution_count": 0,
   "metadata": {
    "application/vnd.databricks.v1+cell": {
     "cellMetadata": {
      "byteLimit": 2048000,
      "rowLimit": 10000
     },
     "inputWidgets": {},
     "nuid": "ae82a465-07bc-4bc9-84b6-c6b877a74cb2",
     "showTitle": false,
     "tableResultSettingsMap": {
      "0": {
       "dataGridStateBlob": "{\"version\":1,\"tableState\":{\"columnPinning\":{\"left\":[\"#row_number#\"],\"right\":[]},\"columnSizing\":{\"strength\":244},\"columnVisibility\":{}},\"settings\":{\"columns\":{}},\"syncTimestamp\":1752727163717}",
       "filterBlob": null,
       "queryPlanFiltersBlob": null,
       "tableResultIndex": 0
      }
     },
     "title": ""
    }
   },
   "outputs": [],
   "source": [
    "df_drug.select(df_drug[\"products\"][0][\"product_number\"].alias(\"product_number\"),df_drug[\"products\"][0][\"reference_drug\"].alias(\"reference_drug\"),df_drug[\"products\"][0][\"brand_name\"].alias(\"brand_name\"),df_drug[\"products\"][0][\"active_ingredients\"][0][\"name\"].alias(\"ingredients_name\"),df_drug[\"products\"][0][\"active_ingredients\"][0][\"strength\"].alias(\"strength\"),df_drug[\"products\"][0][\"reference_standard\"].alias(\"reference_standard\")).display()\n"
   ]
  },
  {
   "cell_type": "code",
   "execution_count": 0,
   "metadata": {
    "application/vnd.databricks.v1+cell": {
     "cellMetadata": {
      "byteLimit": 2048000,
      "rowLimit": 10000
     },
     "inputWidgets": {},
     "nuid": "d26a6112-87d6-4f91-901f-cd81f2470392",
     "showTitle": false,
     "tableResultSettingsMap": {
      "0": {
       "dataGridStateBlob": "{\"version\":1,\"tableState\":{\"columnPinning\":{\"left\":[\"#row_number#\"],\"right\":[]},\"columnSizing\":{},\"columnVisibility\":{}},\"settings\":{\"columns\":{}},\"syncTimestamp\":1752727253712}",
       "filterBlob": null,
       "queryPlanFiltersBlob": null,
       "tableResultIndex": 0
      }
     },
     "title": ""
    }
   },
   "outputs": [],
   "source": [
    "df_drug_api = df_drug.select('*',df_drug[\"products\"][0][\"product_number\"].alias(\"product_number\"),df_drug[\"products\"][0][\"reference_drug\"].alias(\"reference_drug\"),df_drug[\"products\"][0][\"brand_name\"].alias(\"brand_name\"),df_drug[\"products\"][0][\"active_ingredients\"][0][\"name\"].alias(\"ingredients_name\"),df_drug[\"products\"][0][\"active_ingredients\"][0][\"strength\"].alias(\"strength\"),df_drug[\"products\"][0][\"reference_standard\"].alias(\"reference_standard\")).drop(\"products\").display()\n",
    "\n",
    "df_drug_api.write.format(\"delta\").mode(\"overwrite\").save('/Volumes/workspace/default/emp/api_drug_new')"
   ]
  },
  {
   "cell_type": "code",
   "execution_count": 0,
   "metadata": {
    "application/vnd.databricks.v1+cell": {
     "cellMetadata": {
      "byteLimit": 2048000,
      "rowLimit": 10000
     },
     "inputWidgets": {},
     "nuid": "91ca5941-0746-4b01-84b9-46c02e2c3776",
     "showTitle": false,
     "tableResultSettingsMap": {
      "0": {
       "dataGridStateBlob": "{\"version\":1,\"tableState\":{\"columnPinning\":{\"left\":[\"#row_number#\"],\"right\":[]},\"columnSizing\":{\"strength\":106},\"columnVisibility\":{}},\"settings\":{\"columns\":{}},\"syncTimestamp\":1752728672961}",
       "filterBlob": null,
       "queryPlanFiltersBlob": null,
       "tableResultIndex": 0
      }
     },
     "title": ""
    }
   },
   "outputs": [],
   "source": [
    "from pyspark.sql.functions import *\n",
    "from pyspark.sql.types import *\n",
    "\n",
    "df_drug_api = df_drug.withColumn(\"submission_type\", replace(\"submission_type\", \"\", \"api_drug\")).withColumn(\"submission_status\", replace(\"submission_status\", \"\", \"active\")).withColumn(\"submission_status_date\", replace(\"submission_status_date\",\"\",current_date())).withColumn(\"sponsor_name\", replace(\"sponsor_name\", \"\", \"FDA\"))\\\n",
    "    .select(df_drug[\"submission_type\"],\n",
    "    df_drug[\"submission_status\"],\n",
    "    df_drug[\"submission_status_date\"],   \n",
    "    df_drug[\"sponsor_name\"],    \n",
    "    df_drug[\"products\"][0][\"product_number\"].alias(\"product_number\"),\n",
    "    df_drug[\"products\"][0][\"reference_drug\"].alias(\"reference_drug\"),\n",
    "    df_drug[\"products\"][0][\"brand_name\"].alias(\"brand_name\"),\n",
    "    df_drug[\"products\"][0][\"active_ingredients\"][0][\"name\"].alias(\"ingredients_name\"),\n",
    "    df_drug[\"products\"][0][\"active_ingredients\"][0][\"strength\"].alias(\"strength\"),\n",
    "    df_drug[\"products\"][0][\"reference_standard\"].alias(\"reference_standard\")\n",
    ").drop(\"products\")\n",
    "\n",
    "display(df_drug_api)\n",
    "\n",
    "df_drug_api.write.format(\"delta\").mode(\"overwrite\").save('/Volumes/workspace/default/emp/api_drug_new')"
   ]
  },
  {
   "cell_type": "code",
   "execution_count": 0,
   "metadata": {
    "application/vnd.databricks.v1+cell": {
     "cellMetadata": {
      "byteLimit": 2048000,
      "rowLimit": 10000
     },
     "inputWidgets": {},
     "nuid": "693d315c-7110-400e-9f31-365040fc285b",
     "showTitle": false,
     "tableResultSettingsMap": {
      "0": {
       "dataGridStateBlob": "{\"version\":1,\"tableState\":{\"columnPinning\":{\"left\":[\"#row_number#\"],\"right\":[]},\"columnSizing\":{\"strength\":358},\"columnVisibility\":{}},\"settings\":{\"columns\":{}},\"syncTimestamp\":1752729246774}",
       "filterBlob": null,
       "queryPlanFiltersBlob": null,
       "tableResultIndex": 0
      }
     },
     "title": ""
    }
   },
   "outputs": [],
   "source": [
    "from pyspark.sql.functions import col, current_date, lit, when\n",
    "\n",
    "df_drug_api = df_drug.withColumn(\n",
    "    \"submission_type\", \n",
    "    when(col(\"submission_type\") == \"\", \"api_drug\").otherwise(col(\"submission_type\"))\n",
    ").withColumn(\n",
    "    \"submission_status\", \n",
    "    when(col(\"submission_status\") == \"\", \"active\").otherwise(col(\"submission_status\"))\n",
    ").withColumn(\n",
    "    \"submission_status_date\", \n",
    "    when(col(\"submission_status_date\") == \"\", current_date()).otherwise(col(\"submission_status_date\"))\n",
    ").withColumn(\n",
    "    \"sponsor_name\", \n",
    "    when(col(\"sponsor_name\") == \"\", \"FDA\").otherwise(col(\"sponsor_name\"))\n",
    ").select(\n",
    "    col(\"submission_type\"),\n",
    "    col(\"submission_status\"),\n",
    "    col(\"submission_status_date\"),   \n",
    "    col(\"sponsor_name\"),    \n",
    "    col(\"products\")[0][\"product_number\"].alias(\"product_number\"),\n",
    "    col(\"products\")[0][\"reference_drug\"].alias(\"reference_drug\"),\n",
    "    col(\"products\")[0][\"brand_name\"].alias(\"brand_name\"),\n",
    "    col(\"products\")[0][\"active_ingredients\"][0][\"name\"].alias(\"ingredients_name\"),\n",
    "    col(\"products\")[0][\"active_ingredients\"][0][\"strength\"].alias(\"strength\"),\n",
    "    col(\"products\")[0][\"reference_standard\"].alias(\"reference_standard\")\n",
    ").drop(\"products\")\n",
    "\n",
    "display(df_drug_api)\n",
    "\n",
    "df_drug_api.write.format(\"delta\").mode(\"overwrite\").save('/Volumes/workspace/default/emp/api_drug_new')"
   ]
  },
  {
   "cell_type": "code",
   "execution_count": 0,
   "metadata": {
    "application/vnd.databricks.v1+cell": {
     "cellMetadata": {
      "byteLimit": 2048000,
      "rowLimit": 10000
     },
     "inputWidgets": {},
     "nuid": "7d460887-8167-4cd2-a88e-3cb478db881d",
     "showTitle": false,
     "tableResultSettingsMap": {},
     "title": ""
    }
   },
   "outputs": [],
   "source": [
    "df_dg = spark.read.format(\"delta\").load(\"/Volumes/workspace/default/emp/api_drug_new\")\n",
    "df_dg.display()"
   ]
  },
  {
   "cell_type": "code",
   "execution_count": 0,
   "metadata": {
    "application/vnd.databricks.v1+cell": {
     "cellMetadata": {
      "byteLimit": 2048000,
      "rowLimit": 10000
     },
     "inputWidgets": {},
     "nuid": "2b99345d-a57d-435a-b0ef-baf62b990608",
     "showTitle": false,
     "tableResultSettingsMap": {},
     "title": ""
    }
   },
   "outputs": [],
   "source": [
    "df_dg_new = df_dg.na.fill(\"0\").display()\n",
    "\n",
    "\n",
    "df_dg_new = df_dg.na.fill(\"0\", subset= [\"submission_status_date\"]).display()\n",
    "\n",
    "df_dg_new = df_dg.na.replace([None],[\"api_type\"], subset = [\"submission_type\"]).display()"
   ]
  },
  {
   "cell_type": "code",
   "execution_count": 0,
   "metadata": {
    "application/vnd.databricks.v1+cell": {
     "cellMetadata": {
      "byteLimit": 2048000,
      "rowLimit": 10000
     },
     "inputWidgets": {},
     "nuid": "85f4cb79-1798-41b5-94fd-e531b1286fc6",
     "showTitle": false,
     "tableResultSettingsMap": {},
     "title": ""
    }
   },
   "outputs": [],
   "source": [
    "%python\n",
    "df_dg_new = df_dg.na.fill(\"0\")\n",
    "display(df_dg_new)\n",
    "\n",
    "df_dg_new = df_dg.na.fill(\"0\", subset=[\"submission_status_date\"])\n",
    "display(df_dg_new)\n",
    "\n",
    "df_dg_new = df_dg.na.replace(None, \"api_type\", subset=[\"submission_type\"])\n",
    "display(df_dg_new)"
   ]
  },
  {
   "cell_type": "code",
   "execution_count": 0,
   "metadata": {
    "application/vnd.databricks.v1+cell": {
     "cellMetadata": {
      "byteLimit": 2048000,
      "implicitDf": true,
      "rowLimit": 10000
     },
     "inputWidgets": {},
     "nuid": "9d9f9597-38f9-48ea-a1fa-0245bc82173c",
     "showTitle": false,
     "tableResultSettingsMap": {},
     "title": ""
    }
   },
   "outputs": [],
   "source": [
    "%sql\n",
    "select * from workspace.default.api_drug"
   ]
  },
  {
   "cell_type": "code",
   "execution_count": 0,
   "metadata": {
    "application/vnd.databricks.v1+cell": {
     "cellMetadata": {
      "byteLimit": 2048000,
      "rowLimit": 10000
     },
     "inputWidgets": {},
     "nuid": "8cf27cad-d313-4299-b988-df6bedb9169d",
     "showTitle": false,
     "tableResultSettingsMap": {},
     "title": ""
    }
   },
   "outputs": [],
   "source": [
    "import requests\n",
    "url = 'https://api.fda.gov/drug/drugsfda.json?limit=100'\n",
    "response = requests.get(url)\n",
    "df_drugs = spark.createDataFrame(response.json()['results'],  schema = StructType([\n",
    "    StructField('products', ArrayType(StructType([\n",
    "        StructField('product_number', StringType(), True),\n",
    "        StructField('reference_drug', StringType(), True),\n",
    "        StructField('brand_name', StringType(), True),\n",
    "        StructField('active_ingredients', ArrayType(StructType([\n",
    "            StructField('name', StringType(), True),\n",
    "            StructField('strength', StringType(), True)\n",
    "        ])), True),\n",
    "        StructField('reference_standard', StringType(), True)\n",
    "    ])), True),\n",
    "    StructField('submission_type', StringType(), True),\n",
    "    StructField('submission_status', StringType(), True),\n",
    "    StructField('submission_status_date', StringType(), True),\n",
    "    StructField('review_priority', StringType(), True),\n",
    "    StructField('application_number', StringType(), True),\n",
    "    StructField('sponsor_name', StringType(), True)\n",
    "]))\n",
    "df_drugs.write.mode(\"overwrite\").saveAsTable(\"API_DRUG\")\n",
    "df_drugs.display()"
   ]
  },
  {
   "cell_type": "code",
   "execution_count": 0,
   "metadata": {
    "application/vnd.databricks.v1+cell": {
     "cellMetadata": {
      "byteLimit": 2048000,
      "rowLimit": 10000
     },
     "inputWidgets": {},
     "nuid": "725a044c-0441-460e-8c7d-022c92e62d34",
     "showTitle": false,
     "tableResultSettingsMap": {},
     "title": ""
    }
   },
   "outputs": [],
   "source": [
    "import numpy as np\n",
    "import pandas as pd\n",
    "\n",
    "# Enable Arrow-based columnar data transfers\n",
    "spark.conf.set(\"spark.sql.execution.arrow.pyspark.enabled\", \"true\")\n",
    "\n",
    "# Generate a pandas DataFrame\n",
    "pdf = pd.DataFrame(np.random.rand(100, 3))\n",
    "\n",
    "# Create a Spark DataFrame from a pandas DataFrame using Arrow\n",
    "df = spark.createDataFrame(pdf)\n",
    "\n",
    "# Convert the Spark DataFrame back to a pandas DataFrame using Arrow\n",
    "result_pdf = df.select(\"*\").toPandas()"
   ]
  },
  {
   "cell_type": "code",
   "execution_count": 0,
   "metadata": {
    "application/vnd.databricks.v1+cell": {
     "cellMetadata": {
      "byteLimit": 2048000,
      "rowLimit": 10000
     },
     "inputWidgets": {},
     "nuid": "fb951e5a-dccc-462d-aa8a-335223cae848",
     "showTitle": false,
     "tableResultSettingsMap": {},
     "title": ""
    }
   },
   "outputs": [],
   "source": [
    "%python\n",
    "import numpy as np\n",
    "import pandas as pd\n",
    "\n",
    "# Generate a pandas DataFrame\n",
    "pdf = pd.DataFrame(np.random.rand(100, 3))\n",
    "\n",
    "# Create a Spark DataFrame from a pandas DataFrame\n",
    "df = spark.createDataFrame(pdf)\n",
    "\n",
    "# Convert the Spark DataFrame back to a pandas DataFrame\n",
    "result_pdf = df.select(\"*\").toPandas()\n",
    "\n",
    "display(result_pdf)"
   ]
  }
 ],
 "metadata": {
  "application/vnd.databricks.v1+notebook": {
   "computePreferences": {
    "hardware": {
     "accelerator": null,
     "gpuPoolId": null,
     "memory": null
    }
   },
   "dashboards": [],
   "environmentMetadata": {
    "base_environment": "",
    "environment_version": "2"
   },
   "inputWidgetPreferences": null,
   "language": "python",
   "notebookMetadata": {
    "mostRecentlyExecutedCommandWithImplicitDF": {
     "commandId": 6289269911650626,
     "dataframes": [
      "_sqldf"
     ]
    },
    "pythonIndentUnit": 4
   },
   "notebookName": "REST_API",
   "widgets": {}
  },
  "language_info": {
   "name": "python"
  }
 },
 "nbformat": 4,
 "nbformat_minor": 0
}
