{
 "cells": [
  {
   "cell_type": "code",
   "execution_count": 0,
   "metadata": {
    "application/vnd.databricks.v1+cell": {
     "cellMetadata": {
      "byteLimit": 2048000,
      "rowLimit": 10000
     },
     "inputWidgets": {},
     "nuid": "97cd48c1-6578-4ff7-ab92-67092a47d0be",
     "showTitle": false,
     "tableResultSettingsMap": {},
     "title": ""
    }
   },
   "outputs": [],
   "source": [
    "dbutils.fs.put('/Volumes/workspace/default/emp/emp_prac.csv',\"\"\"E_CODE|D_CODE|E_NAME|E_LOC|E_SALARY\n",
    "E1|D1|Mi3ke|TEXAS|5000\n",
    "E2|D3|T2om|CHICAGO|6000\n",
    "E3|D2|1Wayn3e|INDIANAPOLIS|3000\n",
    "E4|D2|2Joh3n|NEW YORK|4000\n",
    "E5|D3|Phillip|CHICAGO|7000\n",
    "E6|D1|Kevin4|SAN JOSE|15000\n",
    "E7|D1|Be3n|DENVER|3500\n",
    "E8|D3|Cri5sti7na8|CHICAGO|6500\n",
    "E9|D1|Stev8e|TEXAS|8500\n",
    "E10|D2|Ca3rol|INDIANAPOLIS|5500\"\"\")"
   ]
  },
  {
   "cell_type": "code",
   "execution_count": 0,
   "metadata": {
    "application/vnd.databricks.v1+cell": {
     "cellMetadata": {
      "byteLimit": 2048000,
      "rowLimit": 10000
     },
     "inputWidgets": {},
     "nuid": "3c38908d-dc11-4ffc-9c4c-cf52ce03ae53",
     "showTitle": false,
     "tableResultSettingsMap": {},
     "title": ""
    }
   },
   "outputs": [],
   "source": [
    "df_emp = spark.read.format('csv').option(\"header\", True).option(\"inferSchema\", True).option(\"delimiter\", '|').load('/Volumes/workspace/default/emp/emp_prac.csv')\n",
    "display(df_emp)"
   ]
  },
  {
   "cell_type": "code",
   "execution_count": 0,
   "metadata": {
    "application/vnd.databricks.v1+cell": {
     "cellMetadata": {
      "byteLimit": 2048000,
      "rowLimit": 10000
     },
     "inputWidgets": {},
     "nuid": "5bf43b70-d88f-4146-9ade-db3833af9a50",
     "showTitle": false,
     "tableResultSettingsMap": {},
     "title": ""
    }
   },
   "outputs": [],
   "source": [
    "dbutils.fs.put('/Volumes/workspace/default/emp/emp_prac_currupt.csv',\"\"\"E_CODE|D_CODE|E_NAME|E_LOC|E_SALARY|BAREC\n",
    "E1|D1|Mi3ke|TEXAS|5000\n",
    "E2|D3|T2om|CHICAGO|6000\n",
    "E3|D2|1Wayn3e|INDIANAPOLIS|3000\n",
    "E4|D2|2Joh3n|NEW YORK|4000\n",
    "E5|D3|Phillip|CHICAGO|7000\n",
    "E6 D1 Kevin4|SAN JOSE|15000|\n",
    "E7|D1|Be3n|DENVER|3500\n",
    "E8|D3|Cri5sti7na8|CHICAGO|6500\n",
    "E9|D1|Stev8e|TEXAS|8500\n",
    "E10|D2|Ca3rol|INDIANAPOLIS|5500\"\"\")"
   ]
  },
  {
   "cell_type": "code",
   "execution_count": 0,
   "metadata": {
    "application/vnd.databricks.v1+cell": {
     "cellMetadata": {
      "byteLimit": 2048000,
      "rowLimit": 10000
     },
     "inputWidgets": {},
     "nuid": "20957cc3-434e-4967-a86e-d8e1e0bff602",
     "showTitle": false,
     "tableResultSettingsMap": {},
     "title": ""
    }
   },
   "outputs": [],
   "source": [
    "display(dbutils.fs.ls('/Volumes/workspace/default/emp/emp_prac.csv'))"
   ]
  },
  {
   "cell_type": "markdown",
   "metadata": {
    "application/vnd.databricks.v1+cell": {
     "cellMetadata": {},
     "inputWidgets": {},
     "nuid": "d7b4f4f8-c094-4c94-bd54-5085af39b010",
     "showTitle": false,
     "tableResultSettingsMap": {},
     "title": ""
    }
   },
   "source": [
    "**PERMISSIVE**"
   ]
  },
  {
   "cell_type": "code",
   "execution_count": 0,
   "metadata": {
    "application/vnd.databricks.v1+cell": {
     "cellMetadata": {},
     "inputWidgets": {},
     "nuid": "ee09e41f-20b5-4207-8b7d-787c82a414f5",
     "showTitle": false,
     "tableResultSettingsMap": {},
     "title": ""
    }
   },
   "outputs": [],
   "source": [
    "#PERMISSIVE mode let bad records to read\n"
   ]
  },
  {
   "cell_type": "code",
   "execution_count": 0,
   "metadata": {
    "application/vnd.databricks.v1+cell": {
     "cellMetadata": {
      "byteLimit": 2048000,
      "rowLimit": 10000
     },
     "inputWidgets": {},
     "nuid": "98dc9242-ca3e-4117-a6ab-7dca7faf688b",
     "showTitle": false,
     "tableResultSettingsMap": {},
     "title": ""
    }
   },
   "outputs": [],
   "source": [
    "df_emp_currupt =  spark.read.format('csv').option(\"header\",True).option(\"inferSchema\",True).option(\"delimiter\",'|').option(\"mode\",\"PERMISSIVE\").load(\"/Volumes/workspace/default/emp/emp_prac_currupt.csv\")\n",
    "df_emp_currupt.display()"
   ]
  },
  {
   "cell_type": "markdown",
   "metadata": {
    "application/vnd.databricks.v1+cell": {
     "cellMetadata": {},
     "inputWidgets": {},
     "nuid": "a52fa7ea-962d-4b35-975d-3c6d05f0cba5",
     "showTitle": false,
     "tableResultSettingsMap": {},
     "title": ""
    }
   },
   "source": [
    "**FAILFAST**"
   ]
  },
  {
   "cell_type": "code",
   "execution_count": 0,
   "metadata": {
    "application/vnd.databricks.v1+cell": {
     "cellMetadata": {},
     "inputWidgets": {},
     "nuid": "d77a3faf-038b-4b97-9866-2a4702d60395",
     "showTitle": false,
     "tableResultSettingsMap": {},
     "title": ""
    }
   },
   "outputs": [],
   "source": [
    "#Failfast mode is used when the bad records are comming. and we don't want to load need to fail the job we can use it"
   ]
  },
  {
   "cell_type": "code",
   "execution_count": 0,
   "metadata": {
    "application/vnd.databricks.v1+cell": {
     "cellMetadata": {
      "byteLimit": 2048000,
      "rowLimit": 10000
     },
     "inputWidgets": {},
     "nuid": "b2be956a-3e88-49b7-af1f-0bbc77ceb7c1",
     "showTitle": false,
     "tableResultSettingsMap": {},
     "title": ""
    }
   },
   "outputs": [],
   "source": [
    "df_emp_fail =  spark.read.format('csv').option(\"header\",True).option(\"inferSchema\",True).option(\"delimiter\",'|').option(\"mode\",\"FAILFAST\").load(\"/Volumes/workspace/default/emp/emp_prac_currupt.csv\")\n",
    "df_emp_fail.display()"
   ]
  },
  {
   "cell_type": "markdown",
   "metadata": {
    "application/vnd.databricks.v1+cell": {
     "cellMetadata": {},
     "inputWidgets": {},
     "nuid": "caa62ead-3daf-4271-b6ad-ece868c29916",
     "showTitle": false,
     "tableResultSettingsMap": {},
     "title": ""
    }
   },
   "source": [
    "**DROPMALFORMED**"
   ]
  },
  {
   "cell_type": "markdown",
   "metadata": {
    "application/vnd.databricks.v1+cell": {
     "cellMetadata": {},
     "inputWidgets": {},
     "nuid": "d5d3fa7e-e88f-4256-9d3a-86d04b7d4f5f",
     "showTitle": false,
     "tableResultSettingsMap": {},
     "title": ""
    }
   },
   "source": [
    "#dropmalformed load is used whenever the bad recorda arrives reject the old records aand allow onlr good records."
   ]
  },
  {
   "cell_type": "code",
   "execution_count": 0,
   "metadata": {
    "application/vnd.databricks.v1+cell": {
     "cellMetadata": {
      "byteLimit": 2048000,
      "rowLimit": 10000
     },
     "inputWidgets": {},
     "nuid": "3ba520a7-812c-44bf-b2aa-5cb8e8a2679e",
     "showTitle": false,
     "tableResultSettingsMap": {},
     "title": ""
    }
   },
   "outputs": [],
   "source": [
    "df_emp_malformed = spark.read.format('csv').option(\"header\", True).option(\"inferSchema\", True).option(\"delimiter\", '|').option(\"mode\", \"DROPMALFORMED\").load('/Volumes/workspace/default/emp/emp_prac_currupt.csv')\n",
    "display(df_emp_malformed)"
   ]
  },
  {
   "cell_type": "markdown",
   "metadata": {
    "application/vnd.databricks.v1+cell": {
     "cellMetadata": {},
     "inputWidgets": {},
     "nuid": "7178f59a-e837-498e-8595-808c4eed6b0c",
     "showTitle": false,
     "tableResultSettingsMap": {},
     "title": ""
    }
   },
   "source": [
    "To capture the bad record we need specify the path that where the bad records has to be store"
   ]
  },
  {
   "cell_type": "code",
   "execution_count": 0,
   "metadata": {
    "application/vnd.databricks.v1+cell": {
     "cellMetadata": {
      "byteLimit": 2048000,
      "rowLimit": 10000
     },
     "inputWidgets": {},
     "nuid": "3517721d-fe3a-42e1-9d89-704d229ba247",
     "showTitle": false,
     "tableResultSettingsMap": {},
     "title": ""
    }
   },
   "outputs": [],
   "source": [
    "df_emp_bad = spark.read.format('csv').option(\"header\", True).option(\"delimiter\", '|').option(\"badRecordsPath\",'/Volumes/workspace/default/emp/bad/emp_prac_bad.csv').load('/Volumes/workspace/default/emp/emp_prac_currupt.csv')\n",
    "display(df_emp_bad)"
   ]
  },
  {
   "cell_type": "code",
   "execution_count": 0,
   "metadata": {
    "application/vnd.databricks.v1+cell": {
     "cellMetadata": {
      "byteLimit": 2048000,
      "rowLimit": 10000
     },
     "inputWidgets": {},
     "nuid": "13fc7fe5-4f8b-4064-a39e-02fef7aba58f",
     "showTitle": false,
     "tableResultSettingsMap": {},
     "title": ""
    }
   },
   "outputs": [],
   "source": [
    "from pyspark.sql.types import StructType, StructField, StringType, IntegerType\n",
    "\n",
    "schema = StructType([\n",
    "    StructField(\"column1\", StringType(), True),\n",
    "    StructField(\"column2\", IntegerType(), True),\n",
    "    StructField(\"column3\", StringType(), True)\n",
    "])\n",
    "\n",
    "df_emp_bad_c = spark.read.format('csv').option(\"header\", True).option(\"delimiter\", '|').schema(schema).load('/Volumes/workspace/default/emp/bad/emp_prac_bad.csv')\n",
    "display(df_emp_bad_c)"
   ]
  },
  {
   "cell_type": "code",
   "execution_count": 0,
   "metadata": {
    "application/vnd.databricks.v1+cell": {
     "cellMetadata": {
      "byteLimit": 2048000,
      "rowLimit": 10000
     },
     "inputWidgets": {},
     "nuid": "2b2ad4ae-57b8-41f1-a1c6-c1e19f5a8310",
     "showTitle": false,
     "tableResultSettingsMap": {},
     "title": ""
    }
   },
   "outputs": [],
   "source": [
    "df_emp_bad_c = spark.read.format('csv').option(\"header\", True).option(\"inferSchema\", True).option(\"delimiter\", '|').load('/Volumes/workspace/default/emp/bad/emp_prac_bad.csv')\n",
    "display(df_emp_bad_c)"
   ]
  },
  {
   "cell_type": "code",
   "execution_count": 0,
   "metadata": {
    "application/vnd.databricks.v1+cell": {
     "cellMetadata": {
      "byteLimit": 2048000,
      "rowLimit": 10000
     },
     "inputWidgets": {},
     "nuid": "f183f4d6-1855-4e70-8b9f-68ac20e4808c",
     "showTitle": false,
     "tableResultSettingsMap": {},
     "title": ""
    }
   },
   "outputs": [],
   "source": [
    "%fs ls '/Volumes/workspace/default/emp/bad/emp_prac_bad.csv'"
   ]
  },
  {
   "cell_type": "code",
   "execution_count": 0,
   "metadata": {
    "application/vnd.databricks.v1+cell": {
     "cellMetadata": {
      "byteLimit": 2048000,
      "rowLimit": 10000
     },
     "inputWidgets": {},
     "nuid": "7a7fe4b6-05bc-4996-b714-c0a5021295ad",
     "showTitle": false,
     "tableResultSettingsMap": {},
     "title": ""
    }
   },
   "outputs": [],
   "source": [
    "df_bad_json = spark.read.option(\"inferSchema\",True).json(\"/Volumes/workspace/default/emp/bad/emp_prac_bad.csv\")\n",
    "df_bad_json.display()"
   ]
  },
  {
   "cell_type": "code",
   "execution_count": 0,
   "metadata": {
    "application/vnd.databricks.v1+cell": {
     "cellMetadata": {
      "byteLimit": 2048000,
      "rowLimit": 10000
     },
     "inputWidgets": {},
     "nuid": "5628d4fc-54dd-4eac-b56a-935b56d0373e",
     "showTitle": false,
     "tableResultSettingsMap": {},
     "title": ""
    }
   },
   "outputs": [],
   "source": [
    "dbutils.fs.put('/Volumes/workspace/default/emp/badrec/emp_cor_bad_new.csv',\"\"\"E_CODE|D_CODE|E_NAME|E_LOC|E_SALARY|BAREC\n",
    "E1|D1|Mi3ke|TEXAS|5000\n",
    "E2|D3|T2om|CHICAGO|6000\n",
    "E3|D2|1Wayn3e|INDIANAPOLIS|3000\n",
    "E4|D2|2Joh3n|NEW YORK|4000\n",
    "E5|D3|Phillip|CHICAGO|7000\n",
    "E6 D1 Kevin4|SAN JOSE|15000|\n",
    "E7|D1|Be3n|DENVER|3500\n",
    "E8|D3|Cri5sti7na8|CHICAGO|6500\n",
    "E9|D1|Stev8e|TEXAS|8500\n",
    "E10|D2|Ca3rol|INDIANAPOLIS|5500\"\"\")"
   ]
  },
  {
   "cell_type": "code",
   "execution_count": 0,
   "metadata": {
    "application/vnd.databricks.v1+cell": {
     "cellMetadata": {
      "byteLimit": 2048000,
      "rowLimit": 10000
     },
     "inputWidgets": {},
     "nuid": "19321458-d30e-4d80-b8e7-a283bf5416aa",
     "showTitle": false,
     "tableResultSettingsMap": {},
     "title": ""
    }
   },
   "outputs": [],
   "source": [
    "df_bad_cor = spark.read.format(\"csv\").option(\"header\",True).option(\"inferSchema\",True).option(\"delimiter\",'|').option(\"mode\",\"PERMISSIVE\").option(\"columnNameOfCorruptRecord\",\"BADREC\").load('/Volumes/workspace/default/emp/badrec/emp_cor_bad_new.csv')\n",
    "display(df_bad_cor)"
   ]
  },
  {
   "cell_type": "code",
   "execution_count": 0,
   "metadata": {
    "application/vnd.databricks.v1+cell": {
     "cellMetadata": {
      "byteLimit": 2048000,
      "rowLimit": 10000
     },
     "inputWidgets": {},
     "nuid": "1f760d5d-dc01-4ebb-b059-7602e71c3376",
     "showTitle": false,
     "tableResultSettingsMap": {},
     "title": ""
    }
   },
   "outputs": [],
   "source": [
    "df_bad_cor = spark.read.format(\"csv\").option(\"header\",True).option(\"inferSchema\",True).option(\"delimiter\",'|').option(\"mode\",\"DROPMALFORMED\").option(\"columnNameOfCorruptRecord\",\"BADREC\").load('/Volumes/workspace/default/emp/badrec/emp_cor_bad_new.csv')\n",
    "display(df_bad_cor)"
   ]
  },
  {
   "cell_type": "code",
   "execution_count": 0,
   "metadata": {
    "application/vnd.databricks.v1+cell": {
     "cellMetadata": {
      "byteLimit": 2048000,
      "rowLimit": 10000
     },
     "inputWidgets": {},
     "nuid": "2e37a5bd-d95b-47c2-98a6-12fe6bf37a44",
     "showTitle": false,
     "tableResultSettingsMap": {},
     "title": ""
    }
   },
   "outputs": [],
   "source": [
    "good_data = df_bad_cor.filter(df_bad_cor.BADREC.isNull())\n",
    "good_data.write.format(\"json\").mode(\"overwrite\").save(\"/Volumes/workspace/default/emp/emp_prac_cor_bad.csv\")"
   ]
  },
  {
   "cell_type": "code",
   "execution_count": 0,
   "metadata": {
    "application/vnd.databricks.v1+cell": {
     "cellMetadata": {
      "byteLimit": 2048000,
      "rowLimit": 10000
     },
     "inputWidgets": {},
     "nuid": "5658c267-6b5a-4642-b9cc-44070ddf7b61",
     "showTitle": false,
     "tableResultSettingsMap": {},
     "title": ""
    }
   },
   "outputs": [],
   "source": [
    "df_bad_cor = spark.read.format(\"json\").option(\"mode\",\"PERMISSIVE\").option(\"badRecordsPath\",'/Volumes/workspace/default/emp/bad/emp_correct_bcol.csv').option(\"columnNameOfCorruptRecord\",\"BADREC\").load('/Volumes/workspace/default/emp/bad/emp_cor_bad_new.csv')\n",
    "display(df_bad_cor)"
   ]
  },
  {
   "cell_type": "code",
   "execution_count": 0,
   "metadata": {
    "application/vnd.databricks.v1+cell": {
     "cellMetadata": {
      "byteLimit": 2048000,
      "rowLimit": 10000
     },
     "inputWidgets": {},
     "nuid": "974f6a1c-360e-426c-b775-496c3d5954d8",
     "showTitle": false,
     "tableResultSettingsMap": {},
     "title": ""
    }
   },
   "outputs": [],
   "source": [
    "df_emp = spark.read.format('csv').option(\"header\", True).option(\"inferSchema\", True).option(\"delimiter\", '|').load('/Volumes/workspace/default/emp/emp_prac.csv')\n",
    "display(df_emp)"
   ]
  },
  {
   "cell_type": "code",
   "execution_count": 0,
   "metadata": {
    "application/vnd.databricks.v1+cell": {
     "cellMetadata": {
      "byteLimit": 2048000,
      "rowLimit": 10000
     },
     "inputWidgets": {},
     "nuid": "ee1be282-4dd4-492c-bb32-30d04d91b46c",
     "showTitle": false,
     "tableResultSettingsMap": {},
     "title": ""
    }
   },
   "outputs": [],
   "source": [
    "df_emp.write.format(\"delta\").mode(\"overwrite\").save(\"/Volumes/workspace/default/emp/Badrec/emp_prac_delta\")\n"
   ]
  },
  {
   "cell_type": "markdown",
   "metadata": {
    "application/vnd.databricks.v1+cell": {
     "cellMetadata": {},
     "inputWidgets": {},
     "nuid": "7a95827e-2089-413d-9b24-3bce8be15ad5",
     "showTitle": false,
     "tableResultSettingsMap": {},
     "title": ""
    }
   },
   "source": [
    "**DUPLICATES**"
   ]
  },
  {
   "cell_type": "code",
   "execution_count": 0,
   "metadata": {
    "application/vnd.databricks.v1+cell": {
     "cellMetadata": {
      "byteLimit": 2048000,
      "rowLimit": 10000
     },
     "inputWidgets": {},
     "nuid": "bf7a5da1-69e8-4617-abf0-f5effbfdbad6",
     "showTitle": false,
     "tableResultSettingsMap": {},
     "title": ""
    }
   },
   "outputs": [],
   "source": [
    "dbutils.fs.put('/Volumes/workspace/default/emp/duplicates.csv',\"\"\"id,name,loc,updated_date\n",
    "1,ravi,bangalore,2021-01-01\n",
    "1,ravi,chennai,2022-02-02\n",
    "1,ravi,Hyderabad,2022-06-10\n",
    "2,Raj,bangalore,2021-01-01\n",
    "2,Raj,chennai,2022-02-02\n",
    "3,Raj,Hyderabad,2022-06-10\n",
    "4,Prasad,bangalore,2021-01-01\n",
    "5,Mahesh,chennai,2022-02-02\n",
    "4,Prasad,Hyderabad,2022-06-10\n",
    "\"\"\")"
   ]
  },
  {
   "cell_type": "code",
   "execution_count": 0,
   "metadata": {
    "application/vnd.databricks.v1+cell": {
     "cellMetadata": {
      "byteLimit": 2048000,
      "rowLimit": 10000
     },
     "inputWidgets": {},
     "nuid": "fad30fd1-73b0-4656-a8b6-adf1e2a5fd3e",
     "showTitle": false,
     "tableResultSettingsMap": {},
     "title": ""
    }
   },
   "outputs": [],
   "source": [
    "df_dup = spark.read.format(\"csv\").option(\"inferScheama\",True).option(\"header\", True).load(\"/Volumes/workspace/default/emp/duplicates.csv\")\n",
    "display(df_dup)\n",
    "df_dup.write.format(\"delta\").mode(\"overwrite\").save(\"/Volumes/workspace/default/emp/dup/dup_data\")"
   ]
  },
  {
   "cell_type": "code",
   "execution_count": 0,
   "metadata": {
    "application/vnd.databricks.v1+cell": {
     "cellMetadata": {
      "byteLimit": 2048000,
      "rowLimit": 10000
     },
     "inputWidgets": {},
     "nuid": "22411988-a55c-4fce-9621-0ada556820d6",
     "showTitle": false,
     "tableResultSettingsMap": {},
     "title": ""
    }
   },
   "outputs": [],
   "source": [
    "from pyspark.sql.functions import *\n",
    "from delta.tables import *\n",
    "from pyspark.sql.types import *\n",
    "df_correct = df_dup.orderBy(desc(\"updated_date\")).dropDuplicates([\"id\"])\n",
    "df_correct.display()\n",
    "\n",
    "\n",
    "\n",
    "from pyspark.sql.functions import *\n",
    "from pyspark.sql.window import Window\n",
    "from delta.tables import *\n",
    "from pyspark.sql.types import *\n",
    "\n",
    "df_correct_rn = Window.partitionBy(\"id\").orderBy(desc(\"updated_date\"))\n",
    "df_rn = df_dup.withColumn(\"Row_num\", row_number().over(df_correct_rn))\n",
    "df_new =df_rn.filter(col(\"Row_num\") == 1)\n",
    "df_new.display()"
   ]
  },
  {
   "cell_type": "markdown",
   "metadata": {
    "application/vnd.databricks.v1+cell": {
     "cellMetadata": {},
     "inputWidgets": {},
     "nuid": "fb00d96d-7b79-4b9d-b535-337cecfad4e9",
     "showTitle": false,
     "tableResultSettingsMap": {},
     "title": ""
    }
   },
   "source": [
    "**ADD FILE NAME COLUMN**"
   ]
  },
  {
   "cell_type": "markdown",
   "metadata": {
    "application/vnd.databricks.v1+cell": {
     "cellMetadata": {},
     "inputWidgets": {},
     "nuid": "d90aa78d-6148-4d16-829b-bc2c2489463f",
     "showTitle": false,
     "tableResultSettingsMap": {},
     "title": ""
    }
   },
   "source": [
    "input_file_name()"
   ]
  },
  {
   "cell_type": "code",
   "execution_count": 0,
   "metadata": {
    "application/vnd.databricks.v1+cell": {
     "cellMetadata": {
      "byteLimit": 2048000,
      "rowLimit": 10000
     },
     "inputWidgets": {},
     "nuid": "4c1d9d47-ac84-4ab3-b3db-c13feff3e9c0",
     "showTitle": false,
     "tableResultSettingsMap": {},
     "title": ""
    }
   },
   "outputs": [],
   "source": [
    "from pyspark.sql.functions import input_file_name\n",
    "from delta.tables import *\n",
    "from pyspark.sql.types import *"
   ]
  },
  {
   "cell_type": "code",
   "execution_count": 0,
   "metadata": {
    "application/vnd.databricks.v1+cell": {
     "cellMetadata": {
      "byteLimit": 2048000,
      "rowLimit": 10000
     },
     "inputWidgets": {},
     "nuid": "e88c8a6e-fa99-4167-b7b0-07f16fb897ea",
     "showTitle": false,
     "tableResultSettingsMap": {},
     "title": ""
    }
   },
   "outputs": [],
   "source": [
    "filename_col = spark.read.format(\"csv\").option(\"inferSchema\",True).option(\"header\",True).load(\"/Volumes/workspace/default/emp/duplicates.csv\")\n",
    "new_dup = filename_col.withColumn(\"filename\",input_file_name())\n",
    "new_dup.display()"
   ]
  },
  {
   "cell_type": "code",
   "execution_count": 0,
   "metadata": {
    "application/vnd.databricks.v1+cell": {
     "cellMetadata": {
      "byteLimit": 2048000,
      "rowLimit": 10000
     },
     "inputWidgets": {},
     "nuid": "39bd17b1-03ef-4b83-873f-05ae08d1f9fe",
     "showTitle": false,
     "tableResultSettingsMap": {},
     "title": ""
    }
   },
   "outputs": [],
   "source": [
    "from pyspark.sql.functions import col\n",
    "\n",
    "filename_col = spark.read.format(\"csv\").option(\"inferSchema\", True).option(\"header\", True).load(\"/Volumes/workspace/default/emp/duplicates.csv\")\n",
    "new_dup = filename_col.withColumn(\"filename\", col(\"_metadata.file_path\"))\n",
    "emp_str = new_dup.withColumn((\"filename\",expr(\"substr(filename,1)\")))\n",
    "display(emp_str)"
   ]
  },
  {
   "cell_type": "code",
   "execution_count": 0,
   "metadata": {
    "application/vnd.databricks.v1+cell": {
     "cellMetadata": {},
     "inputWidgets": {},
     "nuid": "d351734c-7b43-49e8-8d29-ba8cdff880de",
     "showTitle": false,
     "tableResultSettingsMap": {},
     "title": ""
    }
   },
   "outputs": [],
   "source": []
  },
  {
   "cell_type": "code",
   "execution_count": 0,
   "metadata": {
    "application/vnd.databricks.v1+cell": {
     "cellMetadata": {},
     "inputWidgets": {},
     "nuid": "2a4d6b10-3c35-485e-bcf6-cc1d0834b4e1",
     "showTitle": false,
     "tableResultSettingsMap": {},
     "title": ""
    }
   },
   "outputs": [],
   "source": []
  },
  {
   "cell_type": "code",
   "execution_count": 0,
   "metadata": {
    "application/vnd.databricks.v1+cell": {
     "cellMetadata": {
      "byteLimit": 2048000,
      "rowLimit": 10000
     },
     "inputWidgets": {},
     "nuid": "d69b28f9-0562-4470-af04-87c2fd84e391",
     "showTitle": false,
     "tableResultSettingsMap": {},
     "title": ""
    }
   },
   "outputs": [],
   "source": [
    "from pyspark.sql.functions import col, expr\n",
    "\n",
    "filename_col = spark.read.format(\"csv\").option(\"inferSchema\", True).option(\"header\", True).load(\"/Volumes/workspace/default/emp/duplicates.csv\")\n",
    "new_dup = filename_col.withColumn(\"filename\", col(\"_metadata.file_path\"))\n",
    "emp_str = new_dup.withColumn(\"filename\", expr(\"substr(filename, 37)\"))\n",
    "display(emp_str)"
   ]
  },
  {
   "cell_type": "code",
   "execution_count": 0,
   "metadata": {
    "application/vnd.databricks.v1+cell": {
     "cellMetadata": {
      "byteLimit": 2048000,
      "rowLimit": 10000
     },
     "inputWidgets": {},
     "nuid": "b7e63b2a-e6c8-45d6-9515-184e3510948b",
     "showTitle": false,
     "tableResultSettingsMap": {},
     "title": ""
    }
   },
   "outputs": [],
   "source": [
    "from pyspark.sql.functions import col, expr\n",
    "\n",
    "filename_col = spark.read.format(\"csv\").option(\"inferSchema\", True).option(\"header\", True).load(\"/Volumes/workspace/default/emp/duplicates.csv\")\n",
    "new_dup = filename_col.withColumn(\"filename\", col(\"_metadata.file_path\"))\n",
    "#emp_str = new_dup.withColumn(\"filename\", expr(\"substr(filename, instr(filename,'/',1,5))\"))\n",
    "display(new_dup)\n"
   ]
  },
  {
   "cell_type": "code",
   "execution_count": 0,
   "metadata": {
    "application/vnd.databricks.v1+cell": {
     "cellMetadata": {
      "byteLimit": 2048000,
      "rowLimit": 10000
     },
     "inputWidgets": {},
     "nuid": "59366a94-4f62-4065-a49d-deb70c918328",
     "showTitle": false,
     "tableResultSettingsMap": {},
     "title": ""
    }
   },
   "outputs": [],
   "source": [
    "from pyspark.sql.functions import col, expr\n",
    "\n",
    "filename_col = spark.read.format(\"csv\").option(\"inferSchema\", True).option(\"header\", True).load(\"/Volumes/workspace/default/emp/duplicates.csv\")\n",
    "new_dup = filename_col.withColumn(\"filename\", col(\"_metadata.file_path\"))\n",
    "emp_str = new_dup.withColumn(\"filename\", expr(\"substr(filename, instr(filename,'/',-1)+1)\"))\n",
    "display(new_dup)"
   ]
  },
  {
   "cell_type": "code",
   "execution_count": 0,
   "metadata": {
    "application/vnd.databricks.v1+cell": {
     "cellMetadata": {
      "byteLimit": 2048000,
      "rowLimit": 10000
     },
     "inputWidgets": {},
     "nuid": "3d517213-a48e-468d-9528-c2b033d7ed72",
     "showTitle": false,
     "tableResultSettingsMap": {},
     "title": ""
    }
   },
   "outputs": [],
   "source": [
    "dbutils.fs.put(\"/Volumes/workspace/default/emp/emp_data_date.csv\",\"\"\"EMPNO,ENAME,JOB,MGR,HIREDATE,SAL,COMM,DEPTNO\n",
    "7369,SMITH,CLERK,7902,17-12-80,800,null,20\n",
    "7499,ALLEN,SALESMAN,7698,20-02-81,1600,300,30\n",
    "7521,WARD,SALESMAN,7698,22-02-81,1250,500,30\n",
    "7566,JONES,MANAGER,7839,04-02-81,2975,null,20\n",
    "7654,MARTIN,SALESMAN,7698,21-09-81,1250,1400,30\n",
    "7698,SGR,MANAGER,7839,05-01-81,2850,null,30\n",
    "7782,RAVI,MANAGER,7839,06-09-81,2450,null,10\n",
    "7788,SCOTT,ANALYST,7566,19-04-87,3000,null,20\n",
    "7839,KING,PRESIDENT,null,01-11-81,5000,null,10\n",
    "7844,TURNER,SALESMAN,7698,09-08-81,1500,0,30\n",
    "7876,ADAMS,CLERK,7788,23-05-87,1100,null,20\n",
    "7900,JAMES,CLERK,7698,12-03-81,950,null,30\n",
    "7902,FORD,ANALYST,7566,12-03-81,3000,null,20\n",
    "7934,MILLER,CLERK,7782,01-03-82,1300,null,10\n",
    "1234,SEKHAR,doctor,7777,31-12-99,667,78,80\"\"\")\n",
    "     "
   ]
  }
 ],
 "metadata": {
  "application/vnd.databricks.v1+notebook": {
   "computePreferences": null,
   "dashboards": [],
   "environmentMetadata": {
    "base_environment": "",
    "environment_version": "2"
   },
   "inputWidgetPreferences": null,
   "language": "python",
   "notebookMetadata": {
    "mostRecentlyExecutedCommandWithImplicitDF": {
     "commandId": 8323024999145476,
     "dataframes": [
      "_sqldf"
     ]
    },
    "pythonIndentUnit": 4
   },
   "notebookName": "Handling Bad Records-techlake",
   "widgets": {}
  },
  "language_info": {
   "name": "python"
  }
 },
 "nbformat": 4,
 "nbformat_minor": 0
}
