{
 "cells": [
  {
   "cell_type": "code",
   "execution_count": 0,
   "metadata": {
    "application/vnd.databricks.v1+cell": {
     "cellMetadata": {
      "byteLimit": 2048000,
      "rowLimit": 10000
     },
     "inputWidgets": {},
     "nuid": "1ba9d9b1-6478-4478-a9d8-7a02adc428b9",
     "showTitle": false,
     "tableResultSettingsMap": {},
     "title": ""
    }
   },
   "outputs": [],
   "source": [
    "from pyspark.sql import SparkSession\n",
    "\n",
    "spark = SparkSession.builder.appName(\"TRANSACTIONS\").getOrCreate()"
   ]
  },
  {
   "cell_type": "code",
   "execution_count": 0,
   "metadata": {
    "application/vnd.databricks.v1+cell": {
     "cellMetadata": {
      "byteLimit": 2048000,
      "rowLimit": 10000
     },
     "inputWidgets": {},
     "nuid": "4e99c911-1bc9-4fdc-b431-31225d0e0d9d",
     "showTitle": false,
     "tableResultSettingsMap": {},
     "title": ""
    }
   },
   "outputs": [],
   "source": [
    "df_trans = spark.read.format(\"csv\").option(\"inferSchema\", True).option(\"header\", True).load(\"/Volumes/dev/bronze/transactions\")\n",
    "df_trans.display()\n",
    "df_trans.printSchema()"
   ]
  },
  {
   "cell_type": "code",
   "execution_count": 0,
   "metadata": {
    "application/vnd.databricks.v1+cell": {
     "cellMetadata": {
      "byteLimit": 2048000,
      "rowLimit": 10000
     },
     "inputWidgets": {},
     "nuid": "f1d3f83f-a3a8-45a5-8c40-0d170927d497",
     "showTitle": false,
     "tableResultSettingsMap": {},
     "title": ""
    }
   },
   "outputs": [],
   "source": [
    "import pandas as pd\n",
    "\n",
    "df_pd = pd.read_csv(\"/Volumes/dev/bronze/transactions/transactions_data.csv\")\n",
    "print(df_pd)"
   ]
  },
  {
   "cell_type": "code",
   "execution_count": 0,
   "metadata": {
    "application/vnd.databricks.v1+cell": {
     "cellMetadata": {
      "byteLimit": 2048000,
      "rowLimit": 10000
     },
     "inputWidgets": {},
     "nuid": "b160f75f-2baa-471e-9126-3913a458c2ba",
     "showTitle": false,
     "tableResultSettingsMap": {},
     "title": ""
    }
   },
   "outputs": [],
   "source": [
    "import pandas as pd\n",
    "from faker import Faker\n",
    "import random\n",
    "\n",
    "# Initialize Faker\n",
    "fake = Faker()\n",
    "\n",
    "# Parameters for data generation\n",
    "num_claims = 10000  # Number of claim records per hospital\n",
    "payors = [\"Medicare\", \"Medicaid\", \"BlueCross\", \"Aetna\", \"UnitedHealthcare\"]\n",
    "claim_statuses = [\"Pending\", \"Approved\", \"Rejected\", \"Paid\", \"Denied\"]\n",
    "payor_types = [\"Government\", \"Private\", \"Self-pay\"]\n",
    "\n",
    "# Generate Hospital 1 claims data\n",
    "hospital1_claims_data = {\n",
    "    \"ClaimID\": [f\"CLAIM{str(i).zfill(6)}\" for i in range(1, num_claims + 1)],\n",
    "    \"TransactionID\": [f\"TRANS{str(random.randint(1, 10000)).zfill(6)}\" for _ in range(num_claims)],\n",
    "    \"PatientID\": [f\"HOSP1-{str(random.randint(1, 5000)).zfill(6)}\" for _ in range(num_claims)],\n",
    "    \"EncounterID\": [f\"ENC{str(random.randint(1, 10000)).zfill(6)}\" for _ in range(num_claims)],\n",
    "    \"ProviderID\": [f\"PROV{str(random.randint(1, 500)).zfill(4)}\" for _ in range(num_claims)],\n",
    "    \"DeptID\": [f\"DEPT{str(random.randint(1, 20)).zfill(3)}\" for _ in range(num_claims)],\n",
    "    \"ServiceDate\": [fake.date_this_year(before_today=True, after_today=False) for _ in range(num_claims)],\n",
    "    \"ClaimDate\": [fake.date_this_year(before_today=True, after_today=False) for _ in range(num_claims)],\n",
    "    \"PayorID\": [random.choice(payors) for _ in range(num_claims)],\n",
    "    \"ClaimAmount\": [round(random.uniform(100, 5000), 2) for _ in range(num_claims)],\n",
    "    \"PaidAmount\": [round(random.uniform(50, 4500), 2) for _ in range(num_claims)],\n",
    "    \"ClaimStatus\": [random.choice(claim_statuses) for _ in range(num_claims)],\n",
    "    \"PayorType\": [random.choice(payor_types) for _ in range(num_claims)],\n",
    "    \"Deductible\": [round(random.uniform(10, 500), 2) for _ in range(num_claims)],\n",
    "    \"Coinsurance\": [round(random.uniform(0, 200), 2) for _ in range(num_claims)],\n",
    "    \"Copay\": [round(random.uniform(5, 50), 2) for _ in range(num_claims)],\n",
    "    \"InsertDate\": [fake.date_this_decade(before_today=True, after_today=False) for _ in range(num_claims)],\n",
    "    \"ModifiedDate\": [fake.date_this_decade(before_today=True, after_today=False) for _ in range(num_claims)]\n",
    "}\n",
    "\n",
    "# Generate Hospital 2 claims data\n",
    "hospital2_claims_data = {\n",
    "    \"ClaimID\": [f\"CLAIM{str(i).zfill(6)}\" for i in range(1, num_claims + 1)],\n",
    "    \"TransactionID\": [f\"TRANS{str(random.randint(1, 10000)).zfill(6)}\" for _ in range(num_claims)],\n",
    "    \"PatientID\": [f\"HOSP1-{str(random.randint(1, 5000)).zfill(6)}\" for _ in range(num_claims)],\n",
    "    \"EncounterID\": [f\"ENC{str(random.randint(1, 10000)).zfill(6)}\" for _ in range(num_claims)],\n",
    "    \"ProviderID\": [f\"PROV{str(random.randint(1, 500)).zfill(4)}\" for _ in range(num_claims)],\n",
    "    \"DeptID\": [f\"DEPT{str(random.randint(1, 20)).zfill(3)}\" for _ in range(num_claims)],\n",
    "    \"ServiceDate\": [fake.date_this_year(before_today=True, after_today=False) for _ in range(num_claims)],\n",
    "    \"ClaimDate\": [fake.date_this_year(before_today=True, after_today=False) for _ in range(num_claims)],\n",
    "    \"PayorID\": [random.choice(payors) for _ in range(num_claims)],\n",
    "    \"ClaimAmount\": [round(random.uniform(100, 5000), 2) for _ in range(num_claims)],\n",
    "    \"PaidAmount\": [round(random.uniform(50, 4500), 2) for _ in range(num_claims)],\n",
    "    \"ClaimStatus\": [random.choice(claim_statuses) for _ in range(num_claims)],\n",
    "    \"PayorType\": [random.choice(payor_types) for _ in range(num_claims)],\n",
    "    \"Deductible\": [round(random.uniform(10, 500), 2) for _ in range(num_claims)],\n",
    "    \"Coinsurance\": [round(random.uniform(0, 200), 2) for _ in range(num_claims)],\n",
    "    \"Copay\": [round(random.uniform(5, 50), 2) for _ in range(num_claims)],\n",
    "    \"InsertDate\": [fake.date_this_decade(before_today=True, after_today=False) for _ in range(num_claims)],\n",
    "    \"ModifiedDate\": [fake.date_this_decade(before_today=True, after_today=False) for _ in range(num_claims)]\n",
    "}\n",
    "\n",
    "# Create DataFrames\n",
    "hospital1_claims_df = pd.DataFrame(hospital1_claims_data)\n",
    "hospital2_claims_df = pd.DataFrame(hospital2_claims_data)\n",
    "\n",
    "# Save to CSV files\n",
    "hospital1_claims_df.to_csv(\"hospital1_claim_data.csv\", index=False)\n",
    "hospital2_claims_df.to_csv(\"hospital2_claim_data.csv\", index=False)\n",
    "\n",
    "print(\"Hospital 1 and Hospital 2 claim datasets created successfully!\")"
   ]
  },
  {
   "cell_type": "code",
   "execution_count": 0,
   "metadata": {
    "application/vnd.databricks.v1+cell": {
     "cellMetadata": {
      "byteLimit": 2048000,
      "rowLimit": 10000
     },
     "inputWidgets": {},
     "nuid": "1e6f486c-075e-4f97-8291-4df59fbe9e83",
     "showTitle": false,
     "tableResultSettingsMap": {},
     "title": ""
    }
   },
   "outputs": [],
   "source": [
    "import pandas as pd\n",
    "from faker import Faker\n",
    "import random\n",
    "\n",
    "# Initialize Faker\n",
    "fake = Faker()\n",
    "\n",
    "# Parameters for data generation\n",
    "num_claims = 10000  # Number of claim records per hospital\n",
    "payors = [\"Medicare\", \"Medicaid\", \"BlueCross\", \"Aetna\", \"UnitedHealthcare\"]\n",
    "claim_statuses = [\"Pending\", \"Approved\", \"Rejected\", \"Paid\", \"Denied\"]\n",
    "payor_types = [\"Government\", \"Private\", \"Self-pay\"]\n",
    "\n",
    "# Generate Hospital 1 claims data\n",
    "hospital1_claims_data = {\n",
    "    \"ClaimID\": [f\"CLAIM{str(i).zfill(6)}\" for i in range(1, num_claims + 1)],\n",
    "    \"TransactionID\": [f\"TRANS{str(random.randint(1, 10000)).zfill(6)}\" for _ in range(num_claims)],\n",
    "    \"PatientID\": [f\"HOSP1-{str(random.randint(1, 5000)).zfill(6)}\" for _ in range(num_claims)],\n",
    "    \"EncounterID\": [f\"ENC{str(random.randint(1, 10000)).zfill(6)}\" for _ in range(num_claims)],\n",
    "    \"ProviderID\": [f\"PROV{str(random.randint(1, 500)).zfill(4)}\" for _ in range(num_claims)],\n",
    "    \"DeptID\": [f\"DEPT{str(random.randint(1, 20)).zfill(3)}\" for _ in range(num_claims)],\n",
    "    \"ServiceDate\": [fake.date_this_year(before_today=True, after_today=False) for _ in range(num_claims)],\n",
    "    \"ClaimDate\": [fake.date_this_year(before_today=True, after_today=False) for _ in range(num_claims)],\n",
    "    \"PayorID\": [random.choice(payors) for _ in range(num_claims)],\n",
    "    \"ClaimAmount\": [round(random.uniform(100, 5000), 2) for _ in range(num_claims)],\n",
    "    \"PaidAmount\": [round(random.uniform(50, 4500), 2) for _ in range(num_claims)],\n",
    "    \"ClaimStatus\": [random.choice(claim_statuses) for _ in range(num_claims)],\n",
    "    \"PayorType\": [random.choice(payor_types) for _ in range(num_claims)],\n",
    "    \"Deductible\": [round(random.uniform(10, 500), 2) for _ in range(num_claims)],\n",
    "    \"Coinsurance\": [round(random.uniform(0, 200), 2) for _ in range(num_claims)],\n",
    "    \"Copay\": [round(random.uniform(5, 50), 2) for _ in range(num_claims)],\n",
    "    \"InsertDate\": [fake.date_this_decade(before_today=True, after_today=False) for _ in range(num_claims)],\n",
    "    \"ModifiedDate\": [fake.date_this_decade(before_today=True, after_today=False) for _ in range(num_claims)]\n",
    "}\n",
    "\n",
    "# Generate Hospital 2 claims data\n",
    "hospital2_claims_data = {\n",
    "    \"ClaimID\": [f\"CLAIM{str(i).zfill(6)}\" for i in range(1, num_claims + 1)],\n",
    "    \"TransactionID\": [f\"TRANS{str(random.randint(1, 10000)).zfill(6)}\" for _ in range(num_claims)],\n",
    "    \"PatientID\": [f\"HOSP1-{str(random.randint(1, 5000)).zfill(6)}\" for _ in range(num_claims)],\n",
    "    \"EncounterID\": [f\"ENC{str(random.randint(1, 10000)).zfill(6)}\" for _ in range(num_claims)],\n",
    "    \"ProviderID\": [f\"PROV{str(random.randint(1, 500)).zfill(4)}\" for _ in range(num_claims)],\n",
    "    \"DeptID\": [f\"DEPT{str(random.randint(1, 20)).zfill(3)}\" for _ in range(num_claims)],\n",
    "    \"ServiceDate\": [fake.date_this_year(before_today=True, after_today=False) for _ in range(num_claims)],\n",
    "    \"ClaimDate\": [fake.date_this_year(before_today=True, after_today=False) for _ in range(num_claims)],\n",
    "    \"PayorID\": [random.choice(payors) for _ in range(num_claims)],\n",
    "    \"ClaimAmount\": [round(random.uniform(100, 5000), 2) for _ in range(num_claims)],\n",
    "    \"PaidAmount\": [round(random.uniform(50, 4500), 2) for _ in range(num_claims)],\n",
    "    \"ClaimStatus\": [random.choice(claim_statuses) for _ in range(num_claims)],\n",
    "    \"PayorType\": [random.choice(payor_types) for _ in range(num_claims)],\n",
    "    \"Deductible\": [round(random.uniform(10, 500), 2) for _ in range(num_claims)],\n",
    "    \"Coinsurance\": [round(random.uniform(0, 200), 2) for _ in range(num_claims)],\n",
    "    \"Copay\": [round(random.uniform(5, 50), 2) for _ in range(num_claims)],\n",
    "    \"InsertDate\": [fake.date_this_decade(before_today=True, after_today=False) for _ in range(num_claims)],\n",
    "    \"ModifiedDate\": [fake.date_this_decade(before_today=True, after_today=False) for _ in range(num_claims)]\n",
    "}\n",
    "\n",
    "# Create DataFrames\n",
    "hospital1_claims_df = pd.DataFrame(hospital1_claims_data)\n",
    "hospital2_claims_df = pd.DataFrame(hospital2_claims_data)\n",
    "\n",
    "# Save to CSV files\n",
    "hospital1_claims_df.to_csv(\"hospital1_claim_data.csv\", index=False)\n",
    "hospital2_claims_df.to_csv(\"hospital2_claim_data.csv\", index=False)\n",
    "\n",
    "print(\"Hospital 1 and Hospital 2 claim datasets created successfully!\")"
   ]
  },
  {
   "cell_type": "code",
   "execution_count": 0,
   "metadata": {
    "application/vnd.databricks.v1+cell": {
     "cellMetadata": {
      "byteLimit": 2048000,
      "rowLimit": 10000
     },
     "inputWidgets": {},
     "nuid": "7f6d01cb-24f5-412c-b159-67176f85b74e",
     "showTitle": false,
     "tableResultSettingsMap": {},
     "title": ""
    }
   },
   "outputs": [],
   "source": [
    "import requests\n",
    "url = \"https://raw.githubusercontent.com/bigdatabysumitm/Trendytech-Azure-Project/refs/heads/main/datasets/claims/hospital1_claim_data.csv\""
   ]
  },
  {
   "cell_type": "code",
   "execution_count": 0,
   "metadata": {
    "application/vnd.databricks.v1+cell": {
     "cellMetadata": {
      "byteLimit": 2048000,
      "rowLimit": 10000
     },
     "inputWidgets": {},
     "nuid": "c9984dfc-f12d-484a-9a79-8544ccb52824",
     "showTitle": false,
     "tableResultSettingsMap": {},
     "title": ""
    }
   },
   "outputs": [],
   "source": [
    "response = requests.get(url)\n",
    "with open(\"hospital1_claim_data.csv\", \"wb\") as file:\n",
    "    file.write(response.content)\n",
    "import pandas as pd\n",
    "df = pd.read_csv(\"hospital1_claim_data.csv\")\n",
    "df_pd = spark.createDataFrame(df)\n",
    "df_pd.write.mode(\"overwrite\").save(\"/Volumes/dev/bronze/transactions/hospital1_claim_data\")"
   ]
  },
  {
   "cell_type": "code",
   "execution_count": 0,
   "metadata": {
    "application/vnd.databricks.v1+cell": {
     "cellMetadata": {
      "byteLimit": 2048000,
      "rowLimit": 10000
     },
     "inputWidgets": {},
     "nuid": "4203cb8f-9f85-4117-81d0-c15478f5540d",
     "showTitle": false,
     "tableResultSettingsMap": {},
     "title": ""
    }
   },
   "outputs": [],
   "source": [
    "print(df_pd.collect())\n",
    "df_pd.display()\n"
   ]
  },
  {
   "cell_type": "code",
   "execution_count": 0,
   "metadata": {
    "application/vnd.databricks.v1+cell": {
     "cellMetadata": {
      "byteLimit": 2048000,
      "rowLimit": 10000
     },
     "inputWidgets": {},
     "nuid": "13fd351a-23f9-4735-a82c-ef9c2c339adf",
     "showTitle": false,
     "tableResultSettingsMap": {},
     "title": ""
    }
   },
   "outputs": [],
   "source": [
    "import requests\n",
    "\n",
    "url = \"https://raw.githubusercontent.com/bigdatabysumitm/Trendytech-Azure-Project/refs/heads/main/datasets/claims/hospital2_claim_data.csv\"\n"
   ]
  },
  {
   "cell_type": "code",
   "execution_count": 0,
   "metadata": {
    "application/vnd.databricks.v1+cell": {
     "cellMetadata": {
      "byteLimit": 2048000,
      "rowLimit": 10000
     },
     "inputWidgets": {},
     "nuid": "57810c7b-2954-4395-8e87-0b50829f066b",
     "showTitle": false,
     "tableResultSettingsMap": {},
     "title": ""
    }
   },
   "outputs": [],
   "source": [
    "response = requests.get(url)\n",
    "\n",
    "with open(\"hospital2_claim_data.csv\",\"wb\") as file:\n",
    "    file.write(response.content)\n",
    "\n",
    "import pandas as pd\n",
    "df_claim2 = pd.read_csv(\"hospital2_claim_data.csv\")\n",
    "df_cl2 = spark.createDataFrame(df_claim2)\n",
    "\n",
    "df_cl2.write.format(\"parquet\").mode('overwrite').save(\"/Volumes/dev/bronze/transactions/hospital2_claim_data\")\n",
    "\n",
    "df_cl2.display()"
   ]
  },
  {
   "cell_type": "code",
   "execution_count": 0,
   "metadata": {
    "application/vnd.databricks.v1+cell": {
     "cellMetadata": {
      "byteLimit": 2048000,
      "rowLimit": 10000
     },
     "inputWidgets": {},
     "nuid": "41e3e8cd-d66d-408a-8742-8dcc341963fe",
     "showTitle": false,
     "tableResultSettingsMap": {},
     "title": ""
    }
   },
   "outputs": [],
   "source": [
    "url = 'https://raw.githubusercontent.com/bigdatabysumitm/Trendytech-Azure-Project/refs/heads/main/datasets/EMR/trendytech-hospital-a/departments.csv'"
   ]
  },
  {
   "cell_type": "code",
   "execution_count": 0,
   "metadata": {
    "application/vnd.databricks.v1+cell": {
     "cellMetadata": {
      "byteLimit": 2048000,
      "rowLimit": 10000
     },
     "inputWidgets": {},
     "nuid": "7958e5c5-e0de-4e2d-b8c0-2f8cf5697793",
     "showTitle": false,
     "tableResultSettingsMap": {},
     "title": ""
    }
   },
   "outputs": [],
   "source": [
    "response = requests.get(url)\n",
    "\n",
    "with open(\"departments.csv\", \"ab\") as file:\n",
    "    file.write(response.content)\n",
    "\n",
    "df_de/Volumes/dev/bronze/transactions/hospital1_claim_data/pt = pd.read_csv(\"departments.csv\")\n",
    "df_dep_pd =spark.createDataFrame(df_dept)\n",
    "#df_dep_pd.write.format(\"parquet\").save(\"/Volumes/dev/bronze/transactions/departments.parquet\")\n",
    "df_dep_pd.display()"
   ]
  },
  {
   "cell_type": "code",
   "execution_count": 0,
   "metadata": {
    "application/vnd.databricks.v1+cell": {
     "cellMetadata": {
      "byteLimit": 2048000,
      "rowLimit": 10000
     },
     "inputWidgets": {},
     "nuid": "6fc6343a-4324-4aa7-ad76-6d1c629df3a7",
     "showTitle": false,
     "tableResultSettingsMap": {},
     "title": ""
    }
   },
   "outputs": [],
   "source": [
    "import requests\n",
    "import pandas as pd\n",
    "import pyarrow as pa\n",
    "from pyspark.sql import SparkSession\n",
    "\n",
    "# Fetch the data\n",
    "response = requests.get(url)\n",
    "\n",
    "# Save the data to a CSV file\n",
    "with open(\"departments.csv\", \"wb\") as file:\n",
    "    file.write(response.content)\n",
    "\n",
    "# Read the CSV file into a pandas DataFrame\n",
    "df_dept = pd.read_csv(\"departments.csv\")\n",
    "\n",
    "df_dep_pd = spark.createDataFrame(df_dept)\n",
    "\n",
    "# Display the Spark DataFrame\n",
    "display(df_dep_pd)"
   ]
  },
  {
   "cell_type": "code",
   "execution_count": 0,
   "metadata": {
    "application/vnd.databricks.v1+cell": {
     "cellMetadata": {
      "byteLimit": 2048000,
      "rowLimit": 10000
     },
     "inputWidgets": {},
     "nuid": "4ae51b5c-434a-42df-9087-70cae19f6b86",
     "showTitle": false,
     "tableResultSettingsMap": {},
     "title": ""
    }
   },
   "outputs": [],
   "source": [
    "url = \"https://raw.githubusercontent.com/bigdatabysumitm/Trendytech-Azure-Project/refs/heads/main/datasets/EMR/trendytech-hospital-a/encounters.csv\""
   ]
  },
  {
   "cell_type": "code",
   "execution_count": 0,
   "metadata": {
    "application/vnd.databricks.v1+cell": {
     "cellMetadata": {
      "byteLimit": 2048000,
      "rowLimit": 10000
     },
     "inputWidgets": {},
     "nuid": "f6e074e3-6f86-46b9-9014-217ff87401a8",
     "showTitle": false,
     "tableResultSettingsMap": {},
     "title": ""
    }
   },
   "outputs": [],
   "source": [
    "response = requests.get(url)\n",
    "with open(\"encounters.csv\", \"wb\") as file:\n",
    "    file.write(response.content)\n",
    "\n",
    "df_encounter_pd = pd.read_csv(\"encounters.csv\")\n",
    "df_encounter = spark.createDataFrame(df_encounter_pd)\n",
    "df_encounter.write.mode(\"overwrite\").save(\"/Volumes/dev/bronze/transactions/encounters.parquet\")\n",
    "df_encounter.display()"
   ]
  },
  {
   "cell_type": "code",
   "execution_count": 0,
   "metadata": {
    "application/vnd.databricks.v1+cell": {
     "cellMetadata": {
      "byteLimit": 2048000,
      "rowLimit": 10000
     },
     "inputWidgets": {},
     "nuid": "54147197-c302-4a87-a70c-bbd3c61a5131",
     "showTitle": false,
     "tableResultSettingsMap": {},
     "title": ""
    }
   },
   "outputs": [],
   "source": [
    "import requests\n",
    "import pandas as pd\n",
    "url =\"https://raw.githubusercontent.com/bigdatabysumitm/Trendytech-Azure-Project/refs/heads/main/datasets/EMR/trendytech-hospital-a/patients.csv\"\n",
    "response = requests.get(url)\n",
    "if response.status_code == 200:\n",
    "    with open(\"patients.csv\", \"wb\") as file:\n",
    "        file.write(response.content)\n",
    "else:\n",
    "    print(f\"Error: {response.status_code}\")\n",
    "df_patients_pd = pd.read_csv(\"patients.csv\")\n",
    "df_patients = spark.createDataFrame(df_patients_pd)\n",
    "df_patients.write.mode(\"overwrite\").save(\"/Volumes/dev/bronze/transactions/patients.parquet\")\n",
    "df_patients.display()"
   ]
  },
  {
   "cell_type": "code",
   "execution_count": 0,
   "metadata": {
    "application/vnd.databricks.v1+cell": {
     "cellMetadata": {
      "byteLimit": 2048000,
      "rowLimit": 10000
     },
     "inputWidgets": {},
     "nuid": "0743e315-300c-464c-a92a-b6dc2d3a06d5",
     "showTitle": false,
     "tableResultSettingsMap": {
      "0": {
       "dataGridStateBlob": "{\"version\":1,\"tableState\":{\"columnPinning\":{\"left\":[\"#row_number#\"],\"right\":[]},\"columnSizing\":{},\"columnVisibility\":{}},\"settings\":{\"columns\":{}},\"syncTimestamp\":1753069825103}",
       "filterBlob": null,
       "queryPlanFiltersBlob": null,
       "tableResultIndex": 0
      }
     },
     "title": ""
    }
   },
   "outputs": [],
   "source": [
    "from pyspark.sql.functions import regexp_replace, regexp_extract\n",
    "\n",
    "df_patients_masked = df_patients.withColumn(\n",
    "    \"ssn\", regexp_replace(\"ssn\", r\"(\\d{3})-(\\d{2})-(\\d{4})\", \"***-**-$3\")\n",
    ").withColumn(\n",
    "    \"phone\", regexp_replace(\"PhoneNumber\", r\"(^\\d{3})-(\\d{3})-(\\d{4})\", \"\")\n",
    ")\n",
    "display(df_patients_masked)"
   ]
  },
  {
   "cell_type": "code",
   "execution_count": 0,
   "metadata": {
    "application/vnd.databricks.v1+cell": {
     "cellMetadata": {
      "byteLimit": 2048000,
      "rowLimit": 10000
     },
     "inputWidgets": {},
     "nuid": "b951e870-a8c1-4210-a7fe-fceb6e514f77",
     "showTitle": false,
     "tableResultSettingsMap": {},
     "title": ""
    }
   },
   "outputs": [],
   "source": [
    "from pyspark.sql.functions import regexp_replace,rlike,lit,col,when\n",
    "\n",
    "df_patients_masked = df_patients.withColumn(\n",
    "    \"ssn\", regexp_replace(\"ssn\", r\"(\\d)-(\\d)-(\\d)\", \"***-**-$3\")\n",
    ").withColumn(\n",
    "    \"phone\", regexp_replace(\"PhoneNumber\", r\"(\\d{3})-(\\d{3})-(\\d{4})\", \"***-***-$3\")\n",
    ")\n",
    "display(df_patients_masked)"
   ]
  },
  {
   "cell_type": "code",
   "execution_count": 0,
   "metadata": {
    "application/vnd.databricks.v1+cell": {
     "cellMetadata": {
      "byteLimit": 2048000,
      "rowLimit": 10000
     },
     "inputWidgets": {},
     "nuid": "78d53f0d-41de-4b00-a58b-719405ab6c19",
     "showTitle": false,
     "tableResultSettingsMap": {},
     "title": ""
    }
   },
   "outputs": [],
   "source": [
    "from pyspark.sql.functions import col, when, lit\n",
    "\n",
    "df_phone = df_patients.withColumn(\n",
    "    \"PHONE\", \n",
    "    when(col(\"PhoneNumber\").rlike(r\"^\\w{12}$\"), col(\"PhoneNumber\"))\n",
    "    .otherwise(lit(None))\n",
    ")\n",
    "\n",
    "display(df_phone)"
   ]
  },
  {
   "cell_type": "code",
   "execution_count": 0,
   "metadata": {
    "application/vnd.databricks.v1+cell": {
     "cellMetadata": {
      "byteLimit": 2048000,
      "rowLimit": 10000
     },
     "inputWidgets": {},
     "nuid": "e6065c3d-1170-462c-9de0-2ecb16d4bd71",
     "showTitle": false,
     "tableResultSettingsMap": {},
     "title": ""
    }
   },
   "outputs": [],
   "source": [
    "df_phone = df_patients.withColumn(\"PHONE\", \n",
    "                                  when(col(\"PhoneNumber\").rlike(r\"^\\d{10}$\")), col(\"PhoneNumber\"))\\\n",
    "                                  .otherwise(lit(None))\n"
   ]
  },
  {
   "cell_type": "code",
   "execution_count": 0,
   "metadata": {
    "application/vnd.databricks.v1+cell": {
     "cellMetadata": {
      "byteLimit": 2048000,
      "rowLimit": 10000
     },
     "inputWidgets": {},
     "nuid": "7cc0b06a-a6fc-427d-89e6-17b6121f5f82",
     "showTitle": false,
     "tableResultSettingsMap": {},
     "title": ""
    }
   },
   "outputs": [],
   "source": [
    "url = \"https://raw.githubusercontent.com/bigdatabysumitm/Trendytech-Azure-Project/refs/heads/main/datasets/EMR/trendytech-hospital-a/providers.csv\"\n",
    "response = requests.get(url)\n",
    "if response.status_code == 200:\n",
    "    with open(\"providers.csv\", \"wb\") as file:\n",
    "        file.write(response.content)\n",
    "else:\n",
    "    print(f\"error: {response.status_code}\")\n",
    "df_providers_pd = pd.read_csv(\"providers.csv\")\n",
    "df_providers = spark.createDataFrame(df_providers_pd)\n",
    "df_providers.write.mode(\"overwrite\").save(\"/Volumes/dev/bronze/transactions/providers.parquet\")\n",
    "df_providers.display()"
   ]
  },
  {
   "cell_type": "code",
   "execution_count": 0,
   "metadata": {
    "application/vnd.databricks.v1+cell": {
     "cellMetadata": {},
     "inputWidgets": {},
     "nuid": "0635cf55-ea65-4d41-95fd-0ecd88ac74c4",
     "showTitle": false,
     "tableResultSettingsMap": {},
     "title": ""
    }
   },
   "outputs": [],
   "source": [
    "url = 'https://raw.githubusercontent.com/bigdatabysumitm/Trendytech-Azure-Project/refs/heads/main/datasets/EMR/trendytech-hospital-a/transactions.csv'"
   ]
  },
  {
   "cell_type": "code",
   "execution_count": 0,
   "metadata": {
    "application/vnd.databricks.v1+cell": {
     "cellMetadata": {
      "byteLimit": 2048000,
      "rowLimit": 10000
     },
     "inputWidgets": {},
     "nuid": "8a09d910-aefa-4273-8327-91beeea9df45",
     "showTitle": false,
     "tableResultSettingsMap": {},
     "title": ""
    }
   },
   "outputs": [],
   "source": [
    "response = requests.get(url)\n",
    "if response.status_code == 200:\n",
    "    with open(\"transactions.csv\", \"wb\") as file:\n",
    "        file.write(response.content)\n",
    "else:\n",
    "    print(f\"Error: {response.status_code}\")\n",
    "df_trans_pd = pd.read_csv(\"transactions.csv\")\n",
    "df_trans = spark.createDataFrame(df_trans_pd)\n",
    "df_trans.write.mode(\"overwrite\").save(\"/Volumes/dev/bronze/transactions/transactions.parquet\")\n",
    "df_trans.display()"
   ]
  },
  {
   "cell_type": "code",
   "execution_count": 0,
   "metadata": {
    "application/vnd.databricks.v1+cell": {
     "cellMetadata": {
      "byteLimit": 2048000,
      "rowLimit": 10000
     },
     "inputWidgets": {},
     "nuid": "8838e3d8-9ab5-4851-953c-1e0b3a4cedf0",
     "showTitle": false,
     "tableResultSettingsMap": {},
     "title": ""
    }
   },
   "outputs": [],
   "source": [
    "url =\"https://raw.githubusercontent.com/bigdatabysumitm/Trendytech-Azure-Project/refs/heads/main/datasets/cptcodes/cptcodes.csv\""
   ]
  },
  {
   "cell_type": "code",
   "execution_count": 0,
   "metadata": {
    "application/vnd.databricks.v1+cell": {
     "cellMetadata": {
      "byteLimit": 2048000,
      "rowLimit": 10000
     },
     "inputWidgets": {},
     "nuid": "991bb284-d21c-4788-a5f0-779e61d608c0",
     "showTitle": false,
     "tableResultSettingsMap": {},
     "title": ""
    }
   },
   "outputs": [],
   "source": [
    "response = requests.get(url)\n",
    "if response.status_code ==200:\n",
    "    with open(\"cptcodes.csv\", \"wb\") as file:\n",
    "        file.write(response.content)\n",
    "else:\n",
    "    print(f\"error: {response.status_code}\")\n",
    "df_cptcodes_pd = pd.read_csv(\"cptcodes.csv\")\n",
    "df_cptcodes = spark.createDataFrame(df_cptcodes_pd)\n",
    "#df_cptcodes.write.mode(\"overwrite\").save(\"/Volumes/dev/bronze/transactions/cptcodes1.csv\")\n",
    "df_cptcodes.display()"
   ]
  },
  {
   "cell_type": "code",
   "execution_count": 0,
   "metadata": {
    "application/vnd.databricks.v1+cell": {
     "cellMetadata": {
      "byteLimit": 2048000,
      "rowLimit": 10000
     },
     "inputWidgets": {},
     "nuid": "b29e2e3f-f147-4077-8764-06eba0dc4250",
     "showTitle": false,
     "tableResultSettingsMap": {},
     "title": ""
    }
   },
   "outputs": [],
   "source": [
    "display(dbutils.fs.ls('/Volumes/dev/bronze/transactions'))"
   ]
  },
  {
   "cell_type": "code",
   "execution_count": 0,
   "metadata": {
    "application/vnd.databricks.v1+cell": {
     "cellMetadata": {
      "byteLimit": 2048000,
      "rowLimit": 10000
     },
     "inputWidgets": {},
     "nuid": "70f32196-b39c-464b-bdc4-71fd8df0e990",
     "showTitle": false,
     "tableResultSettingsMap": {},
     "title": ""
    }
   },
   "outputs": [],
   "source": [
    "dbutils.fs.rm('/Volumes/dev/bronze/transactions/cptcodes.parquet/')"
   ]
  },
  {
   "cell_type": "code",
   "execution_count": 0,
   "metadata": {
    "application/vnd.databricks.v1+cell": {
     "cellMetadata": {
      "byteLimit": 2048000,
      "rowLimit": 10000
     },
     "inputWidgets": {},
     "nuid": "41f471d7-d671-4a42-aea6-0a658191d2fc",
     "showTitle": false,
     "tableResultSettingsMap": {},
     "title": ""
    }
   },
   "outputs": [],
   "source": [
    "cpt_df = spark.read.format(\"csv\").option(\"inferSchema\", \"true\").load(\"/Volumes/dev/bronze/transactions/cptcodes.csv\")\n",
    "cpt_df.display()\n",
    "#cpt_df.write.mode(\"overwrite\").save(\"/Volumes/dev/bronze/transactions/cptcodes.parquet\")"
   ]
  },
  {
   "cell_type": "markdown",
   "metadata": {
    "application/vnd.databricks.v1+cell": {
     "cellMetadata": {},
     "inputWidgets": {},
     "nuid": "80051416-46b9-4816-8f49-12e542c1c470",
     "showTitle": false,
     "tableResultSettingsMap": {},
     "title": ""
    }
   },
   "source": [
    "ALLIGN"
   ]
  },
  {
   "cell_type": "code",
   "execution_count": 0,
   "metadata": {
    "application/vnd.databricks.v1+cell": {
     "cellMetadata": {
      "byteLimit": 2048000,
      "rowLimit": 10000
     },
     "inputWidgets": {},
     "nuid": "da8b2559-81f3-42f8-8ede-f85b9a8e42f5",
     "showTitle": false,
     "tableResultSettingsMap": {},
     "title": ""
    }
   },
   "outputs": [],
   "source": [
    "prov_column = ['ProviderID', 'NPI', 'FirstName', 'LastName', 'Specialization', 'DeptID']"
   ]
  },
  {
   "cell_type": "code",
   "execution_count": 0,
   "metadata": {
    "application/vnd.databricks.v1+cell": {
     "cellMetadata": {
      "byteLimit": 2048000,
      "rowLimit": 10000
     },
     "inputWidgets": {},
     "nuid": "9785c027-7f45-4151-88d0-9a9499383ce3",
     "showTitle": false,
     "tableResultSettingsMap": {},
     "title": ""
    }
   },
   "outputs": [],
   "source": [
    "df_prov_co = df_providers.columns\n",
    "prov_col = list(df_prov_co)\n",
    "print(prov_col)"
   ]
  },
  {
   "cell_type": "code",
   "execution_count": 0,
   "metadata": {
    "application/vnd.databricks.v1+cell": {
     "cellMetadata": {
      "byteLimit": 2048000,
      "rowLimit": 10000
     },
     "inputWidgets": {},
     "nuid": "f6f046b3-2fc0-4463-9261-5106d0c48f16",
     "showTitle": false,
     "tableResultSettingsMap": {},
     "title": ""
    }
   },
   "outputs": [],
   "source": [
    "from pyspark.sql.functions import *\n",
    "from pyspark.sql.types import *"
   ]
  },
  {
   "cell_type": "code",
   "execution_count": 0,
   "metadata": {
    "application/vnd.databricks.v1+cell": {
     "cellMetadata": {
      "byteLimit": 2048000,
      "rowLimit": 10000
     },
     "inputWidgets": {},
     "nuid": "b2a01012-6b9e-4ce1-b31f-be0344aad216",
     "showTitle": false,
     "tableResultSettingsMap": {},
     "title": ""
    }
   },
   "outputs": [],
   "source": [
    "def align(df):\n",
    "  return df.select([col(c) for c in prov_column])"
   ]
  },
  {
   "cell_type": "code",
   "execution_count": 0,
   "metadata": {
    "application/vnd.databricks.v1+cell": {
     "cellMetadata": {
      "byteLimit": 2048000,
      "rowLimit": 10000
     },
     "inputWidgets": {},
     "nuid": "4b591df5-7d1c-439d-93c8-569cb8d8dc2d",
     "showTitle": false,
     "tableResultSettingsMap": {},
     "title": ""
    }
   },
   "outputs": [],
   "source": [
    "df_providers = align(df_providers)\n",
    "df_providers.display()"
   ]
  },
  {
   "cell_type": "code",
   "execution_count": 0,
   "metadata": {
    "application/vnd.databricks.v1+cell": {
     "cellMetadata": {
      "byteLimit": 2048000,
      "rowLimit": 10000
     },
     "inputWidgets": {},
     "nuid": "cab2572a-c7de-45da-aac3-cc59ab632e56",
     "showTitle": false,
     "tableResultSettingsMap": {},
     "title": ""
    }
   },
   "outputs": [],
   "source": [
    "from pyspark.sql import SparkSession\n",
    "spark = SparkSession.builder.appName(\"Spark DataFrames\").getOrCreate()\n",
    "df_claims = spark.read.format(\"delta\").option(\"inferSchema\", \"true\").load(\"/Volumes/dev/bronze/transactions/hospital1_claim_data\")\n",
    "df_claims.display()"
   ]
  },
  {
   "cell_type": "code",
   "execution_count": 0,
   "metadata": {
    "application/vnd.databricks.v1+cell": {
     "cellMetadata": {
      "byteLimit": 2048000,
      "rowLimit": 10000
     },
     "inputWidgets": {},
     "nuid": "4d2b22e6-e383-4d92-b502-debdfb43d459",
     "showTitle": false,
     "tableResultSettingsMap": {},
     "title": ""
    }
   },
   "outputs": [],
   "source": [
    "from pyspark.sql.functions import *\n",
    "from pyspark.sql.types import *"
   ]
  },
  {
   "cell_type": "code",
   "execution_count": 0,
   "metadata": {
    "application/vnd.databricks.v1+cell": {
     "cellMetadata": {
      "byteLimit": 2048000,
      "rowLimit": 10000
     },
     "inputWidgets": {},
     "nuid": "fa226311-7d86-4bc8-9309-3f03d900f2c9",
     "showTitle": false,
     "tableResultSettingsMap": {},
     "title": ""
    }
   },
   "outputs": [],
   "source": [
    "claims_df_year = df_claims.withColumn('year', year(to_date(df_claims.ClaimDate)))\n",
    "claims_df_year.display()"
   ]
  },
  {
   "cell_type": "code",
   "execution_count": 0,
   "metadata": {
    "application/vnd.databricks.v1+cell": {
     "cellMetadata": {
      "byteLimit": 2048000,
      "rowLimit": 10000
     },
     "inputWidgets": {},
     "nuid": "aeb7b00e-959a-4514-ba31-85aeb79a1b83",
     "showTitle": false,
     "tableResultSettingsMap": {},
     "title": ""
    }
   },
   "outputs": [],
   "source": [
    "df_medicaid = df_claims.where((col(\"PayorID\") == \"Medicaid\") & (col(\"ClaimAmount\") >= 3000))\n",
    "\n",
    "df_sum = df_medicaid.groupBy(\"ClaimStatus\").agg(round(sum(\"ClaimAmount\"),2))\n",
    "df_medicaid.display()\n",
    "df_sum.display()"
   ]
  },
  {
   "cell_type": "code",
   "execution_count": 0,
   "metadata": {
    "application/vnd.databricks.v1+cell": {
     "cellMetadata": {
      "byteLimit": 2048000,
      "rowLimit": 10000
     },
     "inputWidgets": {},
     "nuid": "11ebbbcc-1976-42bf-83f1-18158ed03181",
     "showTitle": false,
     "tableResultSettingsMap": {},
     "title": ""
    }
   },
   "outputs": [],
   "source": [
    "par_df = claims_df_year.repartition(\"year\")\n",
    "par_df.write.partitionBy(\"year\").mode(\"overwrite\").saveAsTable(\"dev.bronze.claims\")"
   ]
  },
  {
   "cell_type": "code",
   "execution_count": 0,
   "metadata": {
    "application/vnd.databricks.v1+cell": {
     "cellMetadata": {
      "byteLimit": 2048000,
      "implicitDf": true,
      "rowLimit": 10000
     },
     "inputWidgets": {},
     "nuid": "38f22d64-997d-4526-a81d-7d8316fd63d2",
     "showTitle": false,
     "tableResultSettingsMap": {},
     "title": ""
    }
   },
   "outputs": [],
   "source": [
    "%sql\n",
    "SELECT * FROM dev.bronze.claims"
   ]
  },
  {
   "cell_type": "code",
   "execution_count": 0,
   "metadata": {
    "application/vnd.databricks.v1+cell": {
     "cellMetadata": {
      "byteLimit": 2048000,
      "rowLimit": 10000
     },
     "inputWidgets": {},
     "nuid": "ccc338ec-ecdd-4584-b818-97a9aa43ee93",
     "showTitle": false,
     "tableResultSettingsMap": {},
     "title": ""
    }
   },
   "outputs": [],
   "source": [
    "mod_year = df_claims.withColumn(\"year_mod\", year(to_date(\"ModifiedDate\")))\n",
    "mod_year.display()"
   ]
  },
  {
   "cell_type": "code",
   "execution_count": 0,
   "metadata": {
    "application/vnd.databricks.v1+cell": {
     "cellMetadata": {
      "byteLimit": 2048000,
      "rowLimit": 10000
     },
     "inputWidgets": {},
     "nuid": "25ce8b36-10ea-4586-953a-64b83a451c49",
     "showTitle": false,
     "tableResultSettingsMap": {},
     "title": ""
    }
   },
   "outputs": [],
   "source": [
    "mod_year.write.partitionBy(\"year_mod\").mode(\"overwrite\").saveAsTable('dev.bronze.mod_claims')"
   ]
  },
  {
   "cell_type": "code",
   "execution_count": 0,
   "metadata": {
    "application/vnd.databricks.v1+cell": {
     "cellMetadata": {
      "byteLimit": 2048000,
      "implicitDf": true,
      "rowLimit": 10000
     },
     "inputWidgets": {},
     "nuid": "5051c4d5-551e-4731-9a66-120643a55efb",
     "showTitle": false,
     "tableResultSettingsMap": {},
     "title": ""
    }
   },
   "outputs": [],
   "source": [
    "%sql\n",
    "SELECT * FROM dev.bronze.mod_claims "
   ]
  },
  {
   "cell_type": "code",
   "execution_count": 0,
   "metadata": {
    "application/vnd.databricks.v1+cell": {
     "cellMetadata": {
      "byteLimit": 2048000,
      "implicitDf": true,
      "rowLimit": 10000
     },
     "inputWidgets": {},
     "nuid": "f88ac952-6dc4-4881-a5ec-2ea99e0d888e",
     "showTitle": false,
     "tableResultSettingsMap": {
      "0": {
       "dataGridStateBlob": "{\"version\":1,\"tableState\":{\"columnPinning\":{\"left\":[\"#row_number#\"],\"right\":[]},\"columnSizing\":{},\"columnVisibility\":{}},\"settings\":{\"columns\":{}},\"syncTimestamp\":1753055732454}",
       "filterBlob": "{\"version\":1,\"filterGroups\":[{\"enabled\":true,\"filterGroupId\":\"fg_544cc184\",\"op\":\"OR\",\"filters\":[{\"filterId\":\"f_5c80d298\",\"enabled\":true,\"columnId\":\"PayorID\",\"dataType\":\"string\",\"filterType\":\"oneof\",\"filterValues\":[\"Medicare\"],\"filterConfig\":{\"caseSensitive\":true}}],\"local\":false,\"updatedAt\":1753055890511}],\"syncTimestamp\":1753055890511}",
       "queryPlanFiltersBlob": "[{\"kind\":\"call\",\"function\":\"or\",\"args\":[{\"kind\":\"call\",\"function\":\"in\",\"args\":[{\"kind\":\"identifier\",\"identifier\":\"PayorID\"},{\"kind\":\"literal\",\"value\":\"Medicare\",\"type\":\"string\"}]}]}]",
       "tableResultIndex": 0
      }
     },
     "title": ""
    }
   },
   "outputs": [],
   "source": [
    "%sql\n",
    "SELECT * FROM dev.bronze.mod_claims WHERE CLAIMID == 'CLAIM000001' ORDER BY ClaimID;\n",
    "\n",
    "UPDATE dev.bronze.mod_claims SET PayorID = 'medicare' WHERE ClaimID == 'CLAIM000001';\n",
    "\n",
    "SELECT * FROM dev.bronze.mod_claims WHERE PayorID = 'medicare';\n"
   ]
  },
  {
   "cell_type": "code",
   "execution_count": 0,
   "metadata": {
    "application/vnd.databricks.v1+cell": {
     "cellMetadata": {
      "byteLimit": 2048000,
      "implicitDf": true,
      "rowLimit": 10000
     },
     "inputWidgets": {},
     "nuid": "5470dad0-6b94-49b2-960d-7bae9508f2a2",
     "showTitle": false,
     "tableResultSettingsMap": {},
     "title": ""
    }
   },
   "outputs": [],
   "source": [
    "%sql\n",
    "UPDATE dev.bronze.mod_claims SET PayorID = 'medicare' WHERE ClaimID == 'CLAIM000001';"
   ]
  },
  {
   "cell_type": "code",
   "execution_count": 0,
   "metadata": {
    "application/vnd.databricks.v1+cell": {
     "cellMetadata": {
      "byteLimit": 2048000,
      "implicitDf": true,
      "rowLimit": 10000
     },
     "inputWidgets": {},
     "nuid": "050aa27e-f573-43d4-9fa5-e9701f56f8fb",
     "showTitle": false,
     "tableResultSettingsMap": {},
     "title": ""
    }
   },
   "outputs": [],
   "source": [
    "%sql\n",
    "\n",
    "SELECT * FROM dev.bronze.mod_claims WHERE PayorID = 'medicare';\n"
   ]
  },
  {
   "cell_type": "code",
   "execution_count": 0,
   "metadata": {
    "application/vnd.databricks.v1+cell": {
     "cellMetadata": {
      "byteLimit": 2048000,
      "implicitDf": true,
      "rowLimit": 10000
     },
     "inputWidgets": {},
     "nuid": "67f22802-c996-4774-a289-af123af25bab",
     "showTitle": false,
     "tableResultSettingsMap": {
      "0": {
       "dataGridStateBlob": "{\"version\":1,\"tableState\":{\"columnPinning\":{\"left\":[\"#row_number#\"],\"right\":[]},\"columnSizing\":{},\"columnVisibility\":{}},\"settings\":{\"columns\":{}},\"syncTimestamp\":1753056285894}",
       "filterBlob": "{\"version\":1,\"filterGroups\":[{\"enabled\":true,\"filterGroupId\":\"fg_9c9e3678\",\"op\":\"OR\",\"filters\":[{\"filterId\":\"f_f36d6bfc\",\"enabled\":true,\"columnId\":\"ClaimID\",\"dataType\":\"string\",\"filterType\":\"oneof\"}],\"local\":false,\"updatedAt\":1753056491594}],\"syncTimestamp\":1753056491594}",
       "queryPlanFiltersBlob": "[]",
       "tableResultIndex": 0
      }
     },
     "title": ""
    }
   },
   "outputs": [],
   "source": [
    "%sql\n",
    "SELECT * FROM dev.bronze.mod_claims VERSION AS OF 4"
   ]
  },
  {
   "cell_type": "code",
   "execution_count": 0,
   "metadata": {
    "application/vnd.databricks.v1+cell": {
     "cellMetadata": {},
     "inputWidgets": {},
     "nuid": "31fa715d-ab28-4eee-91b8-dd3724484b32",
     "showTitle": false,
     "tableResultSettingsMap": {},
     "title": ""
    }
   },
   "outputs": [],
   "source": []
  }
 ],
 "metadata": {
  "application/vnd.databricks.v1+notebook": {
   "computePreferences": null,
   "dashboards": [],
   "environmentMetadata": {
    "base_environment": "",
    "environment_version": "2"
   },
   "inputWidgetPreferences": null,
   "language": "python",
   "notebookMetadata": {
    "mostRecentlyExecutedCommandWithImplicitDF": {
     "commandId": 6270855254895704,
     "dataframes": [
      "_sqldf"
     ]
    },
    "pythonIndentUnit": 4
   },
   "notebookName": "TRANSACTION_BRONZE",
   "widgets": {}
  },
  "language_info": {
   "name": "python"
  }
 },
 "nbformat": 4,
 "nbformat_minor": 0
}
