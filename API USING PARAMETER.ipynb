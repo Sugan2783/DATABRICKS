{
 "cells": [
  {
   "cell_type": "code",
   "execution_count": 0,
   "metadata": {
    "application/vnd.databricks.v1+cell": {
     "cellMetadata": {
      "byteLimit": 2048000,
      "rowLimit": 10000
     },
     "inputWidgets": {},
     "nuid": "93dd1b7f-a059-45c7-80d8-b234dd5d97e2",
     "showTitle": false,
     "tableResultSettingsMap": {},
     "title": ""
    }
   },
   "outputs": [],
   "source": [
    "import requests\n",
    "import pandas as pd"
   ]
  },
  {
   "cell_type": "code",
   "execution_count": 0,
   "metadata": {
    "application/vnd.databricks.v1+cell": {
     "cellMetadata": {
      "byteLimit": 2048000,
      "rowLimit": 10000
     },
     "inputWidgets": {},
     "nuid": "608515d3-b65c-4954-bf8f-c5f1bcc2f098",
     "showTitle": false,
     "tableResultSettingsMap": {},
     "title": ""
    }
   },
   "outputs": [],
   "source": [
    "url = 'https://raw.githubusercontent.com/Sugan2783/DATABRICKS/refs/heads/main/encounters.csv'"
   ]
  },
  {
   "cell_type": "code",
   "execution_count": 0,
   "metadata": {
    "application/vnd.databricks.v1+cell": {
     "cellMetadata": {
      "byteLimit": 2048000,
      "rowLimit": 10000
     },
     "inputWidgets": {},
     "nuid": "553124b0-97b3-4f3e-bec9-758e78cc71d8",
     "showTitle": false,
     "tableResultSettingsMap": {},
     "title": ""
    }
   },
   "outputs": [],
   "source": [
    "response = requests.get(url) \n",
    "if response.status_code == 200:   \n",
    "    with open(\"encounters.csv\", \"wb\") as file:\n",
    "        file.write(response.content)\n",
    "    print(\"File downloaded successfully.\")\n",
    "else:\n",
    "    print(\"Failed to download the file.\")   \n",
    "\n",
    "df_encount =  spark.createDataFrame(pd.read_csv(\"encounters.csv\"))\n",
    "df_encount.display()"
   ]
  },
  {
   "cell_type": "code",
   "execution_count": 0,
   "metadata": {
    "application/vnd.databricks.v1+cell": {
     "cellMetadata": {
      "byteLimit": 2048000,
      "rowLimit": 10000
     },
     "inputWidgets": {},
     "nuid": "64a5d111-219f-46a5-ba51-4a3053acd570",
     "showTitle": false,
     "tableResultSettingsMap": {},
     "title": ""
    }
   },
   "outputs": [],
   "source": [
    "df_id = list(df_encount.select(\"EncounterID\").toPandas()[\"EncounterID\"])\n",
    "print(df_id)\n",
    "print(len(df_id))\n"
   ]
  },
  {
   "cell_type": "code",
   "execution_count": 0,
   "metadata": {
    "application/vnd.databricks.v1+cell": {
     "cellMetadata": {
      "byteLimit": 2048000,
      "rowLimit": 10000
     },
     "inputWidgets": {},
     "nuid": "5f8e90cb-22cd-46f0-b389-45325582f275",
     "showTitle": false,
     "tableResultSettingsMap": {},
     "title": ""
    }
   },
   "outputs": [],
   "source": [
    "base_url = \"https://raw.githubusercontent.com/Sugan2783/DATABRICKS/refs/heads/main/encounters.csv\""
   ]
  },
  {
   "cell_type": "code",
   "execution_count": 0,
   "metadata": {
    "application/vnd.databricks.v1+cell": {
     "cellMetadata": {
      "byteLimit": 2048000,
      "rowLimit": 10000
     },
     "inputWidgets": {},
     "nuid": "bab886bb-5970-4ecd-a427-6dd518c5f5ff",
     "showTitle": false,
     "tableResultSettingsMap": {},
     "title": ""
    }
   },
   "outputs": [],
   "source": [
    "def encounter_data():\n",
    "    response_api = []\n",
    "    for encnt in df_id:\n",
    "        response = requests.get(f'{base_url}')\n",
    "        if response.status_code == 200:\n",
    "            df = pd.read_csv(pd.compat.StringIO(response.text))\n",
    "            encounter_row = df[df['EncounterID'] == encnt]\n",
    "            if not encounter_row.empty:\n",
    "                response_api.append(encounter_row)\n",
    "            else:\n",
    "                print(f\"EncounterID {encnt} not found.\")\n",
    "        else:\n",
    "            print(f\"Failed to download the file for {encnt}.\")\n",
    "        break\n",
    "    return response_api\n",
    "\n",
    "response_api = encounter_data()\n",
    "if response_api:\n",
    "    display(spark.createDataFrame(pd.concat(response_api)))"
   ]
  },
  {
   "cell_type": "code",
   "execution_count": 0,
   "metadata": {
    "application/vnd.databricks.v1+cell": {
     "cellMetadata": {},
     "inputWidgets": {},
     "nuid": "b0720a0f-fa51-48b0-8feb-211f60a8aab7",
     "showTitle": false,
     "tableResultSettingsMap": {},
     "title": ""
    }
   },
   "outputs": [],
   "source": [
    "def encounter_data():\n",
    "    response_api = []\n",
    "    for encnt in df_id:\n",
    "        response = requests.get(f'{base_url}/{encnt}')\n",
    "        if response.status_code == 200:\n",
    "            response_api.append(response.content)\n",
    "        else:\n",
    "            print(f\"Failed to download the file for {encnt}.\")\n",
    "        break\n",
    "    return response_api\n",
    "response_api = encounter_data()"
   ]
  },
  {
   "cell_type": "code",
   "execution_count": 0,
   "metadata": {
    "application/vnd.databricks.v1+cell": {
     "cellMetadata": {
      "byteLimit": 2048000,
      "rowLimit": 10000
     },
     "inputWidgets": {},
     "nuid": "16ab0458-ea71-41c5-aa45-557e7b1e57d7",
     "showTitle": false,
     "tableResultSettingsMap": {},
     "title": ""
    }
   },
   "outputs": [],
   "source": [
    "import io\n",
    "\n",
    "def encounter_data():\n",
    "    response_api = []\n",
    "    for encnt in df_id:\n",
    "        response = requests.get(f'{base_url}')\n",
    "        if response.status_code == 200:\n",
    "            df = pd.read_csv(io.StringIO(response.text))\n",
    "            encounter_row = df[df['EncounterID'] == encnt]\n",
    "            if not encounter_row.empty:\n",
    "                response_api.append(encounter_row)\n",
    "            else:\n",
    "                print(f\"EncounterID {encnt} not found.\")\n",
    "        else:\n",
    "            print(f\"Failed to download the file for {encnt}.\")\n",
    "        break\n",
    "    return response_api\n",
    "\n",
    "response_api = encounter_data()\n",
    "if response_api:\n",
    "    display(spark.createDataFrame(pd.concat(response_api)))"
   ]
  }
 ],
 "metadata": {
  "application/vnd.databricks.v1+notebook": {
   "computePreferences": null,
   "dashboards": [],
   "environmentMetadata": {
    "base_environment": "",
    "environment_version": "2"
   },
   "inputWidgetPreferences": null,
   "language": "python",
   "notebookMetadata": {
    "pythonIndentUnit": 4
   },
   "notebookName": "API USING PARAMETER",
   "widgets": {}
  },
  "language_info": {
   "name": "python"
  }
 },
 "nbformat": 4,
 "nbformat_minor": 0
}
