{
 "cells": [
  {
   "cell_type": "code",
   "execution_count": 0,
   "metadata": {
    "application/vnd.databricks.v1+cell": {
     "cellMetadata": {
      "byteLimit": 2048000,
      "rowLimit": 10000
     },
     "inputWidgets": {},
     "nuid": "50df9664-5539-4453-81f9-fe6faa9efeb3",
     "showTitle": false,
     "tableResultSettingsMap": {},
     "title": ""
    }
   },
   "outputs": [],
   "source": [
    "%python\n",
    "from pyspark.sql import SparkSession\n",
    "from pyspark.sql.functions import col, lit, current_date, expr\n",
    "from pyspark.sql.window import Window\n",
    "\n",
    "# Initialize Spark Session\n",
    "spark = SparkSession.builder.appName(\"SCD2_Dimension_Load\").getOrCreate()\n",
    "\n",
    "# Sample Source Data\n",
    "df_source = spark.createDataFrame([\n",
    "    (1, \"Alice\", \"HR\", \"2024-02-01\"),\n",
    "    (2, \"Bob\", \"IT\", \"2024-02-01\"),\n",
    "    (3, \"Charlie\", \"Finance\", \"2024-02-01\"),\n",
    "    (4, \"DAVID\", \"HR\", \"2024-02-01\"),\n",
    "], [\"id\", \"name\", \"department\", \"effective_date\"])\n",
    "\n",
    "# Sample Target Data (Existing Dimension Table)\n",
    "df_target = spark.createDataFrame([\n",
    "    (1, \"Alice\", \"Finance\", \"2023-01-01\", \"9999-12-31\", \"Y\"),\n",
    "    (2, \"Bob\", \"IT\", \"2023-06-01\", \"9999-12-31\", \"Y\"),\n",
    "    (3, \"Charlie\", \"Finance\", \"2023-07-01\", \"9999-12-31\", \"Y\"),\n",
    "], [\"id\", \"name\", \"department\", \"start_date\", \"end_date\", \"current_flag\"])\n",
    "\n",
    "df_source.show()\n",
    "df_target.show()\n",
    "\n",
    "# Step 1: Identify new and changed records\n",
    "joined_df = df_source.alias(\"src\").join(\n",
    "    df_target.alias(\"tgt\"), \"id\", \"left_outer\"\n",
    ").select(\n",
    "    col(\"src.id\"), col(\"src.name\"), col(\"src.department\"), col(\"src.effective_date\"),\n",
    "    col(\"tgt.id\").alias(\"existing_id\"),col(\"tgt.department\"),\n",
    "    col(\"tgt.start_date\"), col(\"tgt.end_date\"), col(\"tgt.current_flag\")\n",
    ")\n",
    "joined_df.show()\n",
    "\n",
    "# Step 2: Filter records that have changed -- (insert records)\n",
    "changed_records = joined_df.filter(\n",
    "    (col(\"existing_id\").isNotNull()) & (col(\"src.department\") != col(\"tgt.department\")) \n",
    ")\n",
    "\n",
    "# Step 3: Close out old records (inner join but display only the records from left table)\n",
    "updated_target = df_target.join(\n",
    "    changed_records.select(\"id\"), \"id\", \"left_semi\"\n",
    ").withColumn(\"end_date\", current_date()).withColumn(\"current_flag\", lit(\"N\"))\n",
    "\n",
    "\n",
    "# Step 4: Insert new versions of changed records\n",
    "new_versions = changed_records.withColumn(\"start_date\", col(\"effective_date\"))\\\n",
    "                .withColumn(\"end_date\", lit(\"9999-12-31\"))\\\n",
    "                .withColumn(\"current_flag\", lit(\"Y\"))\n",
    "new_versions.show()\n",
    "\n",
    "# Step 5: Identify new records\n",
    "new_records = joined_df.filter(col(\"existing_id\").isNull())\\\n",
    "                .withColumn(\"start_date\", col(\"effective_date\"))\\\n",
    "                .withColumn(\"end_date\", lit(\"9999-12-31\"))\\\n",
    "                .withColumn(\"current_flag\", lit(\"Y\"))\n",
    "new_records.show()\n",
    "\n",
    "# Step 6: Extract unchanged records\n",
    "unchanged_records = df_target.join(\n",
    "    changed_records.select(\"id\"), \"id\", \"left_anti\"\n",
    ").join(\n",
    "    new_records.select(\"id\"), \"id\", \"left_anti\"\n",
    ")\n",
    "#selecting the records that is not in both changed_records and new_records using anti join\n",
    "unchanged_records.show()\n",
    "\n",
    "# Step 7: Prepare final dimension table\n",
    "final_target = updated_target.union(new_versions.select(\"id\", \"name\", \"src.department\", \"start_date\", \"end_date\", \"current_flag\"))#upd, upd_ins\n",
    "final_target = final_target.union(new_records.select(\"id\", \"name\", \"src.department\", \"start_date\", \"end_date\", \"current_flag\"))#upd, upd_ins,ins\n",
    "final_target = final_target.union(unchanged_records)#no change records\n",
    "# Show final output\n",
    "final_target.show() #final target"
   ]
  }
 ],
 "metadata": {
  "application/vnd.databricks.v1+notebook": {
   "computePreferences": {
    "hardware": {
     "accelerator": null,
     "gpuPoolId": null,
     "memory": null
    }
   },
   "dashboards": [],
   "environmentMetadata": {
    "base_environment": "",
    "environment_version": "2"
   },
   "inputWidgetPreferences": null,
   "language": "sql",
   "notebookMetadata": {
    "pythonIndentUnit": 4
   },
   "notebookName": "SCD2_DP",
   "widgets": {}
  },
  "language_info": {
   "name": "sql"
  }
 },
 "nbformat": 4,
 "nbformat_minor": 0
}
