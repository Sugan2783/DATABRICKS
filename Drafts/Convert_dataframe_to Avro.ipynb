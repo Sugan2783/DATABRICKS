{
 "cells": [
  {
   "cell_type": "code",
   "execution_count": 0,
   "metadata": {
    "application/vnd.databricks.v1+cell": {
     "cellMetadata": {
      "byteLimit": 2048000,
      "rowLimit": 10000
     },
     "inputWidgets": {},
     "nuid": "1aaf393d-6d41-4807-8a6f-061ba4adca7b",
     "showTitle": false,
     "tableResultSettingsMap": {},
     "title": ""
    }
   },
   "outputs": [],
   "source": [
    "%fs ls /Volumes/workspace/default/emp/EMP_FF_SRC.txt"
   ]
  },
  {
   "cell_type": "code",
   "execution_count": 0,
   "metadata": {
    "application/vnd.databricks.v1+cell": {
     "cellMetadata": {
      "byteLimit": 2048000,
      "rowLimit": 10000
     },
     "inputWidgets": {},
     "nuid": "3264d20b-5720-43d1-993e-895cc1a87ba7",
     "showTitle": false,
     "tableResultSettingsMap": {
      "0": {
       "dataGridStateBlob": "{\"version\":1,\"tableState\":{\"columnPinning\":{\"left\":[\"#row_number#\"],\"right\":[]},\"columnSizing\":{},\"columnVisibility\":{}},\"settings\":{\"columns\":{}},\"syncTimestamp\":1752512664033}",
       "filterBlob": null,
       "queryPlanFiltersBlob": null,
       "tableResultIndex": 0
      }
     },
     "title": ""
    }
   },
   "outputs": [],
   "source": [
    "df_emp = spark.read.format(\"csv\").option(\"inferSchema\",True).option(\"header\",True).option(\"delimiter\",\"|\").load('/Volumes/workspace/default/emp/EMP_FF_SRC.txt')\n",
    "df_emp.display()"
   ]
  },
  {
   "cell_type": "code",
   "execution_count": 0,
   "metadata": {
    "application/vnd.databricks.v1+cell": {
     "cellMetadata": {
      "byteLimit": 2048000,
      "rowLimit": 10000
     },
     "inputWidgets": {},
     "nuid": "c7bfde1e-a513-4047-bb18-ceec7bb3ac6c",
     "showTitle": false,
     "tableResultSettingsMap": {},
     "title": ""
    }
   },
   "outputs": [],
   "source": [
    "from pyspark.sql.functions import *\n",
    "from pyspark.sql.types import *\n",
    "from pyspark.sql.avro.functions import to_avro, from_avro\n"
   ]
  },
  {
   "cell_type": "code",
   "execution_count": 0,
   "metadata": {
    "application/vnd.databricks.v1+cell": {
     "cellMetadata": {
      "byteLimit": 2048000,
      "rowLimit": 10000
     },
     "inputWidgets": {},
     "nuid": "8f4076ae-8eaa-4d3b-b944-906e9bd5dbcc",
     "showTitle": false,
     "tableResultSettingsMap": {},
     "title": ""
    }
   },
   "outputs": [],
   "source": [
    "# Set the required Spark configuration property\n",
    "spark.conf.set(\"spark.databricks.sql.avro.pythonAvroTypecheck.enabled\", \"true\")\n",
    "\n",
    "# Your original code\n",
    "df_emp_avro = df_emp.withColumn(\"Name_avro\", to_avro(col(\"FIRST_NAME\")))\n",
    "df_emp_avro_all = df_emp.withColumn(\"all_col\", to_avro(struct(\"*\")))\n",
    "\n",
    "df_emp_avro.display()\n",
    "df_emp_avro_all.display()"
   ]
  },
  {
   "cell_type": "code",
   "execution_count": 0,
   "metadata": {
    "application/vnd.databricks.v1+cell": {
     "cellMetadata": {
      "byteLimit": 2048000,
      "rowLimit": 10000
     },
     "inputWidgets": {},
     "nuid": "0112da83-56d1-421e-8b7b-87ab77c3f44b",
     "showTitle": false,
     "tableResultSettingsMap": {},
     "title": ""
    }
   },
   "outputs": [],
   "source": [
    "#df_emp_avro.write.format(\"avro\").save(\"/Volumes/workspace/default/emp/AVRO/EMP_AVRO_SRC.avro\")\n",
    "df_emp_avro_all.write.format(\"avro\").save(\"/Volumes/workspace/default/emp/AVRO_all/EMP_AVRO_ALL_SRC.avro\")"
   ]
  },
  {
   "cell_type": "code",
   "execution_count": 0,
   "metadata": {
    "application/vnd.databricks.v1+cell": {
     "cellMetadata": {
      "byteLimit": 2048000,
      "rowLimit": 10000
     },
     "inputWidgets": {},
     "nuid": "2e352983-2159-462c-91d1-142fdd9633fa",
     "showTitle": false,
     "tableResultSettingsMap": {},
     "title": ""
    }
   },
   "outputs": [],
   "source": [
    "df_emp_avro = spark.read.format(\"avro\").load(\"/Volumes/workspace/default/emp/AVRO/EMP_AVRO_SRC.avro\")\n",
    "df_emp_avro_all = spark.read.format(\"avro\").load(\"/Volumes/workspace/default/emp/AVRO_all/EMP_AVRO_ALL_SRC.avro\")"
   ]
  },
  {
   "cell_type": "code",
   "execution_count": 0,
   "metadata": {
    "application/vnd.databricks.v1+cell": {
     "cellMetadata": {
      "byteLimit": 2048000,
      "rowLimit": 10000
     },
     "inputWidgets": {},
     "nuid": "5c374084-01e3-4be8-89e6-ecab8d7fa88b",
     "showTitle": false,
     "tableResultSettingsMap": {},
     "title": ""
    }
   },
   "outputs": [],
   "source": [
    "df_emp_avro.display()\n",
    "df_emp_avro_all.display()\n",
    "df_emp_avro.select(from_avro(col(\"Name_avro\"), \"string\")).display()"
   ]
  }
 ],
 "metadata": {
  "application/vnd.databricks.v1+notebook": {
   "computePreferences": null,
   "dashboards": [],
   "environmentMetadata": {
    "base_environment": "",
    "environment_version": "2"
   },
   "inputWidgetPreferences": null,
   "language": "python",
   "notebookMetadata": {
    "mostRecentlyExecutedCommandWithImplicitDF": {
     "commandId": 7758208558004309,
     "dataframes": [
      "_sqldf"
     ]
    },
    "pythonIndentUnit": 4
   },
   "notebookName": "Convert_dataframe_to Avro",
   "widgets": {}
  },
  "language_info": {
   "name": "python"
  }
 },
 "nbformat": 4,
 "nbformat_minor": 0
}
