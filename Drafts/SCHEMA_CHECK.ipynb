{
 "cells": [
  {
   "cell_type": "code",
   "execution_count": 0,
   "metadata": {
    "application/vnd.databricks.v1+cell": {
     "cellMetadata": {
      "byteLimit": 2048000,
      "rowLimit": 10000
     },
     "inputWidgets": {},
     "nuid": "26027289-9ab3-40d3-8992-e4af27ba6d74",
     "showTitle": false,
     "tableResultSettingsMap": {},
     "title": ""
    }
   },
   "outputs": [],
   "source": [
    "from pyspark.sql.functions import *\n",
    "from pyspark.sql.types import *\n",
    "\n",
    "# expected_cols = [\"patient_id\", \"gender\", \"age\", \"department\", \"admission_time\", \"discharge_time\", \"bed_id\", \"hospital_id\"]\n",
    "# clean_df = [\"patient_id\", \"gender\", \"age\", \"department\", \"admission_time\", \"discharge_time\", \"bed_id\", \"hospital_id\"]\n",
    "\n",
    "def schema_check():\n",
    "    clean_df = [\"patient_id\", \"gender\", \"age\", \"department\", \"admission_time\", \"discharge_time\", \"bed_id\", \"hospital_id\"]\n",
    "    expected_cols = [\"patient_id\", \"gender\", \"age\", \"department\", \"admission_time\", \"discharge_time\", \"bed_id\", \"hospital_id\",\"newloc\"]\n",
    "    for col_name in expected_cols:\n",
    "        if col_name not in clean_df:\n",
    "            clean_df_new = clean_df.withColumn(col_name, lit(None))\n",
    "            print(\"schema matched\")\n",
    "        else:\n",
    "            print(\"schema not matched\")\n",
    "        break\n",
    "\n",
    "schema_check()\n",
    "\n",
    "#display(clean_df_new)"
   ]
  },
  {
   "cell_type": "code",
   "execution_count": 0,
   "metadata": {
    "application/vnd.databricks.v1+cell": {
     "cellMetadata": {
      "byteLimit": 2048000,
      "rowLimit": 10000
     },
     "inputWidgets": {},
     "nuid": "a8346bdc-a434-43c3-90c9-b095661b0d7b",
     "showTitle": false,
     "tableResultSettingsMap": {},
     "title": ""
    }
   },
   "outputs": [],
   "source": [
    "from pyspark.sql.functions import lit\n",
    "from pyspark.sql import SparkSession\n",
    "\n",
    "# Initialize Spark session\n",
    "spark = SparkSession.builder.appName(\"SchemaCheck\").getOrCreate()\n",
    "\n",
    "# Sample DataFrame creation for demonstration\n",
    "data = [\n",
    "    (1, \"M\", 25, \"Cardiology\", \"2023-01-01 10:00:00\", \"2023-01-05 10:00:00\", 101, 1),\n",
    "    (2, \"F\", 30, \"Neurology\", \"2023-01-02 11:00:00\", \"2023-01-06 11:00:00\", 102, 1)\n",
    "]\n",
    "columns = [\"patient_id\", \"gender\", \"age\", \"department\", \"admission_time\", \"discharge_time\", \"bed_id\", \"hospital_id\"]\n",
    "clean_df = spark.createDataFrame(data, columns)\n",
    "\n",
    "def schema_check(df):\n",
    "    expected_cols = [\"patient_id\", \"gender\", \"age\", \"department\", \"admission_time\", \"discharge_time\", \"bed_id\", \"hospital_id\", \"newloc\"]\n",
    "    for col_name in expected_cols:\n",
    "        if col_name not in df.columns:\n",
    "            df = df.withColumn(col_name, lit(None))\n",
    "    return df\n",
    "\n",
    "clean_df_new = schema_check(clean_df)\n",
    "display(clean_df_new)"
   ]
  }
 ],
 "metadata": {
  "application/vnd.databricks.v1+notebook": {
   "computePreferences": {
    "hardware": {
     "accelerator": null,
     "gpuPoolId": null,
     "memory": null
    }
   },
   "dashboards": [],
   "environmentMetadata": {
    "base_environment": "",
    "environment_version": "3"
   },
   "inputWidgetPreferences": null,
   "language": "python",
   "notebookMetadata": {
    "pythonIndentUnit": 4
   },
   "notebookName": "SCHEMA_CHECK",
   "widgets": {}
  },
  "language_info": {
   "name": "python"
  }
 },
 "nbformat": 4,
 "nbformat_minor": 0
}
