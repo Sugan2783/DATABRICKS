{
 "cells": [
  {
   "cell_type": "code",
   "execution_count": 0,
   "metadata": {
    "application/vnd.databricks.v1+cell": {
     "cellMetadata": {},
     "inputWidgets": {},
     "nuid": "2d31cea7-bb4e-4ca8-a3b5-df6406231a99",
     "showTitle": false,
     "tableResultSettingsMap": {},
     "title": ""
    }
   },
   "outputs": [],
   "source": [
    "import dlt"
   ]
  },
  {
   "cell_type": "markdown",
   "metadata": {
    "application/vnd.databricks.v1+cell": {
     "cellMetadata": {},
     "inputWidgets": {},
     "nuid": "224b4a3c-52ae-4b26-b6d6-e785f213a899",
     "showTitle": false,
     "tableResultSettingsMap": {},
     "title": ""
    }
   },
   "source": [
    "create stream table for orders"
   ]
  },
  {
   "cell_type": "code",
   "execution_count": 0,
   "metadata": {
    "application/vnd.databricks.v1+cell": {
     "cellMetadata": {},
     "inputWidgets": {},
     "nuid": "07109782-c06d-46a5-b597-454a10348a46",
     "showTitle": false,
     "tableResultSettingsMap": {},
     "title": ""
    }
   },
   "outputs": [],
   "source": [
    "@dlt.table(\n",
    "    table_properties = {\"quality\" : \"bronze\"},\n",
    "    comment = \"order bronze table\"\n",
    ")\n",
    "def orders_bronze():\n",
    "    df = spark.readStream.table(\"dev.bronze.orders_raw\")\n",
    "    return df"
   ]
  },
  {
   "cell_type": "markdown",
   "metadata": {
    "application/vnd.databricks.v1+cell": {
     "cellMetadata": {},
     "inputWidgets": {},
     "nuid": "d6f1f590-7193-4c14-ab76-80686691e03f",
     "showTitle": false,
     "tableResultSettingsMap": {},
     "title": ""
    }
   },
   "source": [
    "**materialized_view**"
   ]
  },
  {
   "cell_type": "code",
   "execution_count": 0,
   "metadata": {
    "application/vnd.databricks.v1+cell": {
     "cellMetadata": {},
     "inputWidgets": {},
     "nuid": "99701434-dd4c-452d-9009-7df9e8379d19",
     "showTitle": false,
     "tableResultSettingsMap": {},
     "title": ""
    }
   },
   "outputs": [],
   "source": [
    "@dlt.table(\n",
    "    table_properties = {\"quality\" : \"bronze\"},\n",
    "    comment = \"Customer bronze table\",\n",
    "    name = \"customer_bronze\"\n",
    ")\n",
    "def cust_bronze():\n",
    "    df = spark.read.table(\"dev.bronze.customer_raw\")\n",
    "    return df"
   ]
  },
  {
   "cell_type": "markdown",
   "metadata": {
    "application/vnd.databricks.v1+cell": {
     "cellMetadata": {},
     "inputWidgets": {},
     "nuid": "e61beef9-9a4c-430d-add7-aeaeff098d74",
     "showTitle": false,
     "tableResultSettingsMap": {},
     "title": ""
    }
   },
   "source": [
    "**dlt view**"
   ]
  },
  {
   "cell_type": "code",
   "execution_count": 0,
   "metadata": {
    "application/vnd.databricks.v1+cell": {
     "cellMetadata": {},
     "inputWidgets": {},
     "nuid": "8b78860c-1eef-440a-96f4-474f22ac9b75",
     "showTitle": false,
     "tableResultSettingsMap": {},
     "title": ""
    }
   },
   "outputs": [],
   "source": [
    "@dlt.view(\n",
    "    comment = \"joined view\"\n",
    "    )\n",
    "def joined_vw():\n",
    "    df_c = spark.read.table(\"LIVE.customer_bronze\")\n",
    "    df_o = spark.read.table(\"LIVE.orders_bronze\")\n",
    "\n",
    "    df_join = df_o.join(df_c, df_o.o_custkey == df_c.c_custkey, \"left_outer\")\n",
    "\n",
    "    return df_join"
   ]
  },
  {
   "cell_type": "markdown",
   "metadata": {
    "application/vnd.databricks.v1+cell": {
     "cellMetadata": {},
     "inputWidgets": {},
     "nuid": "2b012833-ac91-4d64-a182-0fb2ca1ca7a2",
     "showTitle": false,
     "tableResultSettingsMap": {},
     "title": ""
    }
   },
   "source": [
    "create MV to ADD NEW COLUMN"
   ]
  },
  {
   "cell_type": "code",
   "execution_count": 0,
   "metadata": {
    "application/vnd.databricks.v1+cell": {
     "cellMetadata": {},
     "inputWidgets": {},
     "nuid": "3a8db30f-9764-4189-ad54-52ebc281bf5f",
     "showTitle": false,
     "tableResultSettingsMap": {},
     "title": ""
    }
   },
   "outputs": [],
   "source": [
    "from pyspark.sql.functions import current_timestamp, count"
   ]
  },
  {
   "cell_type": "code",
   "execution_count": 0,
   "metadata": {
    "application/vnd.databricks.v1+cell": {
     "cellMetadata": {},
     "inputWidgets": {},
     "nuid": "3eb39e5c-098c-4bd5-9c83-f6eff2a0e75c",
     "showTitle": false,
     "tableResultSettingsMap": {},
     "title": ""
    }
   },
   "outputs": [],
   "source": [
    "@dlt.table(\n",
    "    table_properties = {\"quality\" : \"silver\"},\n",
    "    comment = \"joined table\",\n",
    "    name = \"joined_silver\"\n",
    ")\n",
    "def joined_silver():\n",
    "    df = spark.read.table(\"LIVE.joined_vw\").withColumn(\"__insert_date\", current_timestamp())\n",
    "    return df"
   ]
  },
  {
   "cell_type": "markdown",
   "metadata": {
    "application/vnd.databricks.v1+cell": {
     "cellMetadata": {},
     "inputWidgets": {},
     "nuid": "5877980a-081d-4605-821e-464a5232f844",
     "showTitle": false,
     "tableResultSettingsMap": {},
     "title": ""
    }
   },
   "source": [
    "aggregate based on c_mktsegment and find the count of order"
   ]
  },
  {
   "cell_type": "code",
   "execution_count": 0,
   "metadata": {
    "application/vnd.databricks.v1+cell": {
     "cellMetadata": {},
     "inputWidgets": {},
     "nuid": "5cbdef5e-9563-43c9-8bed-35a61c5599e5",
     "showTitle": false,
     "tableResultSettingsMap": {},
     "title": ""
    }
   },
   "outputs": [],
   "source": [
    "@dlt.table(\n",
    "    table_properties={\"quality\": \"gold\"},\n",
    "    comment=\"orders aggregated table\"\n",
    ")\n",
    "def orders_agg_gold():\n",
    "    df = spark.read.table(\"LIVE.joined_silver\")\n",
    "\n",
    "    df_final = df.groupBy(\"c_mktsegment\").agg(count(\"o_orderkey\").alias(\"total_orders\")).withColumn(\"__insert_date\", current_timestamp())\n",
    "\n",
    "    return df_final"
   ]
  }
 ],
 "metadata": {
  "application/vnd.databricks.v1+notebook": {
   "computePreferences": null,
   "dashboards": [],
   "environmentMetadata": {
    "base_environment": "",
    "environment_version": "3"
   },
   "inputWidgetPreferences": null,
   "language": "python",
   "notebookMetadata": {
    "pythonIndentUnit": 4
   },
   "notebookName": "(Clone) 01_DLT_INTRO",
   "widgets": {}
  },
  "language_info": {
   "name": "python"
  }
 },
 "nbformat": 4,
 "nbformat_minor": 0
}
