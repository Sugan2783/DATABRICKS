{
 "cells": [
  {
   "cell_type": "code",
   "execution_count": 0,
   "metadata": {
    "application/vnd.databricks.v1+cell": {
     "cellMetadata": {
      "byteLimit": 2048000,
      "rowLimit": 10000
     },
     "inputWidgets": {},
     "nuid": "acda7a33-40e5-42d3-bec6-ed13060ecb6c",
     "showTitle": false,
     "tableResultSettingsMap": {},
     "title": ""
    }
   },
   "outputs": [],
   "source": [
    "mult =lambda c : c**2\n",
    "print(mult(6))"
   ]
  },
  {
   "cell_type": "code",
   "execution_count": 0,
   "metadata": {
    "application/vnd.databricks.v1+cell": {
     "cellMetadata": {
      "byteLimit": 2048000,
      "rowLimit": 10000
     },
     "inputWidgets": {},
     "nuid": "6841a55e-5d76-4185-a91e-b8a64ffb15d4",
     "showTitle": false,
     "tableResultSettingsMap": {},
     "title": ""
    }
   },
   "outputs": [],
   "source": [
    "c = [2,3,4,5,6]\n",
    "for i in c:\n",
    "    mult =lambda c : c**2\n",
    "    print(mult(i), end = ' ')"
   ]
  },
  {
   "cell_type": "code",
   "execution_count": 0,
   "metadata": {
    "application/vnd.databricks.v1+cell": {
     "cellMetadata": {
      "byteLimit": 2048000,
      "rowLimit": 10000
     },
     "inputWidgets": {},
     "nuid": "63fd39fa-2a58-4b4c-81fd-c3300e0f77ea",
     "showTitle": false,
     "tableResultSettingsMap": {},
     "title": ""
    }
   },
   "outputs": [],
   "source": [
    "c = [2,3,4,5,6]\n",
    "mult =map(lambda c : c**2,c)\n",
    "print(mult, end = ' ')"
   ]
  },
  {
   "cell_type": "code",
   "execution_count": 0,
   "metadata": {
    "application/vnd.databricks.v1+cell": {
     "cellMetadata": {
      "byteLimit": 2048000,
      "rowLimit": 10000
     },
     "inputWidgets": {},
     "nuid": "f6ef1f2c-82f1-452b-88ec-d3d73d63cf95",
     "showTitle": false,
     "tableResultSettingsMap": {},
     "title": ""
    }
   },
   "outputs": [],
   "source": [
    "c = [2, 3, 4, 5, 6]\n",
    "mult = map(\n",
    "    lambda x: x**2,\n",
    "    c\n",
    ")\n",
    "for val in mult:\n",
    "    print(val, end=' ')"
   ]
  },
  {
   "cell_type": "code",
   "execution_count": 0,
   "metadata": {
    "application/vnd.databricks.v1+cell": {
     "cellMetadata": {
      "byteLimit": 2048000,
      "rowLimit": 10000
     },
     "inputWidgets": {},
     "nuid": "198d076f-96be-4c60-bad1-053b6a4acc11",
     "showTitle": false,
     "tableResultSettingsMap": {},
     "title": ""
    }
   },
   "outputs": [],
   "source": [
    "data = [\n",
    "    (1, \"Alice\", 23),\n",
    "    (2, \"Bob\", 30),\n",
    "    (3, \"Charlie\", 25),\n",
    "    (4, \"David\", 35),\n",
    "    (5, \"Eva\", 28)\n",
    "]\n",
    "\n",
    "columns = [\"id\", \"name\", \"age\"]\n",
    "\n",
    "df_emp = spark.createDataFrame(data, columns)\n",
    "display(df)"
   ]
  },
  {
   "cell_type": "code",
   "execution_count": 0,
   "metadata": {
    "application/vnd.databricks.v1+cell": {
     "cellMetadata": {
      "byteLimit": 2048000,
      "rowLimit": 10000
     },
     "inputWidgets": {},
     "nuid": "5ce52eac-caec-4491-a8c2-168a09ca26f8",
     "showTitle": false,
     "tableResultSettingsMap": {},
     "title": ""
    }
   },
   "outputs": [],
   "source": [
    "def age_val(df, column):\n",
    "    \n",
    "    column = df.select(column)\n",
    "    print(column)\n",
    "\n",
    "    x = df.columns\n",
    "    print(x)\n",
    "    \n",
    "    df = df.rdd.map(lambda x: x+1)\n",
    "    return df\n",
    "\n",
    "df = age_val(df_emp, \"age\")\n",
    "display(df)"
   ]
  },
  {
   "cell_type": "code",
   "execution_count": 0,
   "metadata": {
    "application/vnd.databricks.v1+cell": {
     "cellMetadata": {
      "byteLimit": 2048000,
      "rowLimit": 10000
     },
     "inputWidgets": {},
     "nuid": "8c749c70-1dbe-46b7-8a4c-ab5ca95f9892",
     "showTitle": false,
     "tableResultSettingsMap": {},
     "title": ""
    }
   },
   "outputs": [],
   "source": [
    "def age_val(df, column):\n",
    "    # Select the column and print its DataFrame\n",
    "    col_df = df.select(column)\n",
    "    print(col_df)\n",
    "\n",
    "    # Print all column names\n",
    "    print(df.columns)\n",
    "\n",
    "    # Increment the specified column by 1 using DataFrame API\n",
    "    df_new = df.withColumn(\n",
    "        column,\n",
    "        df[column] + 1\n",
    "    )\n",
    "    return df_new\n",
    "\n",
    "df = age_val(df_emp, \"age\")\n",
    "display(df)"
   ]
  },
  {
   "cell_type": "code",
   "execution_count": 0,
   "metadata": {
    "application/vnd.databricks.v1+cell": {
     "cellMetadata": {
      "byteLimit": 2048000,
      "rowLimit": 10000
     },
     "inputWidgets": {},
     "nuid": "329e719f-d572-4893-b748-fd74d7cbbf39",
     "showTitle": false,
     "tableResultSettingsMap": {},
     "title": ""
    }
   },
   "outputs": [],
   "source": [
    "from pyspark.sql.functions import *\n",
    "\n",
    "def age_val(df, column, column1):\n",
    "    # Select the column and print its DataFrame\n",
    "    col_df = df.select(column)\n",
    "    print(col_df)\n",
    "\n",
    "    # Print all column names\n",
    "    print(df.columns)\n",
    "\n",
    "    # Increment the specified column by 1 using DataFrame API\n",
    "    df_new = df.withColumn(\n",
    "        column,\n",
    "        df[column] + 1\n",
    "    ).withColumn(\n",
    "        column1,\n",
    "        upper(df[column1])\n",
    "    )\n",
    "    return df_new\n",
    "\n",
    "df = age_val(df_emp, \"age\",\"name\")\n",
    "display(df)"
   ]
  },
  {
   "cell_type": "code",
   "execution_count": 0,
   "metadata": {
    "application/vnd.databricks.v1+cell": {
     "cellMetadata": {
      "byteLimit": 2048000,
      "rowLimit": 10000
     },
     "inputWidgets": {},
     "nuid": "86700c40-72e6-4f9f-9d1d-f0d65b4595ab",
     "showTitle": false,
     "tableResultSettingsMap": {},
     "title": ""
    }
   },
   "outputs": [],
   "source": [
    "from pyspark.sql.functions import upper\n",
    "\n",
    "def age_val(df, column, column1):\n",
    "    col_df = df.select(column)\n",
    "    print(col_df)\n",
    "    print(df.columns)\n",
    "    df_new = df.withColumn(\n",
    "        column,\n",
    "        df[column] + 1\n",
    "    ).withColumn(\n",
    "        column1,\n",
    "        concat_ws(\"*** \", upper(df[column1]),lower(df[column1]))\n",
    "    )\n",
    "    return df_new\n",
    "\n",
    "df = age_val(df_emp, \"age\", \"name\")\n",
    "display(df)"
   ]
  },
  {
   "cell_type": "code",
   "execution_count": 0,
   "metadata": {
    "application/vnd.databricks.v1+cell": {
     "cellMetadata": {
      "byteLimit": 2048000,
      "rowLimit": 10000
     },
     "inputWidgets": {},
     "nuid": "5167e866-cfcf-4130-a178-150209b33f9f",
     "showTitle": false,
     "tableResultSettingsMap": {},
     "title": ""
    }
   },
   "outputs": [],
   "source": [
    "from pyspark.sql.functions import lit\n",
    "\n",
    "def age_val(df, column, column1):\n",
    "    print(df.columns)\n",
    "    df_new = df.withColumn(\n",
    "        column,\n",
    "        df[column] + 1\n",
    "    ).withColumn(\n",
    "        column1,\n",
    "        concat_ws(\"*** \", upper(df[column1]), lower(df[column1]))\n",
    "    ).withColumn(\n",
    "        \"new_column\",  # Name of the new column\n",
    "        regexp_replace(df[column1], r\"^[A-Za-z]\", \"*\")  # Example: static value, replace as needed\n",
    "    )\n",
    "    return df_new\n",
    "\n",
    "df = age_val(df_emp, \"age\", \"name\")\n",
    "display(df)"
   ]
  },
  {
   "cell_type": "code",
   "execution_count": 0,
   "metadata": {
    "application/vnd.databricks.v1+cell": {
     "cellMetadata": {
      "byteLimit": 2048000,
      "rowLimit": 10000
     },
     "inputWidgets": {},
     "nuid": "bff4ba87-577f-44e7-b16e-e020e05a20b7",
     "showTitle": false,
     "tableResultSettingsMap": {},
     "title": ""
    }
   },
   "outputs": [],
   "source": [
    "check = lambda i: i in \"python\"\n",
    "print(check(\"e\"))"
   ]
  },
  {
   "cell_type": "code",
   "execution_count": 0,
   "metadata": {
    "application/vnd.databricks.v1+cell": {
     "cellMetadata": {
      "byteLimit": 2048000,
      "rowLimit": 10000
     },
     "inputWidgets": {},
     "nuid": "6ef7847e-d9a5-48fa-b839-3739ab3a2ca0",
     "showTitle": false,
     "tableResultSettingsMap": {},
     "title": ""
    }
   },
   "outputs": [],
   "source": [
    "prices = ['$12.00', '$78.90', '$3.50', '$100.00', '$5.00']\n",
    "filtered_prices = lambda p : [float(p.replace('$', '')) for p in p]\n",
    "print(filtered_prices(prices))"
   ]
  },
  {
   "cell_type": "code",
   "execution_count": 0,
   "metadata": {
    "application/vnd.databricks.v1+cell": {
     "cellMetadata": {
      "byteLimit": 2048000,
      "rowLimit": 10000
     },
     "inputWidgets": {},
     "nuid": "bddf361b-1efe-4288-a565-75b06ff8ed85",
     "showTitle": false,
     "tableResultSettingsMap": {},
     "title": ""
    }
   },
   "outputs": [],
   "source": [
    "prices = ['$12.00', '$78.90'   , '$3.50', '$100.00', '$5.00']\n",
    "filtered_prices = lambda p : [float(p.replace('$', '')) for p in prices]\n",
    "print(filtered_prices(prices))"
   ]
  },
  {
   "cell_type": "code",
   "execution_count": 0,
   "metadata": {
    "application/vnd.databricks.v1+cell": {
     "cellMetadata": {
      "byteLimit": 2048000,
      "rowLimit": 10000
     },
     "inputWidgets": {},
     "nuid": "fbc32914-04ea-4b28-83ed-b417d2e2054c",
     "showTitle": false,
     "tableResultSettingsMap": {},
     "title": ""
    }
   },
   "outputs": [],
   "source": [
    "prices = ['$12.00', '$78.90   ', '$3.50', '$100.00', '$5.00']\n",
    "filtered_prices = lambda p : [p.rpad(p, '') for p in prices]\n",
    "print(filtered_prices(prices))"
   ]
  },
  {
   "cell_type": "code",
   "execution_count": 0,
   "metadata": {
    "application/vnd.databricks.v1+cell": {
     "cellMetadata": {
      "byteLimit": 2048000,
      "rowLimit": 10000
     },
     "inputWidgets": {},
     "nuid": "6cf86c79-a233-4d42-a33e-f961204ca465",
     "showTitle": false,
     "tableResultSettingsMap": {},
     "title": ""
    }
   },
   "outputs": [],
   "source": [
    "prices = ['$12.00', '$78.90', '$3.50', '$100.00', '$5.00']\n",
    "filtered_prices = list(map(lambda p : float(p.replace('$', '')),prices))\n",
    "print(filtered_prices)"
   ]
  },
  {
   "cell_type": "code",
   "execution_count": 0,
   "metadata": {
    "application/vnd.databricks.v1+cell": {
     "cellMetadata": {
      "byteLimit": 2048000,
      "rowLimit": 10000
     },
     "inputWidgets": {},
     "nuid": "b3354600-ee75-4494-a593-f3f79a0b4395",
     "showTitle": false,
     "tableResultSettingsMap": {},
     "title": ""
    }
   },
   "outputs": [],
   "source": [
    "prices = [\n",
    "    '$12.00',\n",
    "    '$78.90',\n",
    "    '$3.50',\n",
    "    '$100.00',\n",
    "    '$5.00'\n",
    "]\n",
    "filtered_prices = list(\n",
    "    map(\n",
    "        lambda p: float(p.replace('$', '')),\n",
    "        prices\n",
    "    )\n",
    ")\n",
    "print(filtered_prices)"
   ]
  },
  {
   "cell_type": "code",
   "execution_count": 0,
   "metadata": {
    "application/vnd.databricks.v1+cell": {
     "cellMetadata": {
      "byteLimit": 2048000,
      "rowLimit": 10000
     },
     "inputWidgets": {},
     "nuid": "f8bd2402-6f80-46ff-b028-25130c75ddd1",
     "showTitle": false,
     "tableResultSettingsMap": {},
     "title": ""
    }
   },
   "outputs": [],
   "source": [
    "students = [[\"Maia\", 85], [\"James\", 90], [\"John\", 70], [\"Jane\", 80], [\"Jack\", 95]]\n",
    "print(list(filter(lambda row: row[1] > 80, students)))\n"
   ]
  },
  {
   "cell_type": "code",
   "execution_count": 0,
   "metadata": {
    "application/vnd.databricks.v1+cell": {
     "cellMetadata": {},
     "inputWidgets": {},
     "nuid": "9ff38b03-91f5-44e5-89a6-3ed26da8d4b3",
     "showTitle": false,
     "tableResultSettingsMap": {},
     "title": ""
    }
   },
   "outputs": [],
   "source": [
    "students = [\n",
    "    [\"Maia\", 85],\n",
    "    [\"James\", 90],\n",
    "    [\"John\", 70],\n",
    "    [\"Jane\", 80],\n",
    "    [\"Jack\", 95]\n",
    "]\n",
    "filtered_students = [row for row in students if row[1] > 80]\n",
    "display(filtered_students)"
   ]
  },
  {
   "cell_type": "code",
   "execution_count": 0,
   "metadata": {
    "application/vnd.databricks.v1+cell": {
     "cellMetadata": {
      "byteLimit": 2048000,
      "rowLimit": 10000
     },
     "inputWidgets": {},
     "nuid": "6d0d75b1-2be7-46e5-a357-6abddcd1a2fc",
     "showTitle": false,
     "tableResultSettingsMap": {},
     "title": ""
    }
   },
   "outputs": [],
   "source": [
    "students = [\n",
    "    [\"Maia\", 85],\n",
    "    [\"James\", 90],\n",
    "    [\"John\", 70],\n",
    "    [\"Jane\", 80],\n",
    "    [\"Jack\", 95]\n",
    "]\n",
    "ma_score = list(\n",
    "    map(lambda row: [row[0].startswith(\"J\")],students)\n",
    ")\n",
    "print(ma_score)"
   ]
  },
  {
   "cell_type": "code",
   "execution_count": 0,
   "metadata": {
    "application/vnd.databricks.v1+cell": {
     "cellMetadata": {
      "byteLimit": 2048000,
      "rowLimit": 10000
     },
     "inputWidgets": {},
     "nuid": "a2a05043-7173-4ccf-8b44-5e4c3284d68f",
     "showTitle": false,
     "tableResultSettingsMap": {},
     "title": ""
    }
   },
   "outputs": [],
   "source": [
    "students = [\n",
    "    [\"Maia\", 85],\n",
    "    [\"James\", 90],\n",
    "    [\"John\", 70],\n",
    "    [\"Jane\", 80],\n",
    "    [\"Jack\", 95]\n",
    "]\n",
    "print(list(\n",
    "    filter(lambda row: row[0].startswith(\"J\"),students\n",
    ")))\n"
   ]
  },
  {
   "cell_type": "code",
   "execution_count": 0,
   "metadata": {
    "application/vnd.databricks.v1+cell": {
     "cellMetadata": {
      "byteLimit": 2048000,
      "rowLimit": 10000
     },
     "inputWidgets": {},
     "nuid": "a6910483-51b9-4d25-803f-df658a502f96",
     "showTitle": false,
     "tableResultSettingsMap": {},
     "title": ""
    }
   },
   "outputs": [],
   "source": [
    "students = [\n",
    "    [\"Maia\", 85],\n",
    "    [\"James\", 90],\n",
    "    [\"John\", 70],\n",
    "    [\"Jane\", 80],\n",
    "    [\"Jack\", 95]\n",
    "]\n",
    "result = [row for row in students if row[0].startswith(\"J\")]\n",
    "display(result)"
   ]
  }
 ],
 "metadata": {
  "application/vnd.databricks.v1+notebook": {
   "computePreferences": {
    "hardware": {
     "accelerator": null,
     "gpuPoolId": null,
     "memory": null
    }
   },
   "dashboards": [],
   "environmentMetadata": {
    "base_environment": "",
    "environment_version": "4"
   },
   "inputWidgetPreferences": null,
   "language": "python",
   "notebookMetadata": {
    "pythonIndentUnit": 4
   },
   "notebookName": "LAMBDA",
   "widgets": {}
  },
  "language_info": {
   "name": "python"
  }
 },
 "nbformat": 4,
 "nbformat_minor": 0
}
