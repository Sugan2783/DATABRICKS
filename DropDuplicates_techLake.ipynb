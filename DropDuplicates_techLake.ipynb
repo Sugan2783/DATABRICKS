{
 "cells": [
  {
   "cell_type": "code",
   "execution_count": 0,
   "metadata": {
    "application/vnd.databricks.v1+cell": {
     "cellMetadata": {
      "byteLimit": 2048000,
      "rowLimit": 10000
     },
     "inputWidgets": {},
     "nuid": "6bd5264e-dce7-4e3a-85d9-1fdb4b480fc7",
     "showTitle": false,
     "tableResultSettingsMap": {},
     "title": ""
    }
   },
   "outputs": [],
   "source": [
    "\n",
    "dbutils.fs.put('/Volumes/workspace/default/emp/duplicates.csv',\"\"\"id,name,loc,updated_date\n",
    "1,ravi,bangalore,2021-01-01\n",
    "1,ravi,chennai,2022-02-02\n",
    "1,ravi,Hyderabad,2022-06-10\n",
    "2,Raj,bangalore,2021-01-01\n",
    "2,Raj,chennai,2022-02-02\n",
    "3,Raj,Hyderabad,2022-06-10\n",
    "4,Prasad,bangalore,2021-01-01\n",
    "5,Mahesh,chennai,2022-02-02\n",
    "4,Prasad,Hyderabad,2022-06-10\n",
    "\"\"\")"
   ]
  },
  {
   "cell_type": "code",
   "execution_count": 0,
   "metadata": {
    "application/vnd.databricks.v1+cell": {
     "cellMetadata": {},
     "inputWidgets": {},
     "nuid": "1a914c01-68d1-4239-a1ca-4924a81f1fbb",
     "showTitle": false,
     "tableResultSettingsMap": {},
     "title": ""
    }
   },
   "outputs": [],
   "source": []
  },
  {
   "cell_type": "code",
   "execution_count": 0,
   "metadata": {
    "application/vnd.databricks.v1+cell": {
     "cellMetadata": {},
     "inputWidgets": {},
     "nuid": "0cfde1c4-236b-4bf7-b0eb-5de0ba4f2bdf",
     "showTitle": false,
     "tableResultSettingsMap": {},
     "title": ""
    }
   },
   "outputs": [],
   "source": []
  }
 ],
 "metadata": {
  "application/vnd.databricks.v1+notebook": {
   "computePreferences": null,
   "dashboards": [],
   "environmentMetadata": {
    "base_environment": "",
    "environment_version": "2"
   },
   "inputWidgetPreferences": null,
   "language": "python",
   "notebookMetadata": {
    "pythonIndentUnit": 4
   },
   "notebookName": "DropDuplicates_techLake",
   "widgets": {}
  },
  "language_info": {
   "name": "python"
  }
 },
 "nbformat": 4,
 "nbformat_minor": 0
}
